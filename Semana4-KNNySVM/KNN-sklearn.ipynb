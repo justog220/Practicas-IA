{
 "cells": [
  {
   "cell_type": "markdown",
   "id": "e47df80f-fa48-4655-914c-ed875b04858e",
   "metadata": {
    "id": "e47df80f-fa48-4655-914c-ed875b04858e"
   },
   "source": [
    "## KNN usando _scikit-Learn_"
   ]
  },
  {
   "cell_type": "code",
   "execution_count": 1,
   "id": "71e81b3e-2d74-4b07-8578-149b5928f4dc",
   "metadata": {
    "executionInfo": {
     "elapsed": 2096,
     "status": "ok",
     "timestamp": 1680544036089,
     "user": {
      "displayName": "Justo Garcia",
      "userId": "08453251237348739855"
     },
     "user_tz": 180
    },
    "id": "71e81b3e-2d74-4b07-8578-149b5928f4dc"
   },
   "outputs": [],
   "source": [
    "import numpy as np\n",
    "import pandas as pd\n",
    "import seaborn as sns\n",
    "import matplotlib.pyplot as plt\n",
    "from sklearn.datasets import load_iris\n",
    "from sklearn.model_selection import train_test_split"
   ]
  },
  {
   "cell_type": "code",
   "execution_count": 2,
   "id": "39f226ba-de54-4c62-9c8c-063643d0fa7a",
   "metadata": {
    "colab": {
     "base_uri": "https://localhost:8080/"
    },
    "executionInfo": {
     "elapsed": 10,
     "status": "ok",
     "timestamp": 1680544036090,
     "user": {
      "displayName": "Justo Garcia",
      "userId": "08453251237348739855"
     },
     "user_tz": 180
    },
    "id": "39f226ba-de54-4c62-9c8c-063643d0fa7a",
    "outputId": "7563c830-4c20-4149-9136-048038e8deb9"
   },
   "outputs": [
    {
     "data": {
      "text/plain": [
       "(45, 2)"
      ]
     },
     "execution_count": 2,
     "metadata": {},
     "output_type": "execute_result"
    }
   ],
   "source": [
    "df_iris = load_iris(as_frame=True).frame\n",
    "\n",
    "X = df_iris[['petal length (cm)', 'petal width (cm)']]\n",
    "y = df_iris.target \n",
    "\n",
    "X_train, X_test, y_train, y_test = train_test_split(X, y, test_size=0.3, shuffle=True, random_state=1,  stratify = y)\n",
    "X_test.shape"
   ]
  },
  {
   "cell_type": "code",
   "execution_count": null,
   "id": "e5a6a509-e1a2-4f63-b9f1-d87a988904df",
   "metadata": {
    "id": "e5a6a509-e1a2-4f63-b9f1-d87a988904df"
   },
   "outputs": [],
   "source": [
    "# Normalización de los datos\n",
    "from sklearn.preprocessing import StandardScaler\n",
    "\n",
    "sc = StandardScaler()\n",
    "sc.fit(X_train)                     \n",
    "X_train_std = sc.transform(X_train) \n",
    "X_test_std = sc.transform(X_test)   "
   ]
  },
  {
   "cell_type": "code",
   "execution_count": null,
   "id": "820b1a58-f62a-4c5b-a0f1-be625c40bb9b",
   "metadata": {
    "id": "820b1a58-f62a-4c5b-a0f1-be625c40bb9b"
   },
   "outputs": [],
   "source": [
    "import matplotlib.pyplot as plt\n",
    "from matplotlib.colors import ListedColormap\n",
    "\n",
    "def plot_decision_regions(X, y, clasificador, test_idx=None, resolution=0.02):\n",
    "    \n",
    "    # setup marker generator and color map\n",
    "    markers = ('s', 'o', '^', 'v', 'x')\n",
    "    colors = ('red', 'blue', 'lightgreen', 'gray', 'cyan')\n",
    "    cmap = ListedColormap(colors[:len(np.unique(y))])\n",
    "\n",
    "    # plot the decision surface\n",
    "    x1_min, x1_max = X[:, 0].min() - 1, X[:, 0].max() + 1\n",
    "    x2_min, x2_max = X[:, 1].min() - 1, X[:, 1].max() + 1\n",
    "\n",
    "    \n",
    "    xx1, xx2 = np.meshgrid(np.arange(x1_min, x1_max, resolution),\n",
    "                           np.arange(x2_min, x2_max, resolution))\n",
    "    \n",
    "    Z = clasificador.predict(np.array([xx1.ravel(), xx2.ravel()]).T)\n",
    "\n",
    "    Z = Z.reshape(xx1.shape)\n",
    "\n",
    "    plt.contourf(xx1, xx2, Z, alpha=0.3, cmap=cmap)\n",
    "    plt.xlim(xx1.min(), xx1.max())\n",
    "    plt.ylim(xx2.min(), xx2.max())\n",
    "\n",
    "    for idx, cl in enumerate(np.unique(y)):\n",
    "        plt.scatter(x=X[y == cl, 0], \n",
    "                    y=X[y == cl, 1],\n",
    "                    alpha=0.8, \n",
    "                    c=colors[idx],\n",
    "                    marker=markers[idx], \n",
    "                    label=cl, \n",
    "                    edgecolor='black')\n",
    "\n",
    "    # highlight test samples\n",
    "    if test_idx:\n",
    "        # plot all samples\n",
    "        X_test, y_test = X[test_idx, :], y[test_idx]\n",
    "\n",
    "        plt.scatter(X_test[:, 0],\n",
    "                    X_test[:, 1],\n",
    "                    c=\"None\",\n",
    "                    edgecolor='black',\n",
    "                    alpha=1,\n",
    "                    linewidth=1,\n",
    "                    marker='o',\n",
    "                    s=100, \n",
    "                    label='test set')"
   ]
  },
  {
   "cell_type": "markdown",
   "id": "oqX6vLgA0L3N",
   "metadata": {
    "id": "oqX6vLgA0L3N"
   },
   "source": [
    "### Utilice la clase [KNeighborsClassifier](https://scikit-learn.org/stable/modules/generated/sklearn.neighbors.KNeighborsClassifier.html) de scikit learn y grafique la región de decisión como en la notebook _Algoritmo_KNN_. Evalúe el modelo con los datos de prueba usando el método score de KNeighborsClassifier."
   ]
  }
 ],
 "metadata": {
  "colab": {
   "provenance": []
  },
  "kernelspec": {
   "display_name": "Python 3 (ipykernel)",
   "language": "python",
   "name": "python3"
  },
  "language_info": {
   "codemirror_mode": {
    "name": "ipython",
    "version": 3
   },
   "file_extension": ".py",
   "mimetype": "text/x-python",
   "name": "python",
   "nbconvert_exporter": "python",
   "pygments_lexer": "ipython3",
   "version": "3.10.6"
  }
 },
 "nbformat": 4,
 "nbformat_minor": 5
}
