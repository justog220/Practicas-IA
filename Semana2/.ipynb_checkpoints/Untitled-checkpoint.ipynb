{
 "cells": [
  {
   "cell_type": "markdown",
   "id": "04959b70-926a-4859-8745-c2bf8981d0b2",
   "metadata": {},
   "source": [
    "# Tratamiento de dataset Diabetes\n",
    "\n",
    "Se se reemplaza el valor de los datos faltantes."
   ]
  },
  {
   "cell_type": "code",
   "execution_count": 17,
   "id": "2d4c638c-7fc5-4446-9102-5332b56538fc",
   "metadata": {},
   "outputs": [
    {
     "name": "stdout",
     "output_type": "stream",
     "text": [
      "<class 'pandas.core.frame.DataFrame'>\n",
      "RangeIndex: 768 entries, 0 to 767\n",
      "Data columns (total 10 columns):\n",
      " #   Column                    Non-Null Count  Dtype  \n",
      "---  ------                    --------------  -----  \n",
      " 0   Unnamed: 0                768 non-null    int64  \n",
      " 1   Pregnancies               768 non-null    int64  \n",
      " 2   Glucose                   768 non-null    int64  \n",
      " 3   BloodPressure             767 non-null    float64\n",
      " 4   SkinThickness             756 non-null    float64\n",
      " 5   Insulin                   763 non-null    float64\n",
      " 6   BMI                       767 non-null    float64\n",
      " 7   DiabetesPedigreeFunction  768 non-null    float64\n",
      " 8   Age                       768 non-null    int64  \n",
      " 9   Outcome                   768 non-null    int64  \n",
      "dtypes: float64(5), int64(5)\n",
      "memory usage: 60.1 KB\n"
     ]
    }
   ],
   "source": [
    "import pandas as pd\n",
    "import numpy as np\n",
    "\n",
    "df_diabetes = pd.read_csv(\"data/diabetes.csv\")\n",
    "df_diabetes.info()"
   ]
  },
  {
   "cell_type": "code",
   "execution_count": 18,
   "id": "b0d470e6-0d8d-4c3d-9eb1-48cfae56f5c8",
   "metadata": {},
   "outputs": [
    {
     "data": {
      "text/html": [
       "<div>\n",
       "<style scoped>\n",
       "    .dataframe tbody tr th:only-of-type {\n",
       "        vertical-align: middle;\n",
       "    }\n",
       "\n",
       "    .dataframe tbody tr th {\n",
       "        vertical-align: top;\n",
       "    }\n",
       "\n",
       "    .dataframe thead th {\n",
       "        text-align: right;\n",
       "    }\n",
       "</style>\n",
       "<table border=\"1\" class=\"dataframe\">\n",
       "  <thead>\n",
       "    <tr style=\"text-align: right;\">\n",
       "      <th></th>\n",
       "      <th>Unnamed: 0</th>\n",
       "      <th>Pregnancies</th>\n",
       "      <th>Glucose</th>\n",
       "      <th>BloodPressure</th>\n",
       "      <th>SkinThickness</th>\n",
       "      <th>Insulin</th>\n",
       "      <th>BMI</th>\n",
       "      <th>DiabetesPedigreeFunction</th>\n",
       "      <th>Age</th>\n",
       "      <th>Outcome</th>\n",
       "    </tr>\n",
       "  </thead>\n",
       "  <tbody>\n",
       "    <tr>\n",
       "      <th>count</th>\n",
       "      <td>768.000000</td>\n",
       "      <td>768.000000</td>\n",
       "      <td>768.000000</td>\n",
       "      <td>767.000000</td>\n",
       "      <td>756.000000</td>\n",
       "      <td>763.000000</td>\n",
       "      <td>767.000000</td>\n",
       "      <td>768.000000</td>\n",
       "      <td>768.000000</td>\n",
       "      <td>768.000000</td>\n",
       "    </tr>\n",
       "    <tr>\n",
       "      <th>mean</th>\n",
       "      <td>383.500000</td>\n",
       "      <td>3.845052</td>\n",
       "      <td>120.894531</td>\n",
       "      <td>69.195567</td>\n",
       "      <td>20.862434</td>\n",
       "      <td>80.322412</td>\n",
       "      <td>32.034289</td>\n",
       "      <td>0.471876</td>\n",
       "      <td>33.240885</td>\n",
       "      <td>0.348958</td>\n",
       "    </tr>\n",
       "    <tr>\n",
       "      <th>std</th>\n",
       "      <td>221.846794</td>\n",
       "      <td>3.369578</td>\n",
       "      <td>31.972618</td>\n",
       "      <td>19.206609</td>\n",
       "      <td>15.865314</td>\n",
       "      <td>115.439459</td>\n",
       "      <td>7.804050</td>\n",
       "      <td>0.331329</td>\n",
       "      <td>11.760232</td>\n",
       "      <td>0.476951</td>\n",
       "    </tr>\n",
       "    <tr>\n",
       "      <th>min</th>\n",
       "      <td>0.000000</td>\n",
       "      <td>0.000000</td>\n",
       "      <td>0.000000</td>\n",
       "      <td>0.000000</td>\n",
       "      <td>0.000000</td>\n",
       "      <td>0.000000</td>\n",
       "      <td>0.000000</td>\n",
       "      <td>0.078000</td>\n",
       "      <td>21.000000</td>\n",
       "      <td>0.000000</td>\n",
       "    </tr>\n",
       "    <tr>\n",
       "      <th>25%</th>\n",
       "      <td>191.750000</td>\n",
       "      <td>1.000000</td>\n",
       "      <td>99.000000</td>\n",
       "      <td>63.000000</td>\n",
       "      <td>0.000000</td>\n",
       "      <td>0.000000</td>\n",
       "      <td>27.300000</td>\n",
       "      <td>0.243750</td>\n",
       "      <td>24.000000</td>\n",
       "      <td>0.000000</td>\n",
       "    </tr>\n",
       "    <tr>\n",
       "      <th>50%</th>\n",
       "      <td>383.500000</td>\n",
       "      <td>3.000000</td>\n",
       "      <td>117.000000</td>\n",
       "      <td>72.000000</td>\n",
       "      <td>23.000000</td>\n",
       "      <td>36.000000</td>\n",
       "      <td>32.000000</td>\n",
       "      <td>0.372500</td>\n",
       "      <td>29.000000</td>\n",
       "      <td>0.000000</td>\n",
       "    </tr>\n",
       "    <tr>\n",
       "      <th>75%</th>\n",
       "      <td>575.250000</td>\n",
       "      <td>6.000000</td>\n",
       "      <td>140.250000</td>\n",
       "      <td>80.000000</td>\n",
       "      <td>32.000000</td>\n",
       "      <td>128.500000</td>\n",
       "      <td>36.600000</td>\n",
       "      <td>0.626250</td>\n",
       "      <td>41.000000</td>\n",
       "      <td>1.000000</td>\n",
       "    </tr>\n",
       "    <tr>\n",
       "      <th>max</th>\n",
       "      <td>767.000000</td>\n",
       "      <td>17.000000</td>\n",
       "      <td>199.000000</td>\n",
       "      <td>122.000000</td>\n",
       "      <td>99.000000</td>\n",
       "      <td>846.000000</td>\n",
       "      <td>67.100000</td>\n",
       "      <td>2.420000</td>\n",
       "      <td>81.000000</td>\n",
       "      <td>1.000000</td>\n",
       "    </tr>\n",
       "  </tbody>\n",
       "</table>\n",
       "</div>"
      ],
      "text/plain": [
       "       Unnamed: 0  Pregnancies     Glucose  BloodPressure  SkinThickness  \\\n",
       "count  768.000000   768.000000  768.000000     767.000000     756.000000   \n",
       "mean   383.500000     3.845052  120.894531      69.195567      20.862434   \n",
       "std    221.846794     3.369578   31.972618      19.206609      15.865314   \n",
       "min      0.000000     0.000000    0.000000       0.000000       0.000000   \n",
       "25%    191.750000     1.000000   99.000000      63.000000       0.000000   \n",
       "50%    383.500000     3.000000  117.000000      72.000000      23.000000   \n",
       "75%    575.250000     6.000000  140.250000      80.000000      32.000000   \n",
       "max    767.000000    17.000000  199.000000     122.000000      99.000000   \n",
       "\n",
       "          Insulin         BMI  DiabetesPedigreeFunction         Age  \\\n",
       "count  763.000000  767.000000                768.000000  768.000000   \n",
       "mean    80.322412   32.034289                  0.471876   33.240885   \n",
       "std    115.439459    7.804050                  0.331329   11.760232   \n",
       "min      0.000000    0.000000                  0.078000   21.000000   \n",
       "25%      0.000000   27.300000                  0.243750   24.000000   \n",
       "50%     36.000000   32.000000                  0.372500   29.000000   \n",
       "75%    128.500000   36.600000                  0.626250   41.000000   \n",
       "max    846.000000   67.100000                  2.420000   81.000000   \n",
       "\n",
       "          Outcome  \n",
       "count  768.000000  \n",
       "mean     0.348958  \n",
       "std      0.476951  \n",
       "min      0.000000  \n",
       "25%      0.000000  \n",
       "50%      0.000000  \n",
       "75%      1.000000  \n",
       "max      1.000000  "
      ]
     },
     "execution_count": 18,
     "metadata": {},
     "output_type": "execute_result"
    }
   ],
   "source": [
    "df_diabetes.describe()"
   ]
  },
  {
   "cell_type": "code",
   "execution_count": 19,
   "id": "70356993-00d2-4519-b07b-95cb6a9d68b4",
   "metadata": {},
   "outputs": [],
   "source": [
    "df_diabetes[[\"Glucose\", \"BloodPressure\", \"SkinThickness\", \"Insulin\", \"BMI\"]] = df_diabetes[[\"Glucose\", \"BloodPressure\", \"SkinThickness\", \"Insulin\", \"BMI\"]].replace(0., np.NaN)"
   ]
  },
  {
   "cell_type": "code",
   "execution_count": 20,
   "id": "bab2cee3-5927-49dd-95cf-5be630a00757",
   "metadata": {},
   "outputs": [
    {
     "name": "stdout",
     "output_type": "stream",
     "text": [
      "<class 'pandas.core.frame.DataFrame'>\n",
      "RangeIndex: 768 entries, 0 to 767\n",
      "Data columns (total 10 columns):\n",
      " #   Column                    Non-Null Count  Dtype  \n",
      "---  ------                    --------------  -----  \n",
      " 0   Unnamed: 0                768 non-null    int64  \n",
      " 1   Pregnancies               768 non-null    int64  \n",
      " 2   Glucose                   768 non-null    float64\n",
      " 3   BloodPressure             733 non-null    float64\n",
      " 4   SkinThickness             541 non-null    float64\n",
      " 5   Insulin                   394 non-null    float64\n",
      " 6   BMI                       757 non-null    float64\n",
      " 7   DiabetesPedigreeFunction  768 non-null    float64\n",
      " 8   Age                       768 non-null    int64  \n",
      " 9   Outcome                   768 non-null    int64  \n",
      "dtypes: float64(6), int64(4)\n",
      "memory usage: 60.1 KB\n"
     ]
    },
    {
     "name": "stderr",
     "output_type": "stream",
     "text": [
      "/tmp/ipykernel_4063/4120389312.py:5: SettingWithCopyWarning: \n",
      "A value is trying to be set on a copy of a slice from a DataFrame\n",
      "\n",
      "See the caveats in the documentation: https://pandas.pydata.org/pandas-docs/stable/user_guide/indexing.html#returning-a-view-versus-a-copy\n",
      "  df_diabetes[\"Glucose\"].loc[df_diabetes[\"Outcome\"] == 1] = diabetes1\n",
      "/tmp/ipykernel_4063/4120389312.py:6: SettingWithCopyWarning: \n",
      "A value is trying to be set on a copy of a slice from a DataFrame\n",
      "\n",
      "See the caveats in the documentation: https://pandas.pydata.org/pandas-docs/stable/user_guide/indexing.html#returning-a-view-versus-a-copy\n",
      "  df_diabetes[\"Glucose\"].loc[df_diabetes[\"Outcome\"] == 0] = diabetes0\n"
     ]
    }
   ],
   "source": [
    "diabetes1 = df_diabetes[\"Glucose\"].loc[df_diabetes[\"Outcome\"] == 1]\n",
    "diabetes0 = df_diabetes[\"Glucose\"].loc[df_diabetes[\"Outcome\"] == 0]\n",
    "diabetes1.fillna(value=diabetes1.median(), inplace=True)\n",
    "diabetes0.fillna(value=diabetes0.mean(), inplace=True)\n",
    "df_diabetes[\"Glucose\"].loc[df_diabetes[\"Outcome\"] == 1] = diabetes1\n",
    "df_diabetes[\"Glucose\"].loc[df_diabetes[\"Outcome\"] == 0] = diabetes0\n",
    "df_diabetes.info()"
   ]
  },
  {
   "cell_type": "code",
   "execution_count": 21,
   "id": "a1f1755f-9e2c-4483-8fdd-6f8e66a2f088",
   "metadata": {},
   "outputs": [
    {
     "name": "stdout",
     "output_type": "stream",
     "text": [
      "<class 'pandas.core.frame.DataFrame'>\n",
      "RangeIndex: 768 entries, 0 to 767\n",
      "Data columns (total 10 columns):\n",
      " #   Column                    Non-Null Count  Dtype  \n",
      "---  ------                    --------------  -----  \n",
      " 0   Unnamed: 0                768 non-null    int64  \n",
      " 1   Pregnancies               768 non-null    int64  \n",
      " 2   Glucose                   768 non-null    float64\n",
      " 3   BloodPressure             768 non-null    float64\n",
      " 4   SkinThickness             541 non-null    float64\n",
      " 5   Insulin                   394 non-null    float64\n",
      " 6   BMI                       757 non-null    float64\n",
      " 7   DiabetesPedigreeFunction  768 non-null    float64\n",
      " 8   Age                       768 non-null    int64  \n",
      " 9   Outcome                   768 non-null    int64  \n",
      "dtypes: float64(6), int64(4)\n",
      "memory usage: 60.1 KB\n"
     ]
    },
    {
     "name": "stderr",
     "output_type": "stream",
     "text": [
      "/tmp/ipykernel_4063/2309291349.py:5: SettingWithCopyWarning: \n",
      "A value is trying to be set on a copy of a slice from a DataFrame\n",
      "\n",
      "See the caveats in the documentation: https://pandas.pydata.org/pandas-docs/stable/user_guide/indexing.html#returning-a-view-versus-a-copy\n",
      "  df_diabetes[\"BloodPressure\"].loc[df_diabetes[\"Outcome\"] == 1] = diabetes1\n",
      "/tmp/ipykernel_4063/2309291349.py:6: SettingWithCopyWarning: \n",
      "A value is trying to be set on a copy of a slice from a DataFrame\n",
      "\n",
      "See the caveats in the documentation: https://pandas.pydata.org/pandas-docs/stable/user_guide/indexing.html#returning-a-view-versus-a-copy\n",
      "  df_diabetes[\"BloodPressure\"].loc[df_diabetes[\"Outcome\"] == 0] = diabetes0\n"
     ]
    }
   ],
   "source": [
    "diabetes1 = df_diabetes[\"BloodPressure\"].loc[df_diabetes[\"Outcome\"] == 1]\n",
    "diabetes0 = df_diabetes[\"BloodPressure\"].loc[df_diabetes[\"Outcome\"] == 0]\n",
    "diabetes1.fillna(value=diabetes1.mean(), inplace=True)\n",
    "diabetes0.fillna(value=diabetes0.mean(), inplace=True)\n",
    "df_diabetes[\"BloodPressure\"].loc[df_diabetes[\"Outcome\"] == 1] = diabetes1\n",
    "df_diabetes[\"BloodPressure\"].loc[df_diabetes[\"Outcome\"] == 0] = diabetes0\n",
    "df_diabetes.info()"
   ]
  },
  {
   "cell_type": "code",
   "execution_count": 22,
   "id": "1621dae5-6616-4cf1-83c9-093c4ab80dbd",
   "metadata": {},
   "outputs": [
    {
     "name": "stdout",
     "output_type": "stream",
     "text": [
      "<class 'pandas.core.frame.DataFrame'>\n",
      "RangeIndex: 768 entries, 0 to 767\n",
      "Data columns (total 10 columns):\n",
      " #   Column                    Non-Null Count  Dtype  \n",
      "---  ------                    --------------  -----  \n",
      " 0   Unnamed: 0                768 non-null    int64  \n",
      " 1   Pregnancies               768 non-null    int64  \n",
      " 2   Glucose                   768 non-null    float64\n",
      " 3   BloodPressure             768 non-null    float64\n",
      " 4   SkinThickness             768 non-null    float64\n",
      " 5   Insulin                   394 non-null    float64\n",
      " 6   BMI                       757 non-null    float64\n",
      " 7   DiabetesPedigreeFunction  768 non-null    float64\n",
      " 8   Age                       768 non-null    int64  \n",
      " 9   Outcome                   768 non-null    int64  \n",
      "dtypes: float64(6), int64(4)\n",
      "memory usage: 60.1 KB\n"
     ]
    },
    {
     "name": "stderr",
     "output_type": "stream",
     "text": [
      "/tmp/ipykernel_4063/364042826.py:5: SettingWithCopyWarning: \n",
      "A value is trying to be set on a copy of a slice from a DataFrame\n",
      "\n",
      "See the caveats in the documentation: https://pandas.pydata.org/pandas-docs/stable/user_guide/indexing.html#returning-a-view-versus-a-copy\n",
      "  df_diabetes[\"SkinThickness\"].loc[df_diabetes[\"Outcome\"] == 1] = diabetes1\n",
      "/tmp/ipykernel_4063/364042826.py:6: SettingWithCopyWarning: \n",
      "A value is trying to be set on a copy of a slice from a DataFrame\n",
      "\n",
      "See the caveats in the documentation: https://pandas.pydata.org/pandas-docs/stable/user_guide/indexing.html#returning-a-view-versus-a-copy\n",
      "  df_diabetes[\"SkinThickness\"].loc[df_diabetes[\"Outcome\"] == 0] = diabetes0\n"
     ]
    }
   ],
   "source": [
    "diabetes1 = df_diabetes[\"SkinThickness\"].loc[df_diabetes[\"Outcome\"] == 1]\n",
    "diabetes0 = df_diabetes[\"SkinThickness\"].loc[df_diabetes[\"Outcome\"] == 0]\n",
    "diabetes1.fillna(value=diabetes1.mean(), inplace=True)\n",
    "diabetes0.fillna(value=diabetes0.mean(), inplace=True)\n",
    "df_diabetes[\"SkinThickness\"].loc[df_diabetes[\"Outcome\"] == 1] = diabetes1\n",
    "df_diabetes[\"SkinThickness\"].loc[df_diabetes[\"Outcome\"] == 0] = diabetes0\n",
    "df_diabetes.info()"
   ]
  },
  {
   "cell_type": "code",
   "execution_count": 23,
   "id": "935a2eaf-df69-449b-91e5-cfbbbfc21888",
   "metadata": {},
   "outputs": [
    {
     "name": "stdout",
     "output_type": "stream",
     "text": [
      "<class 'pandas.core.frame.DataFrame'>\n",
      "RangeIndex: 768 entries, 0 to 767\n",
      "Data columns (total 10 columns):\n",
      " #   Column                    Non-Null Count  Dtype  \n",
      "---  ------                    --------------  -----  \n",
      " 0   Unnamed: 0                768 non-null    int64  \n",
      " 1   Pregnancies               768 non-null    int64  \n",
      " 2   Glucose                   768 non-null    float64\n",
      " 3   BloodPressure             768 non-null    float64\n",
      " 4   SkinThickness             768 non-null    float64\n",
      " 5   Insulin                   768 non-null    float64\n",
      " 6   BMI                       757 non-null    float64\n",
      " 7   DiabetesPedigreeFunction  768 non-null    float64\n",
      " 8   Age                       768 non-null    int64  \n",
      " 9   Outcome                   768 non-null    int64  \n",
      "dtypes: float64(6), int64(4)\n",
      "memory usage: 60.1 KB\n"
     ]
    },
    {
     "name": "stderr",
     "output_type": "stream",
     "text": [
      "/tmp/ipykernel_4063/354528153.py:5: SettingWithCopyWarning: \n",
      "A value is trying to be set on a copy of a slice from a DataFrame\n",
      "\n",
      "See the caveats in the documentation: https://pandas.pydata.org/pandas-docs/stable/user_guide/indexing.html#returning-a-view-versus-a-copy\n",
      "  df_diabetes[\"Insulin\"].loc[df_diabetes[\"Outcome\"] == 1] = diabetes1\n",
      "/tmp/ipykernel_4063/354528153.py:6: SettingWithCopyWarning: \n",
      "A value is trying to be set on a copy of a slice from a DataFrame\n",
      "\n",
      "See the caveats in the documentation: https://pandas.pydata.org/pandas-docs/stable/user_guide/indexing.html#returning-a-view-versus-a-copy\n",
      "  df_diabetes[\"Insulin\"].loc[df_diabetes[\"Outcome\"] == 0] = diabetes0\n"
     ]
    }
   ],
   "source": [
    "diabetes1 = df_diabetes[\"Insulin\"].loc[df_diabetes[\"Outcome\"] == 1]\n",
    "diabetes0 = df_diabetes[\"Insulin\"].loc[df_diabetes[\"Outcome\"] == 0]\n",
    "diabetes1.fillna(value=diabetes1.median(), inplace=True)\n",
    "diabetes0.fillna(value=diabetes0.median(), inplace=True)\n",
    "df_diabetes[\"Insulin\"].loc[df_diabetes[\"Outcome\"] == 1] = diabetes1\n",
    "df_diabetes[\"Insulin\"].loc[df_diabetes[\"Outcome\"] == 0] = diabetes0\n",
    "df_diabetes.info()"
   ]
  },
  {
   "cell_type": "code",
   "execution_count": 24,
   "id": "6c22f05c-77be-42c6-ab4f-ef36358b6e89",
   "metadata": {},
   "outputs": [
    {
     "name": "stdout",
     "output_type": "stream",
     "text": [
      "<class 'pandas.core.frame.DataFrame'>\n",
      "RangeIndex: 768 entries, 0 to 767\n",
      "Data columns (total 10 columns):\n",
      " #   Column                    Non-Null Count  Dtype  \n",
      "---  ------                    --------------  -----  \n",
      " 0   Unnamed: 0                768 non-null    int64  \n",
      " 1   Pregnancies               768 non-null    int64  \n",
      " 2   Glucose                   768 non-null    float64\n",
      " 3   BloodPressure             768 non-null    float64\n",
      " 4   SkinThickness             768 non-null    float64\n",
      " 5   Insulin                   768 non-null    float64\n",
      " 6   BMI                       768 non-null    float64\n",
      " 7   DiabetesPedigreeFunction  768 non-null    float64\n",
      " 8   Age                       768 non-null    int64  \n",
      " 9   Outcome                   768 non-null    int64  \n",
      "dtypes: float64(6), int64(4)\n",
      "memory usage: 60.1 KB\n"
     ]
    },
    {
     "name": "stderr",
     "output_type": "stream",
     "text": [
      "/tmp/ipykernel_4063/3441895257.py:5: SettingWithCopyWarning: \n",
      "A value is trying to be set on a copy of a slice from a DataFrame\n",
      "\n",
      "See the caveats in the documentation: https://pandas.pydata.org/pandas-docs/stable/user_guide/indexing.html#returning-a-view-versus-a-copy\n",
      "  df_diabetes[\"BMI\"].loc[df_diabetes[\"Outcome\"] == 1] = diabetes1\n",
      "/tmp/ipykernel_4063/3441895257.py:6: SettingWithCopyWarning: \n",
      "A value is trying to be set on a copy of a slice from a DataFrame\n",
      "\n",
      "See the caveats in the documentation: https://pandas.pydata.org/pandas-docs/stable/user_guide/indexing.html#returning-a-view-versus-a-copy\n",
      "  df_diabetes[\"BMI\"].loc[df_diabetes[\"Outcome\"] == 0] = diabetes0\n"
     ]
    }
   ],
   "source": [
    "diabetes1 = df_diabetes[\"BMI\"].loc[df_diabetes[\"Outcome\"] == 1]\n",
    "diabetes0 = df_diabetes[\"BMI\"].loc[df_diabetes[\"Outcome\"] == 0]\n",
    "diabetes1.fillna(value=diabetes1.median(), inplace=True)\n",
    "diabetes0.fillna(value=diabetes0.median(), inplace=True)\n",
    "df_diabetes[\"BMI\"].loc[df_diabetes[\"Outcome\"] == 1] = diabetes1\n",
    "df_diabetes[\"BMI\"].loc[df_diabetes[\"Outcome\"] == 0] = diabetes0\n",
    "df_diabetes.info()"
   ]
  },
  {
   "cell_type": "code",
   "execution_count": 25,
   "id": "315f0dbc-330d-4af2-86ad-f07077f4e27d",
   "metadata": {},
   "outputs": [],
   "source": [
    "df_diabetes.to_csv(\"../Semana 3-Regresion/data/diabetes_tratado.csv\")"
   ]
  },
  {
   "cell_type": "code",
   "execution_count": null,
   "id": "2eee2a10-1516-418a-b81b-37161e1f2682",
   "metadata": {},
   "outputs": [],
   "source": []
  }
 ],
 "metadata": {
  "kernelspec": {
   "display_name": "Python 3 (ipykernel)",
   "language": "python",
   "name": "python3"
  },
  "language_info": {
   "codemirror_mode": {
    "name": "ipython",
    "version": 3
   },
   "file_extension": ".py",
   "mimetype": "text/x-python",
   "name": "python",
   "nbconvert_exporter": "python",
   "pygments_lexer": "ipython3",
   "version": "3.9.13"
  }
 },
 "nbformat": 4,
 "nbformat_minor": 5
}
