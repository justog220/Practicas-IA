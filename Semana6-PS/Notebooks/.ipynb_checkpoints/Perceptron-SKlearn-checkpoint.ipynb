{
 "cells": [
  {
   "cell_type": "markdown",
   "id": "908f91ba-8683-4346-b9e2-89328b83e30d",
   "metadata": {
    "id": "908f91ba-8683-4346-b9e2-89328b83e30d"
   },
   "source": [
    "## Perceptrón Usando scikit-learn"
   ]
  },
  {
   "cell_type": "code",
   "execution_count": null,
   "id": "badbc5d3-2340-4752-8419-88d832b23ce8",
   "metadata": {
    "id": "badbc5d3-2340-4752-8419-88d832b23ce8"
   },
   "outputs": [],
   "source": [
    "import numpy as np\n",
    "import matplotlib.pyplot as plt\n",
    "import pandas as pd"
   ]
  },
  {
   "cell_type": "code",
   "execution_count": null,
   "id": "b8cf432b-ea44-4072-b2b6-a5915df72313",
   "metadata": {
    "id": "b8cf432b-ea44-4072-b2b6-a5915df72313"
   },
   "outputs": [],
   "source": [
    "# en esta ocasión importaremos el dataset desde la biblioteca scikit-learn:\n",
    "# https://scikit-learn.org/stable/modules/classes.html#module-sklearn.model_selection\n",
    "from sklearn import datasets\n",
    "from sklearn import model_selection\n",
    "\n",
    "iris = datasets.load_iris()\n",
    "\n",
    "#Extraemos la primera y tercera columna del dataset como características de entrada\n",
    "# columna 0 : longitud de sépalo, columna 2 : longitud de pétalo\n",
    "X = iris.data[:, [2, 3]]\n",
    "y = iris.target\n",
    "\n",
    "print('Class labels:', np.unique(y))\n",
    "\n",
    "# np.unique devuelve las únicas 3 etiquetas de clase en iris.target Iris-setosa, Iris-versicolor, Iris-virginica"
   ]
  },
  {
   "cell_type": "code",
   "execution_count": null,
   "id": "d5fb29de-8d75-4800-809a-6a7d388debda",
   "metadata": {
    "id": "d5fb29de-8d75-4800-809a-6a7d388debda"
   },
   "outputs": [],
   "source": [
    "from sklearn.model_selection import train_test_split\n",
    "\n",
    "X_train, X_test, y_train, y_test = train_test_split(X, y, test_size=0.3, shuffle=True, random_state=1,  stratify = y)\n",
    "\n",
    "#Comprobamos el resultado de stratify = y\n",
    "print('Número de etiquetas en y: ', np.bincount(y))\n",
    "    \n",
    "print('Número de etiquetas en y_train: ', np.bincount(y_train))\n",
    "\n",
    "print('Número de etiquetas en y_test: ', np.bincount(y_test))"
   ]
  },
  {
   "cell_type": "code",
   "execution_count": null,
   "id": "6d2911b4-45d5-4864-92b8-fd21ce9465f1",
   "metadata": {
    "id": "6d2911b4-45d5-4864-92b8-fd21ce9465f1"
   },
   "outputs": [],
   "source": [
    "from sklearn.preprocessing import StandardScaler\n",
    "\n",
    "sc = StandardScaler()\n",
    "sc.fit(X_train)                     # Estima los parámetros de media y desvío\n",
    "X_train_std = sc.transform(X_train) # Normaliza los datos usando las estimaciones\n",
    "X_test_std = sc.transform(X_test)   # Se utilizan los mismos parámetros para\n",
    "                                    # los datos de entrenamiento y de prueba"
   ]
  },
  {
   "cell_type": "code",
   "execution_count": null,
   "id": "6cc0054f-dd4f-44bd-96cd-cd545da03579",
   "metadata": {
    "id": "6cc0054f-dd4f-44bd-96cd-cd545da03579"
   },
   "outputs": [],
   "source": [
    "# Entrenamiento\n",
    "from sklearn.linear_model import Perceptron\n",
    "from sklearn.metrics import accuracy_score\n",
    "\n",
    "ppn = Perceptron(max_iter=25, eta0=0.1, random_state=1, shuffle=True)\n",
    "ppn.fit(X_train_std, y_train)\n",
    "\n",
    "# Usamos random_state = 1 para asegurar la reproducibilidad del shuffling inicial \n",
    "# del dataset en cada época al inicio del entrenamiento"
   ]
  },
  {
   "cell_type": "code",
   "execution_count": null,
   "id": "9bd8a6b1-8fd2-4b84-b566-532693320a34",
   "metadata": {
    "id": "9bd8a6b1-8fd2-4b84-b566-532693320a34"
   },
   "outputs": [],
   "source": [
    "# Atributos de la clase perceptron\n",
    "print(f\"clases: {ppn.classes_}\")\n",
    "\n",
    "print(f\"vector de pesos: {ppn.coef_}\")\n"
   ]
  },
  {
   "cell_type": "code",
   "execution_count": null,
   "id": "e8cbdce1-2485-4ccc-b518-87844c94454f",
   "metadata": {
    "id": "e8cbdce1-2485-4ccc-b518-87844c94454f"
   },
   "outputs": [],
   "source": [
    "# Predicción    \n",
    "y_pred = ppn.predict(X_test_std)\n",
    "mal_clasificadas = (y_test != y_pred).sum()\n",
    "print(f'Muestras mal clasificadas: {mal_clasificadas}/{len(X_test_std)}')\n",
    "error = (mal_clasificadas)/len(X_test_std)\n",
    "print(f'Error de clasificación: {error:.2f}')"
   ]
  },
  {
   "cell_type": "code",
   "execution_count": null,
   "id": "332fef20-68fc-4791-bd97-e3241753790c",
   "metadata": {
    "id": "332fef20-68fc-4791-bd97-e3241753790c"
   },
   "outputs": [],
   "source": [
    "# Cálculo de la precisión\n",
    "accuracy_pred = (1 - error)\n",
    "print(f'Precisión: {accuracy_pred:.2f}')"
   ]
  },
  {
   "cell_type": "code",
   "execution_count": null,
   "id": "b6004664-e059-4a07-8b29-2e24c04409b8",
   "metadata": {
    "id": "b6004664-e059-4a07-8b29-2e24c04409b8"
   },
   "outputs": [],
   "source": [
    "# usando métricas de scikit-learn\n",
    "from sklearn.metrics import accuracy_score\n",
    "accuracy_pred = accuracy_score(y_test, y_pred)\n",
    "print(f'Accuracy: {accuracy_pred:.2f}')"
   ]
  },
  {
   "cell_type": "code",
   "execution_count": null,
   "id": "8300c0dc-1c4b-4a8c-a918-0ff785c8fe91",
   "metadata": {
    "id": "8300c0dc-1c4b-4a8c-a918-0ff785c8fe91"
   },
   "outputs": [],
   "source": [
    "# Predicción y cálculo de la precisión\n",
    "accuracy_pred = ppn.score(X_test_std, y_test) # combina la predicción con el cálculo de la precisión\n",
    "print(f'Precisión de clasificación: {accuracy_pred:.2f}')"
   ]
  },
  {
   "cell_type": "code",
   "execution_count": null,
   "id": "a0361eaa-ee80-4012-a9f9-105dc9631b48",
   "metadata": {
    "id": "a0361eaa-ee80-4012-a9f9-105dc9631b48"
   },
   "outputs": [],
   "source": [
    "from utiles import plot_decision_regions\n",
    "\n",
    "X_combined_std = np.vstack((X_train_std, X_test_std))\n",
    "y_combined = np.hstack((y_train, y_test))\n",
    "plt.figure(figsize=(10,7))\n",
    "plot_decision_regions( X=X_combined_std, y=y_combined, clasificador=ppn, test_idx=range(105, 150))\n",
    "plt.xlabel('longitud de pétalo [escalado]')\n",
    "plt.ylabel('ancho de pétalo [escalado]')\n",
    "plt.legend(loc='upper left')\n",
    "plt.tight_layout()\n",
    "plt.show()"
   ]
  },
  {
   "cell_type": "markdown",
   "id": "-ks-I1hTSHTP",
   "metadata": {
    "id": "-ks-I1hTSHTP"
   },
   "source": [
    "# Actividad Semana6\n",
    "\n",
    "Usando el dataset de Diabetes compare los 3 clasificadores vistos hasta ahora: KNN, SVM y PS. Pruebe distintas configuraciones para cada clasificador y seleccione la de mejor desempeño usando [GridSearchCV](https://scikit-learn.org/stable/modules/generated/sklearn.model_selection.GridSearchCV.html). Haga una tabla comparativa con los resultados. Utilice como medida de desempeño la tasa de aciertos o Accuracy."
   ]
  }
 ],
 "metadata": {
  "colab": {
   "provenance": []
  },
  "kernelspec": {
   "display_name": "Python 3 (ipykernel)",
   "language": "python",
   "name": "python3"
  },
  "language_info": {
   "codemirror_mode": {
    "name": "ipython",
    "version": 3
   },
   "file_extension": ".py",
   "mimetype": "text/x-python",
   "name": "python",
   "nbconvert_exporter": "python",
   "pygments_lexer": "ipython3",
   "version": "3.9.13"
  }
 },
 "nbformat": 4,
 "nbformat_minor": 5
}
