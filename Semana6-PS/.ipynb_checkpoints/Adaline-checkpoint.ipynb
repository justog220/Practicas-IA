{
 "cells": [
  {
   "cell_type": "markdown",
   "id": "c81baf78-6ef0-4e0a-b7e4-944ec07b3e7f",
   "metadata": {},
   "source": [
    "# ADAptive LInear NEuron (ADALINE)"
   ]
  },
  {
   "cell_type": "markdown",
   "id": "49ec57b0-8e68-434b-a0e6-2ffa0c5cf2e4",
   "metadata": {},
   "source": [
    "### ¿Por qué son diferentes el perceptrón y el adaline?\n",
    "<center><img src=\"./images/Adaline_vs_PS.png\" alt=\"centered image\"></center>\n",
    "De la figura se puede ver que en el algoritmo del Adaline se comparan las etiquetas de las clases esperadas con el valor (continuo o número real) de salida de la función de activación $\\phi$, de esta diferencia se calcula el error para actualizar los pesos. \n",
    "En el perceptrón, por el contrario, se comparan las etiquetas de las clases esperadas con las etiquetas de las clases predichas."
   ]
  },
  {
   "cell_type": "markdown",
   "id": "55c104e9-7738-4dad-81c8-6bd312d8c0a1",
   "metadata": {},
   "source": [
    "### ¿Qué es la función de costo $J(w)$?\n",
    "Es la función que se busca optimizar durante el proceso de aprendizaje o entrenamiento. Es por tanto, la función que buscamos minimizar durante el proceso.\n",
    "En el caso del Adaline, podemos definirla como la _suma de los errores cuadráticos_ entre la salida calculada (con la fn. de activación $\\phi(y)$) y la etiqueta de clase esperada $y_d$. \n",
    "$$J(w) = \\frac{1}{2}\\sum\\limits_{i=1}^N(y_d^{(i)} - \\phi(y^{(i)}))^2$$\n",
    "Para el Adaline vamos a utilizar un algoritmo de optimización llamado _Descenso del Gradiente_ para encontrar los pesos que minimizan nuestra función de costo para clasificar las muestras del Dataset Iris.\n",
    "\n",
    "En este caso, la actualización de los pesos se hace de la siguiente manera: $$\\vec{w} = \\vec{w} + \\Delta\\vec{w}$$\n",
    "Donde $\\Delta{w}$ queda definido como el gradiente negativo de la fn. de costo multiplicado por el factor de entrenamiento $$\\Delta{\\vec{w}} = - \\mu\\nabla{J}(\\vec{w})$$\n"
   ]
  },
  {
   "cell_type": "markdown",
   "id": "4e1028da-1672-449b-82f6-10806d9a8c80",
   "metadata": {},
   "source": [
    "### Pero...¿Cómo calculamos el gradiente de la fn. de costo? 🤔\n",
    "Una propiedad de nuestra función de costo es que es derivable, a diferencia de la fn. signo del perceptrón. 👏 por tanto sólo debemos calcular la derivada parcial de la función de costo respecto de cada peso $w_j$ $$J(w) = \\frac{1}{2}\\sum\\limits_{i=1}^N(y_d^{(i)} - \\phi(y^{(i)}))^2$$ \n",
    "\n",
    "$$\\frac{\\partial{J}}{\\partial{w_j}} = - \\sum\\limits_{i}(y^{(i)} - \\phi(z^{(i)}))x^{(i)}_j$$ y la actualización de los pesos:\n",
    "$$\\Delta{w_j} = -\\mu\\frac{\\partial{J}}{\\partial{w_j}}=\\mu\\sum\\limits_{i}(y^{(i)} - \\phi(z^{(i)}))x^{(i)}_j$$"
   ]
  },
  {
   "cell_type": "markdown",
   "id": "f3f15c34-b856-41b8-bab1-4b74c2d20fc3",
   "metadata": {},
   "source": [
    "> La función de costo se calcula teniendo en cuenta todas las muestras de entrada (note el índice i en la ecuación de $J(w)$) por lo tanto la actualización de los pesos en el algoritmo del Adaline se calcula en base a todas las entradas (a diferencia de la actualización incremental de los pesos con cada muestra en el perceptrón). A esto se le llama también _Descenso del gradiente en lotes_ (batch gradient descent)"
   ]
  },
  {
   "cell_type": "code",
   "execution_count": 47,
   "id": "a2cdd51e",
   "metadata": {},
   "outputs": [],
   "source": [
    "import numpy as np\n",
    "import matplotlib.pyplot as plt\n",
    "import pandas as pd"
   ]
  },
  {
   "cell_type": "code",
   "execution_count": 51,
   "id": "9af67c58",
   "metadata": {},
   "outputs": [],
   "source": [
    "class Adaline(object):\n",
    "    \"\"\"ADAptive LInear NEuron classifier.\n",
    "    Parametros\n",
    "    ------------\n",
    "    lr : float\n",
    "        factor de entrenamiento (entre 0.0 y 1.0)\n",
    "    n_iter : int\n",
    "        iteraciones para el entrenamiento.\n",
    "    random_state : int\n",
    "        Semilla generadora de números aleatorios para\n",
    "        la inicialización de los pesos.\n",
    "    \n",
    "    Atributos\n",
    "    -----------\n",
    "    w_ : 1d-array\n",
    "        Pesos despues de su ajuste.\n",
    "    costo_ : list\n",
    "        Función de costo : suma de los errores cuadráticos en cada época\n",
    "    \"\"\"\n",
    "    def __init__(self, lr=0.01, n_iter=50, random_state=1):\n",
    "        self.lr = lr\n",
    "        self.n_iter = n_iter\n",
    "        self.random_state = random_state\n",
    "\n",
    "    def entrenar(self, X, y):\n",
    "        \"\"\"Ajuste de los datos de entrenamiento.\n",
    "        \n",
    "        Parameters\n",
    "        ----------\n",
    "        X : {array-like}, shape = [n_muestras, n_caracteristicas]\n",
    "          vector de entrenamiento\n",
    "        y : array-like, shape = [n_muestras]\n",
    "          vector target.\n",
    "          \n",
    "        Returns\n",
    "        -------\n",
    "        self : objeto\n",
    "\n",
    "        \"\"\"\n",
    "        rgen = np.random.RandomState(self.random_state)\n",
    "        #inicializo los pesos con valores aleatorios entre 0 y 1\n",
    "        self.w_ = rgen.normal(loc=0.0, scale=0.01, size=1 + X.shape[1])\n",
    "        self.costo_ = []\n",
    "\n",
    "        for _ in range(self.n_iter):\n",
    "            entrada = self.calcular_entrada(X)\n",
    "            salida = self.fn_activacion(entrada)\n",
    "            # El error se calcula como la diferencia entre las salidas esperadas y\n",
    "            # la salida de la fn. de activación\n",
    "            errores = (y - salida)  \n",
    "            # --------actualización del vector de pesos--------------------------------\n",
    "            self.w_[1:] += self.lr * X.T.dot(errores)\n",
    "            self.w_[0] += self.lr * errores.sum()\n",
    "            # función de costo\n",
    "            costo = (errores**2).sum() / 2.0\n",
    "            #---------------------------------------------------------------------------\n",
    "            self.costo_.append(costo)\n",
    "        return self\n",
    "    \n",
    "    def calcular_entrada(self, X):\n",
    "        \"\"\"Cálculo de la entrada al Adaline\"\"\"\n",
    "        # -------suma de los productos de los valores de entrada y los pesos -----------        \n",
    "        return np.dot(X, self.w_[1:]) + self.w_[0]\n",
    "        #-------------------------------------------------------------------------------\n",
    "    \n",
    "    def fn_activacion(self, X): \n",
    "        \"\"\"Aplica la fn. de activación lineal\"\"\"\n",
    "        #Se puede ver que la fn.  de activación es la fn. identidad, vamos a ver que en el\n",
    "        #caso de la regresión logística (más adelante), usamos una fn. sigmoidea\n",
    "        return X\n",
    "\n",
    "    def predecir(self, X):\n",
    "        \"\"\"devuelve la etiqueta de la clase pertenciente después de aplicar la fn. de activación\"\"\"\n",
    "        return np.where(self.calcular_entrada(X) >= 0.0, 1, 0)"
   ]
  },
  {
   "cell_type": "code",
   "execution_count": 52,
   "id": "57b3a826-e32d-4574-a360-ecb4c77738bf",
   "metadata": {},
   "outputs": [],
   "source": [
    "#Cargo el Dataset\n",
    "df = pd.read_csv('https://archive.ics.uci.edu/ml/machine-learning-databases/iris/iris.data', header=None)\n",
    "y = df.iloc[0:100, 4].values\n",
    "#convertimos las etiquetas de clases en  0 (Iris-setosa)  y 1 (Iris-versicolor)\n",
    "y = np.where(y == 'Iris-setosa', 0, 1)\n",
    "# columna 0 : longitud de sépalo, columna 2 : longitud de pétalo\n",
    "X = df.iloc[0:100, [0, 2]].values"
   ]
  },
  {
   "cell_type": "markdown",
   "id": "ad7b1e88-c355-457a-a7e4-4e8dd833a32d",
   "metadata": {},
   "source": [
    "En la práctica, seleccionar el coeficiente de aprendizaje ($\\mu$) para la convergencia del algoritmo requiere algo de experimentación. El valor de $\\mu$ que seleccionemos hará la diferencia entre los dos casos que tenemos a continuación\n",
    "<center><img src=\"./images/seleccion_lr.png\" width= 700 alt=\"centered image\"></center>\n",
    "\n",
    "Como podemos ver en la gráfica a la derecha, un valor de $\\mu$ muy grande hará que el algoritmo del descenso del gradiente no converja y por lo tanto no se minimiza la función de costo $J(w)$. En la gráfica de la izquierda, un valor de $\\mu$ muy chico hará que el algoritmo converja pero necesitará de un gran número de épocas para la convergencia."
   ]
  },
  {
   "cell_type": "markdown",
   "id": "9da7667f-2167-46fd-a186-3247d89bbd8c",
   "metadata": {},
   "source": [
    "### Vamos a crear dos instancias de la Clase Adaline, uno con lr = 0.01 y el otro con lr= 0.0001 y grafiquemos sus funciones de costo!!! "
   ]
  },
  {
   "cell_type": "code",
   "execution_count": 53,
   "id": "1a2a9d13-87af-48b7-8893-5a53af32c125",
   "metadata": {},
   "outputs": [
    {
     "data": {
      "text/plain": [
       "Text(0.5, 1.0, 'Adaline  lr = 0.0001')"
      ]
     },
     "execution_count": 53,
     "metadata": {},
     "output_type": "execute_result"
    },
    {
     "data": {
      "image/png": "[encoded data removed]",
      "text/plain": [
       "<Figure size 720x288 with 2 Axes>"
      ]
     },
     "metadata": {
      "needs_background": "light"
     },
     "output_type": "display_data"
    }
   ],
   "source": [
    "ada1 = Adaline(n_iter=10, lr=0.01)\n",
    "ada1.entrenar(X, y)\n",
    "ada2 = Adaline(n_iter=10, lr=0.0001)\n",
    "ada2.entrenar(X, y)\n",
    "\n",
    "fig, ax = plt.subplots(nrows=1, ncols=2, figsize=(10,4))\n",
    "ax[0].plot( range(1, len(ada1.costo_) + 1), np.log10(ada1.costo_), marker='o')\n",
    "ax[0].set_xlabel('Épocas')\n",
    "ax[0].set_ylabel('log(Suma-error-cuadrático)')\n",
    "ax[0].set_title('Adaline  lr = 0.01')\n",
    "\n",
    "ax[1].plot( range(1, len(ada2.costo_) + 1), np.log10(ada2.costo_), marker='o')\n",
    "ax[1].set_xlabel('Épocas')\n",
    "ax[1].set_ylabel('Suma-error-cuadrático')\n",
    "ax[1].set_title('Adaline  lr = 0.0001')"
   ]
  },
  {
   "cell_type": "markdown",
   "id": "c3c61c9e-9ee3-4858-8472-453862fcfd26",
   "metadata": {
    "tags": []
   },
   "source": [
    "El algoritmo del adaline ilustra los conceptos claves de la definición y minimización de las funciones de costo continuas. Esto brinda las bases para el entendimiento de algoritmos de machine learning para clasificación más avanzados, como la regresión logística, máquinas de soporte vectorial y modelos de regresión que veremos más adelante en la asignatura."
   ]
  }
 ],
 "metadata": {
  "kernelspec": {
   "display_name": "Python 3",
   "language": "python",
   "name": "python3"
  },
  "language_info": {
   "codemirror_mode": {
    "name": "ipython",
    "version": 3
   },
   "file_extension": ".py",
   "mimetype": "text/x-python",
   "name": "python",
   "nbconvert_exporter": "python",
   "pygments_lexer": "ipython3",
   "version": "3.8.8"
  }
 },
 "nbformat": 4,
 "nbformat_minor": 5
}
