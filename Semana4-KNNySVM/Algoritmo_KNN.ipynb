{
 "cells": [
  {
   "cell_type": "markdown",
   "id": "c72532a3-2862-48a1-8d50-e903c24057d1",
   "metadata": {
    "id": "c72532a3-2862-48a1-8d50-e903c24057d1"
   },
   "source": [
    "## _kNN_: _k_-Vecinos Cercanos"
   ]
  },
  {
   "cell_type": "markdown",
   "id": "c522047e-0f19-4b43-b525-ee9ce4395a12",
   "metadata": {
    "id": "c522047e-0f19-4b43-b525-ee9ce4395a12"
   },
   "source": [
    "Es un algoritmo de aprendizaje supervisado en el que se asigna a un punto de prueba, la clase mayoritaria entre los _k_ vecinos más próximos, utilizando una métrica de distancia. En la siguiente figura se puede ver un ejemplo para _k_ = 5\n",
    "<pre>\n",
    "<center><img src=\"https://drive.google.com/uc?export=view&id=1kGka8wsD27newwU6ew8VUtVwHKBk9GVq\" width=800></center>\n",
    "</pre>"
   ]
  },
  {
   "cell_type": "markdown",
   "id": "302f2ece-df84-482d-a4f7-d37a56f50715",
   "metadata": {
    "id": "302f2ece-df84-482d-a4f7-d37a56f50715",
    "tags": []
   },
   "source": [
    "## Métricas de distancia\n",
    "\n",
    "### Minkowski:$\\qquad d(\\textbf{x}^{[a]}, \\textbf{x}^{[b]}) = [ \\sum\\limits_{j=1}^{m}{(|x_j^{[a]}-x_j^{[b]}|)^p} ]^{\\frac{1}{p}}$\n",
    "\n",
    "### Manhattan: $\\quad p=1 \\quad d(\\textbf{x}^{[a]}, \\textbf{x}^{[b]}) =  \\sum\\limits_{j=1}^{m}{|x_j^{[a]}-x_j^{[b]}|}$\n",
    "\n",
    "### Euclídea: $\\quad p=2 \\quad d(\\textbf{x}^{[a]}, \\textbf{x}^{[b]}) = \\sqrt{ \\sum\\limits_{j=1}^{m}{(x_j^{[a]}-x_j^{[b]})^2}}$"
   ]
  },
  {
   "cell_type": "markdown",
   "id": "0b0e69b0-955e-4af5-8a97-7b9adb1f46ca",
   "metadata": {
    "id": "0b0e69b0-955e-4af5-8a97-7b9adb1f46ca"
   },
   "source": [
    "### A continuación, implementar el algortimo KNN\n",
    "\n",
    "<center><img src=\"https://drive.google.com/uc?export=view&id=1ZI14NuMpP-x0mLzLgnyAa0jAjrpmAh1z\" width=1200></center>\n"
   ]
  },
  {
   "cell_type": "markdown",
   "id": "134cabd1-665d-4e60-8c96-a5262568e01b",
   "metadata": {
    "id": "134cabd1-665d-4e60-8c96-a5262568e01b"
   },
   "source": [
    "### Implementación de una Clase KNN"
   ]
  },
  {
   "cell_type": "code",
   "execution_count": 1,
   "id": "jnChuJFOdV71",
   "metadata": {
    "executionInfo": {
     "elapsed": 3184,
     "status": "ok",
     "timestamp": 1681100354964,
     "user": {
      "displayName": "Justo Garcia",
      "userId": "08453251237348739855"
     },
     "user_tz": 180
    },
    "id": "jnChuJFOdV71"
   },
   "outputs": [],
   "source": [
    "import numpy as np\n",
    "import pandas as pd\n",
    "from collections import Counter\n",
    "from sklearn.datasets import load_iris\n",
    "from sklearn.model_selection import train_test_split"
   ]
  },
  {
   "cell_type": "code",
   "execution_count": 2,
   "id": "vg43l-VHdhjS",
   "metadata": {
    "executionInfo": {
     "elapsed": 8,
     "status": "ok",
     "timestamp": 1681100354965,
     "user": {
      "displayName": "Justo Garcia",
      "userId": "08453251237348739855"
     },
     "user_tz": 180
    },
    "id": "vg43l-VHdhjS"
   },
   "outputs": [],
   "source": [
    "df_iris = load_iris(as_frame=True).frame\n",
    "X = df_iris[ ['petal length (cm)', 'petal width (cm)'] ]\n",
    "y = df_iris.target"
   ]
  },
  {
   "cell_type": "code",
   "execution_count": 3,
   "id": "eOi_edUWfsUP",
   "metadata": {
    "colab": {
     "base_uri": "https://localhost:8080/"
    },
    "executionInfo": {
     "elapsed": 412,
     "status": "ok",
     "timestamp": 1681100355370,
     "user": {
      "displayName": "Justo Garcia",
      "userId": "08453251237348739855"
     },
     "user_tz": 180
    },
    "id": "eOi_edUWfsUP",
    "outputId": "954647a2-a4ba-4077-e0a2-9e894ca231b6"
   },
   "outputs": [
    {
     "name": "stdout",
     "output_type": "stream",
     "text": [
      "Class labels: [0 1 2]\n"
     ]
    }
   ],
   "source": [
    "print('Class labels:', np.unique(y))"
   ]
  },
  {
   "cell_type": "code",
   "execution_count": 4,
   "id": "B3sqDb_3fJL3",
   "metadata": {
    "executionInfo": {
     "elapsed": 8,
     "status": "ok",
     "timestamp": 1681100355372,
     "user": {
      "displayName": "Justo Garcia",
      "userId": "08453251237348739855"
     },
     "user_tz": 180
    },
    "id": "B3sqDb_3fJL3"
   },
   "outputs": [],
   "source": [
    "X_train, X_test, y_train, y_test = train_test_split(X, y, test_size=0.3, shuffle=True, random_state=1,  stratify = y)"
   ]
  },
  {
   "cell_type": "code",
   "execution_count": 5,
   "id": "S_gCAdiKh01_",
   "metadata": {
    "executionInfo": {
     "elapsed": 9,
     "status": "ok",
     "timestamp": 1681100355373,
     "user": {
      "displayName": "Justo Garcia",
      "userId": "08453251237348739855"
     },
     "user_tz": 180
    },
    "id": "S_gCAdiKh01_"
   },
   "outputs": [],
   "source": [
    "# Normalización de los datos\n",
    "from sklearn.preprocessing import StandardScaler\n",
    "sc = StandardScaler()\n",
    "sc.fit(X_train)                     \n",
    "X_train_std = sc.transform(X_train)\n",
    "X_test_std = sc.transform(X_test) "
   ]
  },
  {
   "cell_type": "code",
   "execution_count": 6,
   "id": "9b8ed8d1-a348-4828-acbb-e4ba9e143372",
   "metadata": {
    "executionInfo": {
     "elapsed": 3,
     "status": "ok",
     "timestamp": 1681101654113,
     "user": {
      "displayName": "Justo Garcia",
      "userId": "08453251237348739855"
     },
     "user_tz": 180
    },
    "id": "9b8ed8d1-a348-4828-acbb-e4ba9e143372"
   },
   "outputs": [],
   "source": [
    "from collections import Counter\n",
    "class KNN:\n",
    "    \"\"\"Clasificador KNN.\n",
    "    \n",
    "    Parámetros\n",
    "    ------------\n",
    "    k : int\n",
    "        número de vecinos cercanos\n",
    "    p : int\n",
    "        valor para selección de métrica (1: Manhattan, 2: Euclídea)\n",
    "    \"\"\"\n",
    "    \n",
    "    def __init__(self, k=3, p=2):\n",
    "        self.k = k\n",
    "        self.p = p\n",
    "        \n",
    "    def distancia(self, vec_1, vec_2, p=2):\n",
    "        dim = len(vec_1)\n",
    "        distance=0\n",
    "        \n",
    "        for d in range(dim):\n",
    "            distance += (abs(vec_1[d]-vec_2[d]))**p\n",
    "    \n",
    "        distance = (distance)**(1/p)\n",
    "        return distance\n",
    "        \n",
    "    def fit(self, X, y):\n",
    "        \"\"\"Entrenamiento del clasificador kNN, es un algoritmo 'perezoso'\n",
    "        sólo almacena los datos y sus etiquetas\n",
    "        Parameters\n",
    "        ----------\n",
    "        X : array\n",
    "            vector de características.\n",
    "        y : array\n",
    "            clases asociadas a los datos.\n",
    "        \"\"\"\n",
    "        self.X = X\n",
    "        self.y = y\n",
    "        self.n_datos = X.shape[0]\n",
    "        \n",
    "    def predict(self, x):\n",
    "        \"\"\"Función que realiza la predicción.\n",
    "        Parameters\n",
    "        ----------\n",
    "        x : array\n",
    "            vector de patrones de entrada.\n",
    "\n",
    "        Returns\n",
    "        -------\n",
    "        vector de predicciones.\n",
    "        \"\"\"\n",
    "        \n",
    "        y_pred = []\n",
    "        #------------------------------------------------\n",
    "        for elemento in x:\n",
    "          etiquetasVecinas = []\n",
    "          distancias = []\n",
    "          etiquetas = []\n",
    "\n",
    "          for valor, etiqueta in zip(self.X, self.y):\n",
    "            distancias.append(self.distancia(elemento, valor))\n",
    "            etiquetas.append(etiqueta)\n",
    "          \n",
    "          df_distancias = pd.DataFrame({\n",
    "              \"target\" : etiquetas,\n",
    "              \"distancias\" : distancias})\n",
    "          df_distancias.sort_values(by=['distancias'],inplace=True)\n",
    "          aClasificar = df_distancias.head(self.k)\n",
    "          y_pred.append(aClasificar[\"target\"].value_counts().idxmax())\n",
    "\n",
    "          \n",
    "\n",
    "\n",
    "\n",
    "\n",
    "        #------------------------------------------------\n",
    "        return np.asarray(y_pred)"
   ]
  },
  {
   "cell_type": "markdown",
   "id": "RjIBb4IGPrqO",
   "metadata": {
    "id": "RjIBb4IGPrqO"
   },
   "source": [
    "knn = KNN()\n",
    "tiene que devolver un arrar con las predicciones"
   ]
  },
  {
   "cell_type": "markdown",
   "id": "5495f2e8-cda6-4260-913f-fca5d8bb2c11",
   "metadata": {
    "id": "5495f2e8-cda6-4260-913f-fca5d8bb2c11"
   },
   "source": [
    "## Usar el clasificador implementado"
   ]
  },
  {
   "cell_type": "code",
   "execution_count": 7,
   "id": "306fdd17-6e27-4b59-b782-a15d9db23eef",
   "metadata": {
    "colab": {
     "base_uri": "https://localhost:8080/"
    },
    "executionInfo": {
     "elapsed": 5,
     "status": "ok",
     "timestamp": 1681101655756,
     "user": {
      "displayName": "Justo Garcia",
      "userId": "08453251237348739855"
     },
     "user_tz": 180
    },
    "id": "306fdd17-6e27-4b59-b782-a15d9db23eef",
    "outputId": "1007a243-0345-486e-9f24-b96f46c561b9"
   },
   "outputs": [
    {
     "data": {
      "text/plain": [
       "array([2, 0, 0, 1, 1, 1, 2, 1, 2, 0, 0, 2, 0, 1, 0, 1, 2, 1, 1, 2, 2, 0,\n",
       "       1, 2, 1, 1, 1, 2, 0, 2, 0, 0, 1, 1, 2, 2, 0, 0, 0, 1, 2, 2, 1, 0,\n",
       "       0])"
      ]
     },
     "execution_count": 7,
     "metadata": {},
     "output_type": "execute_result"
    }
   ],
   "source": [
    "# Creamos un objeto knn usando nuestra clase\n",
    "knn = KNN(k=3)\n",
    "# llamamos al método de entrenamiento ---> Datos de entrenamiento\n",
    "knn.fit(X_train_std, y_train)\n",
    "# Hacemos la predicción con los datos de prueba\n",
    "y_pred = knn.predict(X_test_std)\n",
    "y_pred"
   ]
  },
  {
   "cell_type": "code",
   "execution_count": 8,
   "id": "f8951160-b2a4-45ef-9f3c-233536ad93da",
   "metadata": {
    "colab": {
     "base_uri": "https://localhost:8080/"
    },
    "executionInfo": {
     "elapsed": 313,
     "status": "ok",
     "timestamp": 1681101659852,
     "user": {
      "displayName": "Justo Garcia",
      "userId": "08453251237348739855"
     },
     "user_tz": 180
    },
    "id": "f8951160-b2a4-45ef-9f3c-233536ad93da",
    "outputId": "05ef7a20-6e7d-4073-e0dc-3e916eea57fb"
   },
   "outputs": [
    {
     "name": "stdout",
     "output_type": "stream",
     "text": [
      "[[2 0 0 1 1 1 2 1 2 0 0 2 0 1 0 1 2 1 1 2 2 0 1 2 1 1 1 2 0 2 0 0 1 1 2 2\n",
      "  0 0 0 1 2 2 1 0 0]\n",
      " [2 0 0 2 1 1 2 1 2 0 0 2 0 1 0 1 2 1 1 2 2 0 1 2 1 1 1 2 0 2 0 0 1 1 2 2\n",
      "  0 0 0 1 2 2 1 0 0]]\n",
      "False\n"
     ]
    }
   ],
   "source": [
    "# Comparamos nuestra predicción con los targets\n",
    "y_ = np.vstack((y_pred, y_test))\n",
    "print(y_)\n",
    "print((y_pred==y_test).all())    "
   ]
  },
  {
   "cell_type": "code",
   "execution_count": 9,
   "id": "f4107c2d-a7db-41c7-b959-05190ab9aa2c",
   "metadata": {
    "executionInfo": {
     "elapsed": 11,
     "status": "ok",
     "timestamp": 1681101676395,
     "user": {
      "displayName": "Justo Garcia",
      "userId": "08453251237348739855"
     },
     "user_tz": 180
    },
    "id": "f4107c2d-a7db-41c7-b959-05190ab9aa2c"
   },
   "outputs": [],
   "source": [
    "import matplotlib.pyplot as plt\n",
    "from matplotlib.colors import ListedColormap\n",
    "\n",
    "def plot_decision_regions(X, y, clasificador, test_idx=None, resolution=0.02):\n",
    "    \n",
    "    # setup marker generator and color map\n",
    "    markers = ('s', 'o', '^', 'v', 'x')\n",
    "    colors = ('red', 'blue', 'lightgreen', 'gray', 'cyan')\n",
    "    cmap = ListedColormap(colors[:len(np.unique(y))])\n",
    "\n",
    "    # plot the decision surface\n",
    "    x1_min, x1_max = X[:, 0].min() - 1, X[:, 0].max() + 1\n",
    "    x2_min, x2_max = X[:, 1].min() - 1, X[:, 1].max() + 1\n",
    "\n",
    "    \n",
    "    xx1, xx2 = np.meshgrid(np.arange(x1_min, x1_max, resolution),\n",
    "                           np.arange(x2_min, x2_max, resolution))\n",
    "    \n",
    "    Z = clasificador.predict(np.array([xx1.ravel(), xx2.ravel()]).T)\n",
    "\n",
    "    Z = Z.reshape(xx1.shape)\n",
    "\n",
    "    plt.contourf(xx1, xx2, Z, alpha=0.3, cmap=cmap)\n",
    "    plt.xlim(xx1.min(), xx1.max())\n",
    "    plt.ylim(xx2.min(), xx2.max())\n",
    "\n",
    "    for idx, cl in enumerate(np.unique(y)):\n",
    "        plt.scatter(x=X[y == cl, 0], \n",
    "                    y=X[y == cl, 1],\n",
    "                    alpha=0.8, \n",
    "                    c=colors[idx],\n",
    "                    marker=markers[idx], \n",
    "                    label=cl, \n",
    "                    edgecolor='black')\n",
    "\n",
    "    # highlight test samples\n",
    "    if test_idx:\n",
    "        # plot all samples\n",
    "        X_test, y_test = X[test_idx, :], y[test_idx]\n",
    "\n",
    "        plt.scatter(X_test[:, 0],\n",
    "                    X_test[:, 1],\n",
    "                    c=\"None\",\n",
    "                    edgecolor='black',\n",
    "                    alpha=1,\n",
    "                    linewidth=1,\n",
    "                    marker='o',\n",
    "                    s=100, \n",
    "                    label='test set')"
   ]
  },
  {
   "cell_type": "code",
   "execution_count": 10,
   "id": "cc97d17e-68fd-4c57-bbc4-ebeb5a551f6c",
   "metadata": {
    "colab": {
     "base_uri": "https://localhost:8080/",
     "height": 402
    },
    "executionInfo": {
     "elapsed": 45588,
     "status": "error",
     "timestamp": 1681101782338,
     "user": {
      "displayName": "Justo Garcia",
      "userId": "08453251237348739855"
     },
     "user_tz": 180
    },
    "id": "cc97d17e-68fd-4c57-bbc4-ebeb5a551f6c",
    "outputId": "222230f8-18b4-44e5-fcc5-26d01875a0c0"
   },
   "outputs": [
    {
     "ename": "KeyboardInterrupt",
     "evalue": "",
     "output_type": "error",
     "traceback": [
      "\u001b[0;31m---------------------------------------------------------------------------\u001b[0m",
      "\u001b[0;31mKeyboardInterrupt\u001b[0m                         Traceback (most recent call last)",
      "\u001b[0;32m/tmp/ipykernel_12140/2617379369.py\u001b[0m in \u001b[0;36m<module>\u001b[0;34m\u001b[0m\n\u001b[1;32m      2\u001b[0m \u001b[0my_combined\u001b[0m \u001b[0;34m=\u001b[0m \u001b[0mnp\u001b[0m\u001b[0;34m.\u001b[0m\u001b[0mhstack\u001b[0m\u001b[0;34m(\u001b[0m\u001b[0;34m(\u001b[0m\u001b[0my_train\u001b[0m\u001b[0;34m,\u001b[0m \u001b[0my_test\u001b[0m\u001b[0;34m)\u001b[0m\u001b[0;34m)\u001b[0m\u001b[0;34m\u001b[0m\u001b[0;34m\u001b[0m\u001b[0m\n\u001b[1;32m      3\u001b[0m \u001b[0mplt\u001b[0m\u001b[0;34m.\u001b[0m\u001b[0mfigure\u001b[0m\u001b[0;34m(\u001b[0m\u001b[0mfigsize\u001b[0m\u001b[0;34m=\u001b[0m\u001b[0;34m(\u001b[0m\u001b[0;36m8\u001b[0m\u001b[0;34m,\u001b[0m\u001b[0;36m6\u001b[0m\u001b[0;34m)\u001b[0m\u001b[0;34m)\u001b[0m\u001b[0;34m\u001b[0m\u001b[0;34m\u001b[0m\u001b[0m\n\u001b[0;32m----> 4\u001b[0;31m \u001b[0mplot_decision_regions\u001b[0m\u001b[0;34m(\u001b[0m \u001b[0mX\u001b[0m\u001b[0;34m=\u001b[0m\u001b[0mX_combined_std\u001b[0m\u001b[0;34m,\u001b[0m \u001b[0my\u001b[0m\u001b[0;34m=\u001b[0m\u001b[0my_combined\u001b[0m\u001b[0;34m,\u001b[0m \u001b[0mclasificador\u001b[0m\u001b[0;34m=\u001b[0m\u001b[0mknn\u001b[0m\u001b[0;34m,\u001b[0m \u001b[0mtest_idx\u001b[0m\u001b[0;34m=\u001b[0m\u001b[0mrange\u001b[0m\u001b[0;34m(\u001b[0m\u001b[0;36m105\u001b[0m\u001b[0;34m,\u001b[0m \u001b[0;36m150\u001b[0m\u001b[0;34m)\u001b[0m\u001b[0;34m)\u001b[0m\u001b[0;34m\u001b[0m\u001b[0;34m\u001b[0m\u001b[0m\n\u001b[0m\u001b[1;32m      5\u001b[0m \u001b[0mplt\u001b[0m\u001b[0;34m.\u001b[0m\u001b[0mxlabel\u001b[0m\u001b[0;34m(\u001b[0m\u001b[0;34m'longitud de pétalo [standardized]'\u001b[0m\u001b[0;34m)\u001b[0m\u001b[0;34m\u001b[0m\u001b[0;34m\u001b[0m\u001b[0m\n\u001b[1;32m      6\u001b[0m \u001b[0mplt\u001b[0m\u001b[0;34m.\u001b[0m\u001b[0mylabel\u001b[0m\u001b[0;34m(\u001b[0m\u001b[0;34m'ancho de pétalo [standardized]'\u001b[0m\u001b[0;34m)\u001b[0m\u001b[0;34m\u001b[0m\u001b[0;34m\u001b[0m\u001b[0m\n",
      "\u001b[0;32m/tmp/ipykernel_12140/786235774.py\u001b[0m in \u001b[0;36mplot_decision_regions\u001b[0;34m(X, y, clasificador, test_idx, resolution)\u001b[0m\n\u001b[1;32m     17\u001b[0m                            np.arange(x2_min, x2_max, resolution))\n\u001b[1;32m     18\u001b[0m \u001b[0;34m\u001b[0m\u001b[0m\n\u001b[0;32m---> 19\u001b[0;31m     \u001b[0mZ\u001b[0m \u001b[0;34m=\u001b[0m \u001b[0mclasificador\u001b[0m\u001b[0;34m.\u001b[0m\u001b[0mpredict\u001b[0m\u001b[0;34m(\u001b[0m\u001b[0mnp\u001b[0m\u001b[0;34m.\u001b[0m\u001b[0marray\u001b[0m\u001b[0;34m(\u001b[0m\u001b[0;34m[\u001b[0m\u001b[0mxx1\u001b[0m\u001b[0;34m.\u001b[0m\u001b[0mravel\u001b[0m\u001b[0;34m(\u001b[0m\u001b[0;34m)\u001b[0m\u001b[0;34m,\u001b[0m \u001b[0mxx2\u001b[0m\u001b[0;34m.\u001b[0m\u001b[0mravel\u001b[0m\u001b[0;34m(\u001b[0m\u001b[0;34m)\u001b[0m\u001b[0;34m]\u001b[0m\u001b[0;34m)\u001b[0m\u001b[0;34m.\u001b[0m\u001b[0mT\u001b[0m\u001b[0;34m)\u001b[0m\u001b[0;34m\u001b[0m\u001b[0;34m\u001b[0m\u001b[0m\n\u001b[0m\u001b[1;32m     20\u001b[0m \u001b[0;34m\u001b[0m\u001b[0m\n\u001b[1;32m     21\u001b[0m     \u001b[0mZ\u001b[0m \u001b[0;34m=\u001b[0m \u001b[0mZ\u001b[0m\u001b[0;34m.\u001b[0m\u001b[0mreshape\u001b[0m\u001b[0;34m(\u001b[0m\u001b[0mxx1\u001b[0m\u001b[0;34m.\u001b[0m\u001b[0mshape\u001b[0m\u001b[0;34m)\u001b[0m\u001b[0;34m\u001b[0m\u001b[0;34m\u001b[0m\u001b[0m\n",
      "\u001b[0;32m/tmp/ipykernel_12140/3047093183.py\u001b[0m in \u001b[0;36mpredict\u001b[0;34m(self, x)\u001b[0m\n\u001b[1;32m     62\u001b[0m             \u001b[0metiquetas\u001b[0m\u001b[0;34m.\u001b[0m\u001b[0mappend\u001b[0m\u001b[0;34m(\u001b[0m\u001b[0metiqueta\u001b[0m\u001b[0;34m)\u001b[0m\u001b[0;34m\u001b[0m\u001b[0;34m\u001b[0m\u001b[0m\n\u001b[1;32m     63\u001b[0m \u001b[0;34m\u001b[0m\u001b[0m\n\u001b[0;32m---> 64\u001b[0;31m           df_distancias = pd.DataFrame({\n\u001b[0m\u001b[1;32m     65\u001b[0m               \u001b[0;34m\"target\"\u001b[0m \u001b[0;34m:\u001b[0m \u001b[0metiquetas\u001b[0m\u001b[0;34m,\u001b[0m\u001b[0;34m\u001b[0m\u001b[0;34m\u001b[0m\u001b[0m\n\u001b[1;32m     66\u001b[0m               \"distancias\" : distancias})\n",
      "\u001b[0;32m~/anaconda3/lib/python3.9/site-packages/pandas/core/frame.py\u001b[0m in \u001b[0;36m__init__\u001b[0;34m(self, data, index, columns, dtype, copy)\u001b[0m\n\u001b[1;32m    634\u001b[0m         \u001b[0;32melif\u001b[0m \u001b[0misinstance\u001b[0m\u001b[0;34m(\u001b[0m\u001b[0mdata\u001b[0m\u001b[0;34m,\u001b[0m \u001b[0mdict\u001b[0m\u001b[0;34m)\u001b[0m\u001b[0;34m:\u001b[0m\u001b[0;34m\u001b[0m\u001b[0;34m\u001b[0m\u001b[0m\n\u001b[1;32m    635\u001b[0m             \u001b[0;31m# GH#38939 de facto copy defaults to False only in non-dict cases\u001b[0m\u001b[0;34m\u001b[0m\u001b[0;34m\u001b[0m\u001b[0m\n\u001b[0;32m--> 636\u001b[0;31m             \u001b[0mmgr\u001b[0m \u001b[0;34m=\u001b[0m \u001b[0mdict_to_mgr\u001b[0m\u001b[0;34m(\u001b[0m\u001b[0mdata\u001b[0m\u001b[0;34m,\u001b[0m \u001b[0mindex\u001b[0m\u001b[0;34m,\u001b[0m \u001b[0mcolumns\u001b[0m\u001b[0;34m,\u001b[0m \u001b[0mdtype\u001b[0m\u001b[0;34m=\u001b[0m\u001b[0mdtype\u001b[0m\u001b[0;34m,\u001b[0m \u001b[0mcopy\u001b[0m\u001b[0;34m=\u001b[0m\u001b[0mcopy\u001b[0m\u001b[0;34m,\u001b[0m \u001b[0mtyp\u001b[0m\u001b[0;34m=\u001b[0m\u001b[0mmanager\u001b[0m\u001b[0;34m)\u001b[0m\u001b[0;34m\u001b[0m\u001b[0;34m\u001b[0m\u001b[0m\n\u001b[0m\u001b[1;32m    637\u001b[0m         \u001b[0;32melif\u001b[0m \u001b[0misinstance\u001b[0m\u001b[0;34m(\u001b[0m\u001b[0mdata\u001b[0m\u001b[0;34m,\u001b[0m \u001b[0mma\u001b[0m\u001b[0;34m.\u001b[0m\u001b[0mMaskedArray\u001b[0m\u001b[0;34m)\u001b[0m\u001b[0;34m:\u001b[0m\u001b[0;34m\u001b[0m\u001b[0;34m\u001b[0m\u001b[0m\n\u001b[1;32m    638\u001b[0m             \u001b[0;32mimport\u001b[0m \u001b[0mnumpy\u001b[0m\u001b[0;34m.\u001b[0m\u001b[0mma\u001b[0m\u001b[0;34m.\u001b[0m\u001b[0mmrecords\u001b[0m \u001b[0;32mas\u001b[0m \u001b[0mmrecords\u001b[0m\u001b[0;34m\u001b[0m\u001b[0;34m\u001b[0m\u001b[0m\n",
      "\u001b[0;32m~/anaconda3/lib/python3.9/site-packages/pandas/core/internals/construction.py\u001b[0m in \u001b[0;36mdict_to_mgr\u001b[0;34m(data, index, columns, dtype, typ, copy)\u001b[0m\n\u001b[1;32m    500\u001b[0m         \u001b[0;31m# TODO: can we get rid of the dt64tz special case above?\u001b[0m\u001b[0;34m\u001b[0m\u001b[0;34m\u001b[0m\u001b[0m\n\u001b[1;32m    501\u001b[0m \u001b[0;34m\u001b[0m\u001b[0m\n\u001b[0;32m--> 502\u001b[0;31m     \u001b[0;32mreturn\u001b[0m \u001b[0marrays_to_mgr\u001b[0m\u001b[0;34m(\u001b[0m\u001b[0marrays\u001b[0m\u001b[0;34m,\u001b[0m \u001b[0mcolumns\u001b[0m\u001b[0;34m,\u001b[0m \u001b[0mindex\u001b[0m\u001b[0;34m,\u001b[0m \u001b[0mdtype\u001b[0m\u001b[0;34m=\u001b[0m\u001b[0mdtype\u001b[0m\u001b[0;34m,\u001b[0m \u001b[0mtyp\u001b[0m\u001b[0;34m=\u001b[0m\u001b[0mtyp\u001b[0m\u001b[0;34m,\u001b[0m \u001b[0mconsolidate\u001b[0m\u001b[0;34m=\u001b[0m\u001b[0mcopy\u001b[0m\u001b[0;34m)\u001b[0m\u001b[0;34m\u001b[0m\u001b[0;34m\u001b[0m\u001b[0m\n\u001b[0m\u001b[1;32m    503\u001b[0m \u001b[0;34m\u001b[0m\u001b[0m\n\u001b[1;32m    504\u001b[0m \u001b[0;34m\u001b[0m\u001b[0m\n",
      "\u001b[0;32m~/anaconda3/lib/python3.9/site-packages/pandas/core/internals/construction.py\u001b[0m in \u001b[0;36marrays_to_mgr\u001b[0;34m(arrays, columns, index, dtype, verify_integrity, typ, consolidate)\u001b[0m\n\u001b[1;32m    154\u001b[0m \u001b[0;34m\u001b[0m\u001b[0m\n\u001b[1;32m    155\u001b[0m     \u001b[0;32mif\u001b[0m \u001b[0mtyp\u001b[0m \u001b[0;34m==\u001b[0m \u001b[0;34m\"block\"\u001b[0m\u001b[0;34m:\u001b[0m\u001b[0;34m\u001b[0m\u001b[0;34m\u001b[0m\u001b[0m\n\u001b[0;32m--> 156\u001b[0;31m         return create_block_manager_from_column_arrays(\n\u001b[0m\u001b[1;32m    157\u001b[0m             \u001b[0marrays\u001b[0m\u001b[0;34m,\u001b[0m \u001b[0maxes\u001b[0m\u001b[0;34m,\u001b[0m \u001b[0mconsolidate\u001b[0m\u001b[0;34m=\u001b[0m\u001b[0mconsolidate\u001b[0m\u001b[0;34m\u001b[0m\u001b[0;34m\u001b[0m\u001b[0m\n\u001b[1;32m    158\u001b[0m         )\n",
      "\u001b[0;32m~/anaconda3/lib/python3.9/site-packages/pandas/core/internals/managers.py\u001b[0m in \u001b[0;36mcreate_block_manager_from_column_arrays\u001b[0;34m(arrays, axes, consolidate)\u001b[0m\n\u001b[1;32m   1967\u001b[0m     \u001b[0;32mtry\u001b[0m\u001b[0;34m:\u001b[0m\u001b[0;34m\u001b[0m\u001b[0;34m\u001b[0m\u001b[0m\n\u001b[1;32m   1968\u001b[0m         \u001b[0mblocks\u001b[0m \u001b[0;34m=\u001b[0m \u001b[0m_form_blocks\u001b[0m\u001b[0;34m(\u001b[0m\u001b[0marrays\u001b[0m\u001b[0;34m,\u001b[0m \u001b[0mconsolidate\u001b[0m\u001b[0;34m)\u001b[0m\u001b[0;34m\u001b[0m\u001b[0;34m\u001b[0m\u001b[0m\n\u001b[0;32m-> 1969\u001b[0;31m         \u001b[0mmgr\u001b[0m \u001b[0;34m=\u001b[0m \u001b[0mBlockManager\u001b[0m\u001b[0;34m(\u001b[0m\u001b[0mblocks\u001b[0m\u001b[0;34m,\u001b[0m \u001b[0maxes\u001b[0m\u001b[0;34m,\u001b[0m \u001b[0mverify_integrity\u001b[0m\u001b[0;34m=\u001b[0m\u001b[0;32mFalse\u001b[0m\u001b[0;34m)\u001b[0m\u001b[0;34m\u001b[0m\u001b[0;34m\u001b[0m\u001b[0m\n\u001b[0m\u001b[1;32m   1970\u001b[0m     \u001b[0;32mexcept\u001b[0m \u001b[0mValueError\u001b[0m \u001b[0;32mas\u001b[0m \u001b[0me\u001b[0m\u001b[0;34m:\u001b[0m\u001b[0;34m\u001b[0m\u001b[0;34m\u001b[0m\u001b[0m\n\u001b[1;32m   1971\u001b[0m         \u001b[0;32mraise\u001b[0m \u001b[0mconstruction_error\u001b[0m\u001b[0;34m(\u001b[0m\u001b[0mlen\u001b[0m\u001b[0;34m(\u001b[0m\u001b[0marrays\u001b[0m\u001b[0;34m)\u001b[0m\u001b[0;34m,\u001b[0m \u001b[0marrays\u001b[0m\u001b[0;34m[\u001b[0m\u001b[0;36m0\u001b[0m\u001b[0;34m]\u001b[0m\u001b[0;34m.\u001b[0m\u001b[0mshape\u001b[0m\u001b[0;34m,\u001b[0m \u001b[0maxes\u001b[0m\u001b[0;34m,\u001b[0m \u001b[0me\u001b[0m\u001b[0;34m)\u001b[0m\u001b[0;34m\u001b[0m\u001b[0;34m\u001b[0m\u001b[0m\n",
      "\u001b[0;31mKeyboardInterrupt\u001b[0m: "
     ]
    },
    {
     "data": {
      "text/plain": [
       "<Figure size 800x600 with 0 Axes>"
      ]
     },
     "metadata": {},
     "output_type": "display_data"
    }
   ],
   "source": [
    "X_combined_std = np.vstack((X_train_std, X_test_std))\n",
    "y_combined = np.hstack((y_train, y_test))\n",
    "plt.figure(figsize=(8,6))\n",
    "plot_decision_regions( X=X_combined_std, y=y_combined, clasificador=knn, test_idx=range(105, 150))\n",
    "plt.xlabel('longitud de pétalo [standardized]')\n",
    "plt.ylabel('ancho de pétalo [standardized]')\n",
    "plt.legend(loc='upper left')\n",
    "plt.tight_layout()\n",
    "plt.show()"
   ]
  },
  {
   "cell_type": "code",
   "execution_count": 11,
   "id": "2c2758f9-f624-4207-bad9-6bc64f1a83ab",
   "metadata": {
    "executionInfo": {
     "elapsed": 282,
     "status": "ok",
     "timestamp": 1681101725426,
     "user": {
      "displayName": "Justo Garcia",
      "userId": "08453251237348739855"
     },
     "user_tz": 180
    },
    "id": "2c2758f9-f624-4207-bad9-6bc64f1a83ab"
   },
   "outputs": [],
   "source": [
    "\n",
    "y_pred = knn.predict(X_test_std)"
   ]
  },
  {
   "cell_type": "code",
   "execution_count": 12,
   "id": "f75d8232-d156-4108-abf6-f47291c5dd60",
   "metadata": {
    "colab": {
     "base_uri": "https://localhost:8080/"
    },
    "executionInfo": {
     "elapsed": 5,
     "status": "ok",
     "timestamp": 1681101727598,
     "user": {
      "displayName": "Justo Garcia",
      "userId": "08453251237348739855"
     },
     "user_tz": 180
    },
    "id": "f75d8232-d156-4108-abf6-f47291c5dd60",
    "outputId": "9339b9b4-bd58-4ed1-a871-321e32015d45"
   },
   "outputs": [
    {
     "name": "stdout",
     "output_type": "stream",
     "text": [
      "0.9777777777777777\n"
     ]
    }
   ],
   "source": [
    "def accuracy(y_pred, y_test):\n",
    "    return np.sum( np.equal(y_pred, y_test) ) / len(y_test)\n",
    "\n",
    "print(accuracy(y_pred, y_test))\n"
   ]
  },
  {
   "cell_type": "code",
   "execution_count": null,
   "id": "zE_lsSMGeHp6",
   "metadata": {
    "id": "zE_lsSMGeHp6"
   },
   "outputs": [],
   "source": []
  }
 ],
 "metadata": {
  "colab": {
   "provenance": []
  },
  "kernelspec": {
   "display_name": "Python 3 (ipykernel)",
   "language": "python",
   "name": "python3"
  },
  "language_info": {
   "codemirror_mode": {
    "name": "ipython",
    "version": 3
   },
   "file_extension": ".py",
   "mimetype": "text/x-python",
   "name": "python",
   "nbconvert_exporter": "python",
   "pygments_lexer": "ipython3",
   "version": "3.9.13"
  }
 },
 "nbformat": 4,
 "nbformat_minor": 5
}
