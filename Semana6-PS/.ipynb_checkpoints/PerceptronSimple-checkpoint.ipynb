{
 "cells": [
  {
   "cell_type": "markdown",
   "id": "7512bc91",
   "metadata": {},
   "source": [
    "# Redes Neuronales Artificiales \n",
    "## Perceptrón Simple\n"
   ]
  },
  {
   "cell_type": "markdown",
   "id": "be5fa769-040c-4c53-83f0-a785db60e6c9",
   "metadata": {
    "tags": []
   },
   "source": [
    "Un Perceptrón simple (PS) es la red neuronal más sencilla que se puede considerar, está conformado por una sola neurona que posee N entradas y una función de transferencia de tipo umbral, tal como se ve en la siguiente figura:\n",
    "\n",
    "<center><img src=\"./images/perceptron.png\" width=\"980\" alt=\"centered image\"></center>\n",
    "\n"
   ]
  },
  {
   "cell_type": "markdown",
   "id": "2189b931-5911-469d-a686-d7e194c8eddb",
   "metadata": {
    "tags": []
   },
   "source": [
    "Haciendo un pequeño cambio y llevando el umbral $\\theta$ hacia la izquierda en las ecuaciones anteriores, podemos definir un nuevo peso\n",
    "$w_0 = -\\theta$ y la entrada $x_0 = 1$ para poder escribir la salida de forma más compacta:\n",
    "\n",
    "<center><img src=\"./images/perceptron_bias.png\" width=\"980\"></center>"
   ]
  },
  {
   "cell_type": "markdown",
   "id": "1baeb641-fb5d-47d7-9a11-e984e0cf4a35",
   "metadata": {
    "tags": []
   },
   "source": [
    "Podemos representar la salida con la siguiente expresión: $$y = sign(\\sum\\limits_{i=0}^N {x_i w_i})$$\n",
    "\n",
    "_**sign**_ corresponde a la función signo y es la _función de activación_ del perceptrón simple. Más adelante veremos que existen otras funciones de activación para otras aplicaciones. "
   ]
  },
  {
   "cell_type": "markdown",
   "id": "99ccbde2-e77f-4c62-9abf-b7dededc4724",
   "metadata": {},
   "source": [
    "El PS permite resolver problemas linealmente separables mediante una recta o un hiperplano de separación con ordenada al origen distinta de cero gracias al término de _Bias_\n",
    "\n",
    "<center><img src=\"./images/lineal_separable.png\" height=50></center>"
   ]
  },
  {
   "cell_type": "markdown",
   "id": "69e50340-67d0-4c50-813b-45b9d1c1cbd0",
   "metadata": {},
   "source": [
    "A continuación, vamos a implementar la _clase Perceptron_ y el algoritmo de entrenamiento o _Regla del Perceptrón Simple_ 🙂\n",
    "\n",
    "Esta regla puede implementarse siguiendo estos pasos:\n",
    "1. Inicializar el vector de pesos w con valores aleatorios entre 0 y 1.\n",
    "2. Presentar un patrón de entrada x y calcular la salida $$y = sign(x_0 w_0 + \\sum\\limits_{i=1}^N {x_i w_i})$$  Recordemos que $w_0$ es el término de bias y $x_0=1$, podemos representar la suma de productos usando un producto punto entre vectores: $$y = sign( w_0 + \\vec{w}^T \\cdot \\vec{x})$$\n",
    "\n",
    "3. Calcular el error entre la salida obtenida y la salida deseada $y_d$ $$e = y - y_d$$\n",
    "4. Ajustar los pesos de la red con la siguiente ecuación: $$ \\vec{w} = \\vec{w} + \\mu \\vec{e} \\cdot \\vec{x}$$ $\\mu$ es el coeficiente de aprendizaje o factor de entrenamiento (eta)\n",
    "5. Volver al paso 2 y repetir el proceso"
   ]
  },
  {
   "cell_type": "code",
   "execution_count": 24,
   "id": "df9236c0",
   "metadata": {},
   "outputs": [],
   "source": [
    "# Librerías a importar\n",
    "import numpy as np\n",
    "from numpy.random import RandomState\n",
    "import matplotlib.pyplot as plt\n",
    "import pandas as pd"
   ]
  },
  {
   "cell_type": "code",
   "execution_count": 25,
   "id": "8a2436fd",
   "metadata": {},
   "outputs": [],
   "source": [
    "class Perceptron(object):\n",
    "    \"\"\"Perceptrón simple.\n",
    "    \n",
    "    Parámetros\n",
    "    ------------\n",
    "    eta : float\n",
    "        factor de entrenamiento (entre 0.0 y 1.0)\n",
    "    n_iter : int\n",
    "        iteraciones para el entrenamiento.\n",
    "    random_state : int\n",
    "        Semilla generadora de números aleatorios para la inicialización de los pesos.\n",
    "    \n",
    "    Atributos\n",
    "    -----------\n",
    "    w_ : 1d-array\n",
    "        Pesos despues del entrenamiento.\n",
    "    errores_ : list\n",
    "        Número de desaciertos en cada época\n",
    "    \"\"\"\n",
    "    def __init__(self, eta=0.01, n_iter=50, random_state=1):\n",
    "        self.eta = eta\n",
    "        self.n_iter = n_iter\n",
    "        self.random_state = random_state\n",
    "\n",
    "    def fit(self, X, y):\n",
    "        \"\"\"Ajuste de los datos de entrenamiento.\n",
    "        Parameters\n",
    "        ----------\n",
    "        X : array, shape = [n_muestras, n_caracteristicas]\n",
    "          vector de entrenamiento\n",
    "        y : array, shape = [n_muestras]\n",
    "          vector target.\n",
    "          \n",
    "        Returns\n",
    "        -------\n",
    "        self : objeto\n",
    "\n",
    "        \"\"\"\n",
    "        \n",
    "        rgen = RandomState(self.random_state)\n",
    "        #inicializo los pesos con valores aleatorios entre 0 y 1\n",
    "        self.w_ = rgen.normal(loc=0.0, scale=0.01, size=1 + X.shape[1])\n",
    "        self.errores_ = []\n",
    "\n",
    "        # para cada época\n",
    "        for _ in range(self.n_iter):\n",
    "            #guarda el número de errores por época\n",
    "            errores = 0\n",
    "            # para cada valor de (x, target) en el vector de entrada:x y vector de salida(target):y\n",
    "            for xi, target in zip(X, y):\n",
    "                # cálculo de la salida \n",
    "                y_salida = self.predict(xi)\n",
    "                # --------cálculo del error y actualización del vector de pesos-------\n",
    "                \n",
    "                update = self.eta * (target - y_salida)\n",
    "                self.w_[1:] += update * xi\n",
    "                self.w_[0] += update\n",
    "                #------------------------------------------------------------------------\n",
    "                #si update es distinto de 0 la salida predicha difiere de la salida esperada\n",
    "                errores += int(update != 0.0)\n",
    "            self.errores_.append(errores)\n",
    "            \n",
    "        return self\n",
    "\n",
    "    def calcular_entrada(self, X):\n",
    "        \"\"\"cálculo de la entrada al perceptrón\"\"\"\n",
    "        # -------suma de los productos de los valores de entrada y los pesos -----------\n",
    "        \n",
    "        return np.dot(X, self.w_[1:]) + self.w_[0]\n",
    "        #-------------------------------------------------------------------------------\n",
    "\n",
    "    def predict(self, X):\n",
    "        \"\"\"devuelve la etiqueta de la clase pertenciente después de aplicar la fn. de activación\"\"\"\n",
    "        # la función de activación es la función signo: \n",
    "        # 0 si el resultado de calcular_entrada < 0\n",
    "        # 1 si el resultado de calcular_entrada >= 0\n",
    "        return np.where(self.calcular_entrada(X) >= 0.0, 1, 0)"
   ]
  },
  {
   "cell_type": "markdown",
   "id": "0f02a46c-4251-4780-a422-8b5ba173f71d",
   "metadata": {},
   "source": [
    "## Dataset Iris \n",
    "El conjunto de datos flor Iris contiene 50 muestras de cada una de tres especies de Iris (Iris setosa, Iris versicolor e Iris virginica), en total 150 muestras. Se midió cuatro rasgos de cada muestra: el largo y ancho del sépalo y pétalo, en centímetros. \n",
    "\n",
    ">Nosotros vamos a utilizar nuestro perceptrón para separar dos clases de flores (Iris setosa e Iris versicolor) según dos de sus características: Largo de sépalo (primer columna en el dataset) y largo de pétalo (tercer columna).  "
   ]
  },
  {
   "cell_type": "code",
   "execution_count": 26,
   "id": "28151f66",
   "metadata": {},
   "outputs": [
    {
     "data": {
      "text/html": [
       "<div>\n",
       "<style scoped>\n",
       "    .dataframe tbody tr th:only-of-type {\n",
       "        vertical-align: middle;\n",
       "    }\n",
       "\n",
       "    .dataframe tbody tr th {\n",
       "        vertical-align: top;\n",
       "    }\n",
       "\n",
       "    .dataframe thead th {\n",
       "        text-align: right;\n",
       "    }\n",
       "</style>\n",
       "<table border=\"1\" class=\"dataframe\">\n",
       "  <thead>\n",
       "    <tr style=\"text-align: right;\">\n",
       "      <th></th>\n",
       "      <th>0</th>\n",
       "      <th>1</th>\n",
       "      <th>2</th>\n",
       "      <th>3</th>\n",
       "      <th>4</th>\n",
       "    </tr>\n",
       "  </thead>\n",
       "  <tbody>\n",
       "    <tr>\n",
       "      <th>145</th>\n",
       "      <td>6.7</td>\n",
       "      <td>3.0</td>\n",
       "      <td>5.2</td>\n",
       "      <td>2.3</td>\n",
       "      <td>Iris-virginica</td>\n",
       "    </tr>\n",
       "    <tr>\n",
       "      <th>146</th>\n",
       "      <td>6.3</td>\n",
       "      <td>2.5</td>\n",
       "      <td>5.0</td>\n",
       "      <td>1.9</td>\n",
       "      <td>Iris-virginica</td>\n",
       "    </tr>\n",
       "    <tr>\n",
       "      <th>147</th>\n",
       "      <td>6.5</td>\n",
       "      <td>3.0</td>\n",
       "      <td>5.2</td>\n",
       "      <td>2.0</td>\n",
       "      <td>Iris-virginica</td>\n",
       "    </tr>\n",
       "    <tr>\n",
       "      <th>148</th>\n",
       "      <td>6.2</td>\n",
       "      <td>3.4</td>\n",
       "      <td>5.4</td>\n",
       "      <td>2.3</td>\n",
       "      <td>Iris-virginica</td>\n",
       "    </tr>\n",
       "    <tr>\n",
       "      <th>149</th>\n",
       "      <td>5.9</td>\n",
       "      <td>3.0</td>\n",
       "      <td>5.1</td>\n",
       "      <td>1.8</td>\n",
       "      <td>Iris-virginica</td>\n",
       "    </tr>\n",
       "  </tbody>\n",
       "</table>\n",
       "</div>"
      ],
      "text/plain": [
       "       0    1    2    3               4\n",
       "145  6.7  3.0  5.2  2.3  Iris-virginica\n",
       "146  6.3  2.5  5.0  1.9  Iris-virginica\n",
       "147  6.5  3.0  5.2  2.0  Iris-virginica\n",
       "148  6.2  3.4  5.4  2.3  Iris-virginica\n",
       "149  5.9  3.0  5.1  1.8  Iris-virginica"
      ]
     },
     "execution_count": 26,
     "metadata": {},
     "output_type": "execute_result"
    }
   ],
   "source": [
    "#Iris Dataset: tamaño total 150 datos\n",
    "#Este dataset está organizado en 50 datos de Iris-setosa, 50 datos de Iris-versicolor y 50 datos de Iris-virginica\n",
    "\n",
    "#Cargo el Dataset\n",
    "df = pd.read_csv('https://archive.ics.uci.edu/ml/machine-learning-databases/iris/iris.data', header=None)\n",
    "\n",
    "#muestra las últimas 5 líneas del dataset\n",
    "df.tail()\n",
    "# Observar que el dataset tiene 5 columnas, donde la última corresponde a las etiquetas de las clases esperadas"
   ]
  },
  {
   "cell_type": "markdown",
   "id": "031c6744-b0f1-421c-884e-0f98b108dfdc",
   "metadata": {},
   "source": [
    "# Graficamos el Dataset"
   ]
  },
  {
   "cell_type": "code",
   "execution_count": 27,
   "id": "037aef30",
   "metadata": {},
   "outputs": [
    {
     "data": {
      "image/png": "[encoded data removed]",
      "text/plain": [
       "<Figure size 432x288 with 1 Axes>"
      ]
     },
     "metadata": {
      "needs_background": "light"
     },
     "output_type": "display_data"
    }
   ],
   "source": [
    "# Target: extraigo 100 etiquetas de clase correspondientes a 50 flores Iris-setosa y 50 Iris-versicolor\n",
    "y = df.iloc[0:100, 4].values\n",
    "#print(y)\n",
    "\n",
    "#convertimos las etiquetas de clases en  0 (Iris-setosa)  y 1 (Iris-versicolor)\n",
    "y = np.where(y == 'Iris-setosa', 0, 1)\n",
    "#print(y)\n",
    "\n",
    "#Extraigo la primera y tercera columna del dataset como características de entrada\n",
    "# columna 0 : longitud de sépalo, columna 2 : longitud de pétalo\n",
    "X = df.iloc[0:100, [0, 2]].values\n",
    "#print(X)\n",
    "\n",
    "#plot de los datos\n",
    "plt.scatter( X[:50, 0], X[:50, 1], color='red', marker='o', label='setosa')\n",
    "plt.scatter( X[50:100, 0], X[50:100, 1], color='blue', marker='x', label='versicolor')\n",
    "plt.xlabel('x1 = largo de sépalo [cm]')\n",
    "plt.ylabel('x2 = largo de pétalo [cm]')\n",
    "plt.legend(loc='upper left')\n",
    "plt.show()\n",
    "\n",
    "#Hasta aquí tenemos la distribución de una muestra de flores del dataset Iris teniendo en cuenta dos características\n",
    "#longitudes del sépalo y pétalo "
   ]
  },
  {
   "cell_type": "markdown",
   "id": "f0a8b099-f254-40df-9843-68a859c4e2b2",
   "metadata": {},
   "source": [
    "# Entrenamiento del Perceptrón"
   ]
  },
  {
   "cell_type": "code",
   "execution_count": 28,
   "id": "c795c4f9",
   "metadata": {},
   "outputs": [
    {
     "data": {
      "image/png": "[encoded data removed]",
      "text/plain": [
       "<Figure size 432x288 with 1 Axes>"
      ]
     },
     "metadata": {
      "needs_background": "light"
     },
     "output_type": "display_data"
    }
   ],
   "source": [
    "#Instancio un objeto de la clase Perceptron\n",
    "perceptron = Perceptron(eta=0.1, n_iter=10)\n",
    "\n",
    "#llamo a su método fit\n",
    "perceptron.fit(X,y)\n",
    "#print(perceptron.w_)\n",
    "\n",
    "#Grafico el número de errores por época\n",
    "plt.plot( range(1, len(perceptron.errores_)+1),  perceptron.errores_,  marker = 'o' )\n",
    "plt.xlabel('Épocas')\n",
    "plt.ylabel('Número de actualizaciones')\n",
    "plt.show()\n"
   ]
  },
  {
   "cell_type": "markdown",
   "id": "02969f89-9b89-44d0-b15c-c1e258662bf6",
   "metadata": {},
   "source": [
    "Recordemos la ecuación: $$y = sign(w_0 + \\sum\\limits_{i=1}^N {x_i w_i})$$ \n",
    "\n",
    "Para este problema con dos características (x1 = longitudes del sépalo y x2= longitudes de pétalo ), la ecuación resulta: \n",
    "\n",
    "$$y = sign(x_1 w_1 + x_2 w_2 + w_0)$$ \n",
    "\n",
    "Donde se separan las dos clases de flores, tendremos la frontera de decisión, dada por la ecuación:\n",
    "\n",
    "$$x_1 w_1 + x_2 w_2 + w_0 = 0$$ \n",
    "\n",
    "De esta ecuación podemos despejar la recta $x_2$ en función de $x_1$ que separa las clases en el espacio de soluciones\n",
    "\n",
    "$$x_2 + x_1 \\frac{w_1}{w_2} + \\frac{w_0}{w_2} = 0$$ \n",
    "\n",
    "$$x_2 =  -\\frac{w_1}{w_2}x_1 - \\frac{w_0}{w_2} $$ \n",
    "\n",
    "La pendiente de la recta  $ m = -\\frac{w_1}{w_2}$ y la ordenada al origen $ b = - \\frac{w_0}{w_2}$"
   ]
  },
  {
   "cell_type": "markdown",
   "id": "2f1e7402-6c3e-48d6-aac0-36b01009a147",
   "metadata": {},
   "source": [
    "### _Ahora vamos a graficar esta recta!!_"
   ]
  },
  {
   "cell_type": "code",
   "execution_count": 29,
   "id": "a5a34485-59c2-4a9a-8aed-66fc872c9928",
   "metadata": {},
   "outputs": [
    {
     "data": {
      "image/png": "[encoded data removed]",
      "text/plain": [
       "<Figure size 432x288 with 1 Axes>"
      ]
     },
     "metadata": {
      "needs_background": "light"
     },
     "output_type": "display_data"
    }
   ],
   "source": [
    "#------------------ Representación de la recta ------------------------------------\n",
    "# vector de pesos del perceptrón entrenado\n",
    "w = perceptron.w_\n",
    "# cálculo de la pendiente\n",
    "m = - w[1]/w[2]\n",
    "# cálculo de la ordenada al origen\n",
    "b = - w[0]/w[2]\n",
    "# x1 corresponde a la longitud de sépalos\n",
    "x1 = X[:, 0]\n",
    "x2 = m*x1 + b\n",
    "# ----------------------------------------------------------------------------------\n",
    "\n",
    "#plot de la recta\n",
    "plt.plot(x1, x2, color='green')\n",
    "#plot de los datos\n",
    "plt.scatter( X[:50, 0], X[:50, 1], color='red', marker='.', label='setosa')\n",
    "plt.scatter( X[50:100, 0], X[50:100, 1], color='blue', marker='*', label='versicolor')\n",
    "plt.xlabel('x1 = largo de sépalo [cm]')\n",
    "plt.ylabel('x2 = largo de pétalo [cm]')\n",
    "plt.legend(loc='upper left')\n",
    "#plt.xlim([4, 7])\n",
    "plt.show()"
   ]
  },
  {
   "cell_type": "markdown",
   "id": "9a8af0c3-b6c6-4f05-96b3-1837cb3438c1",
   "metadata": {},
   "source": [
    "## Perceptrón Usando scikit-learn\n",
    "Es una biblioteca que incluye varios algoritmos de clasificación, además de funciones para preprocesamiento de los datos, ajuste y evaluación de modelos."
   ]
  },
  {
   "cell_type": "code",
   "execution_count": 30,
   "id": "c2340b18-2b4e-457d-9ad1-a89750f780d8",
   "metadata": {
    "tags": []
   },
   "outputs": [
    {
     "name": "stdout",
     "output_type": "stream",
     "text": [
      "Class labels: [0 1 2]\n"
     ]
    }
   ],
   "source": [
    "# en esta ocasión importaremos el dataset desde la biblioteca scikit-learn:\n",
    "# https://scikit-learn.org/stable/modules/classes.html#module-sklearn.model_selection\n",
    "from sklearn import datasets\n",
    "from sklearn import model_selection\n",
    "\n",
    "iris = datasets.load_iris()\n",
    "\n",
    "#Extraemos la primera y tercera columna del dataset como características de entrada\n",
    "# columna 0 : longitud de sépalo, columna 2 : longitud de pétalo\n",
    "X = iris.data[:, [2, 3]]\n",
    "y = iris.target\n",
    "\n",
    "print('Class labels:', np.unique(y))\n",
    "\n",
    "# np.unique devuelve las únicas 3 etiquetas de clase en iris.target Iris-setosa, Iris-versicolor, Iris-virginica\n"
   ]
  },
  {
   "cell_type": "markdown",
   "id": "46e219bf-abc0-4fed-a265-66d4ac08f7f2",
   "metadata": {},
   "source": [
    "Para evaluar el comportamiento del modelo entrenado frente a datos no conocidos, Vamos a dividir el conjunto de datos en datos de entrenamiento y de prueba.\n",
    "Usando la función _train_test_split_ divido de forma aleatoria los datos en 30% de prueba (45) y 70% de entrenamiento (105). Esta función además de aleatorizar, realiza una estratificación (stratify = y) del conjunto de datos devolviendo subconjuntos de datos para entrenamiento y testeo que tienen igual proporción de etiquetas de clases que el conjunto de datos inicial.\n",
    "\n",
    "Con el parámetro random_state proveemos una semilla para el generador interno de números pseudo-aleatorio, este es un \"valor fijo aleatorio\" que permite que nuestros resultados sean reproducibles."
   ]
  },
  {
   "cell_type": "code",
   "execution_count": 31,
   "id": "2a3243e6-3d3e-454b-9790-0aa043e0a5a9",
   "metadata": {},
   "outputs": [
    {
     "name": "stdout",
     "output_type": "stream",
     "text": [
      "Número de etiquetas en y:  [50 50 50]\n",
      "Número de etiquetas en y_train:  [35 35 35]\n",
      "Número de etiquetas en y_test:  [15 15 15]\n"
     ]
    }
   ],
   "source": [
    "from sklearn.model_selection import train_test_split\n",
    "\n",
    "X_train, X_test, y_train, y_test = train_test_split(X, y, test_size=0.3, shuffle=True, random_state=1,  stratify = y)\n",
    "\n",
    "#Comprobamos el resultado de stratify = y\n",
    "print('Número de etiquetas en y: ', np.bincount(y))\n",
    "    \n",
    "print('Número de etiquetas en y_train: ', np.bincount(y_train))\n",
    "\n",
    "print('Número de etiquetas en y_test: ', np.bincount(y_test))"
   ]
  },
  {
   "cell_type": "markdown",
   "id": "78b1c2a1-523d-4c91-8ed8-79718dca7f3d",
   "metadata": {},
   "source": [
    "Muchos algoritmos de aprendizaje requieren que los datos estén escalados, conocido como \"feature scaling\" o escalamiento de características"
   ]
  },
  {
   "cell_type": "code",
   "execution_count": 32,
   "id": "4f80fd7c-408e-4b11-b876-3df07d6959e7",
   "metadata": {},
   "outputs": [],
   "source": [
    "from sklearn.preprocessing import StandardScaler\n",
    "\n",
    "sc = StandardScaler()\n",
    "sc.fit(X_train)                     # Estima los parámetros de media y desvío\n",
    "X_train_std = sc.transform(X_train) # Normaliza los datos usando las estimaciones\n",
    "X_test_std = sc.transform(X_test)   # Se utilizan los mismos parámetros para\n",
    "                                    # los datos de entrenamiento y de prueba"
   ]
  },
  {
   "cell_type": "code",
   "execution_count": 33,
   "id": "ed5768e5-57b3-49ec-85c8-d6a01cb0a648",
   "metadata": {},
   "outputs": [
    {
     "data": {
      "text/plain": [
       "Perceptron(eta0=0.1, max_iter=15, random_state=1)"
      ]
     },
     "execution_count": 33,
     "metadata": {},
     "output_type": "execute_result"
    }
   ],
   "source": [
    "# Entrenamiento\n",
    "from sklearn.linear_model import Perceptron\n",
    "from sklearn.metrics import accuracy_score\n",
    "\n",
    "ppn = Perceptron(max_iter=15, eta0=0.1, random_state=1)\n",
    "ppn.fit(X_train_std, y_train)\n",
    "\n",
    "# Usamos random_state = 1 para asegurar la reproducibilidad del shuffling inicial \n",
    "# del dataset en cada época al inicio del entrenamiento"
   ]
  },
  {
   "cell_type": "code",
   "execution_count": 34,
   "id": "a82975df-2de8-4b01-b3f6-c9f17694ffe2",
   "metadata": {},
   "outputs": [
    {
     "name": "stdout",
     "output_type": "stream",
     "text": [
      "Muestras mal clasificadas: 1/45\n",
      "Error de clasificación: 0.02\n"
     ]
    }
   ],
   "source": [
    "# Predicción    \n",
    "y_pred = ppn.predict(X_test_std)\n",
    "predicciones = (y_test != y_pred).sum()\n",
    "print(f'Muestras mal clasificadas: {predicciones}/{len(X_test_std)}')\n",
    "error = (predicciones)/len(X_test_std)\n",
    "print(f'Error de clasificación: {error:.2f}')"
   ]
  },
  {
   "cell_type": "code",
   "execution_count": 35,
   "id": "e1fb2379-65f1-4e05-9288-81217a81dc36",
   "metadata": {},
   "outputs": [
    {
     "name": "stdout",
     "output_type": "stream",
     "text": [
      "Precisión: 0.98\n"
     ]
    }
   ],
   "source": [
    "# Cálculo de la precisión\n",
    "accuracy_pred = (1 - error)\n",
    "print(f'Precisión: {accuracy_pred:.2f}')"
   ]
  },
  {
   "cell_type": "code",
   "execution_count": 36,
   "id": "6af91bd6-f4c8-4b67-ae41-bcb32e9cc97f",
   "metadata": {},
   "outputs": [
    {
     "name": "stdout",
     "output_type": "stream",
     "text": [
      "Accuracy: 0.98\n"
     ]
    }
   ],
   "source": [
    "# usando métricas de scikit-learn\n",
    "from sklearn.metrics import accuracy_score\n",
    "accuracy_pred = accuracy_score(y_test, y_pred)\n",
    "print(f'Accuracy: {accuracy_pred:.2f}')"
   ]
  },
  {
   "cell_type": "code",
   "execution_count": 37,
   "id": "8b83ebaf-7bd2-4710-93f9-962d25cad9db",
   "metadata": {
    "tags": []
   },
   "outputs": [
    {
     "name": "stdout",
     "output_type": "stream",
     "text": [
      "Precisión de clasificación: 0.98\n"
     ]
    }
   ],
   "source": [
    "# Predicción y cálculo de la precisión\n",
    "accuracy_pred = ppn.score(X_test_std, y_test) # combina la predicción con el cálculo de la precisión\n",
    "print(f'Precisión de clasificación: {accuracy_pred:.2f}')"
   ]
  },
  {
   "cell_type": "code",
   "execution_count": 38,
   "id": "9bbbae28",
   "metadata": {
    "tags": []
   },
   "outputs": [],
   "source": [
    "#Graficación de los límites\n",
    "from matplotlib.colors import ListedColormap\n",
    "\n",
    "def plot_decision_regions(X, y, classifier, test_idx=None, resolution=0.02):\n",
    "    \n",
    "    # setup marker generator and color map\n",
    "    markers = ('s', 'x', 'o', '^', 'v')\n",
    "    colors = ('red', 'blue', 'lightgreen', 'gray', 'cyan')\n",
    "    cmap = ListedColormap(colors[:len(np.unique(y))])\n",
    "\n",
    "    # plot the decision surface\n",
    "    x1_min, x1_max = X[:, 0].min() - 1, X[:, 0].max() + 1\n",
    "    x2_min, x2_max = X[:, 1].min() - 1, X[:, 1].max() + 1\n",
    "    xx1, xx2 = np.meshgrid(np.arange(x1_min, x1_max, resolution),\n",
    "                           np.arange(x2_min, x2_max, resolution))\n",
    "\n",
    "    Z = classifier.predict(np.array([xx1.ravel(), xx2.ravel()]).T)\n",
    "    Z = Z.reshape(xx1.shape)\n",
    "    plt.contourf(xx1, xx2, Z, alpha=0.3, cmap=cmap)\n",
    "    plt.xlim(xx1.min(), xx1.max())\n",
    "    plt.ylim(xx2.min(), xx2.max())\n",
    "\n",
    "    for idx, cl in enumerate(np.unique(y)):\n",
    "        plt.scatter(x=X[y == cl, 0], \n",
    "                    y=X[y == cl, 1],\n",
    "                    alpha=0.8, \n",
    "                    c=colors[idx],\n",
    "                    marker=markers[idx], \n",
    "                    label=cl, \n",
    "                    edgecolor='black')\n",
    "\n",
    "    # highlight test samples\n",
    "    if test_idx:\n",
    "        # plot all samples\n",
    "        X_test, y_test = X[test_idx, :], y[test_idx]\n",
    "\n",
    "        plt.scatter(X_test[:, 0],\n",
    "                    X_test[:, 1],\n",
    "                    c='',\n",
    "                    edgecolor='black',\n",
    "                    alpha=1.0,\n",
    "                    linewidth=1,\n",
    "                    marker='o',\n",
    "                    s=100, \n",
    "                    label='test set')\n"
   ]
  },
  {
   "cell_type": "code",
   "execution_count": 39,
   "id": "92806a43",
   "metadata": {
    "tags": []
   },
   "outputs": [
    {
     "name": "stderr",
     "output_type": "stream",
     "text": [
      "<ipython-input-38-84422b844ce1>:37: MatplotlibDeprecationWarning: Using a string of single character colors as a color sequence is deprecated since 3.2 and will be removed two minor releases later. Use an explicit list instead.\n",
      "  plt.scatter(X_test[:, 0],\n"
     ]
    },
    {
     "data": {
      "image/png": "[encoded data removed]",
      "text/plain": [
       "<Figure size 432x288 with 1 Axes>"
      ]
     },
     "metadata": {
      "needs_background": "light"
     },
     "output_type": "display_data"
    }
   ],
   "source": [
    "X_combined_std = np.vstack((X_train_std, X_test_std))\n",
    "y_combined = np.hstack((y_train, y_test))\n",
    "plot_decision_regions( X=X_combined_std, y=y_combined, classifier=ppn, test_idx=range(105, 150))\n",
    "plt.xlabel('longitud de pétalo [standardized]')\n",
    "plt.ylabel('ancho de pétalo [standardized]')\n",
    "plt.legend(loc='upper left')\n",
    "plt.tight_layout()\n",
    "plt.show()"
   ]
  }
 ],
 "metadata": {
  "kernelspec": {
   "display_name": "Python 3",
   "language": "python",
   "name": "python3"
  },
  "language_info": {
   "codemirror_mode": {
    "name": "ipython",
    "version": 3
   },
   "file_extension": ".py",
   "mimetype": "text/x-python",
   "name": "python",
   "nbconvert_exporter": "python",
   "pygments_lexer": "ipython3",
   "version": "3.8.8"
  }
 },
 "nbformat": 4,
 "nbformat_minor": 5
}
