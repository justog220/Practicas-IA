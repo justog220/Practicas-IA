{
 "cells": [
  {
   "cell_type": "code",
   "execution_count": 1,
   "metadata": {
    "executionInfo": {
     "elapsed": 222,
     "status": "ok",
     "timestamp": 1680544184024,
     "user": {
      "displayName": "Justo Garcia",
      "userId": "08453251237348739855"
     },
     "user_tz": 180
    },
    "id": "avLCG8yOccpa",
    "tags": []
   },
   "outputs": [],
   "source": [
    "import numpy as np\n",
    "import pandas as pd\n",
    "import matplotlib.pyplot as plt\n",
    "from sklearn.model_selection import train_test_split\n",
    "from sklearn.linear_model import LogisticRegression\n",
    "from sklearn.preprocessing import StandardScaler"
   ]
  },
  {
   "cell_type": "code",
   "execution_count": 2,
   "metadata": {
    "colab": {
     "base_uri": "https://localhost:8080/",
     "height": 0
    },
    "executionInfo": {
     "elapsed": 38,
     "status": "ok",
     "timestamp": 1680544188081,
     "user": {
      "displayName": "Justo Garcia",
      "userId": "08453251237348739855"
     },
     "user_tz": 180
    },
    "id": "aoF-79j38PyR",
    "outputId": "616f237c-b132-426f-a48a-52280c1adcce"
   },
   "outputs": [
    {
     "data": {
      "text/html": [
       "<div>\n",
       "<style scoped>\n",
       "    .dataframe tbody tr th:only-of-type {\n",
       "        vertical-align: middle;\n",
       "    }\n",
       "\n",
       "    .dataframe tbody tr th {\n",
       "        vertical-align: top;\n",
       "    }\n",
       "\n",
       "    .dataframe thead th {\n",
       "        text-align: right;\n",
       "    }\n",
       "</style>\n",
       "<table border=\"1\" class=\"dataframe\">\n",
       "  <thead>\n",
       "    <tr style=\"text-align: right;\">\n",
       "      <th></th>\n",
       "      <th>Unnamed: 0</th>\n",
       "      <th>Pregnancies</th>\n",
       "      <th>Glucose</th>\n",
       "      <th>BloodPressure</th>\n",
       "      <th>SkinThickness</th>\n",
       "      <th>Insulin</th>\n",
       "      <th>BMI</th>\n",
       "      <th>DiabetesPedigreeFunction</th>\n",
       "      <th>Age</th>\n",
       "      <th>Outcome</th>\n",
       "    </tr>\n",
       "  </thead>\n",
       "  <tbody>\n",
       "    <tr>\n",
       "      <th>0</th>\n",
       "      <td>0</td>\n",
       "      <td>6</td>\n",
       "      <td>148</td>\n",
       "      <td>72.0</td>\n",
       "      <td>35.0</td>\n",
       "      <td>0.0</td>\n",
       "      <td>33.6</td>\n",
       "      <td>0.627</td>\n",
       "      <td>50</td>\n",
       "      <td>1</td>\n",
       "    </tr>\n",
       "    <tr>\n",
       "      <th>1</th>\n",
       "      <td>1</td>\n",
       "      <td>1</td>\n",
       "      <td>85</td>\n",
       "      <td>66.0</td>\n",
       "      <td>29.0</td>\n",
       "      <td>0.0</td>\n",
       "      <td>26.6</td>\n",
       "      <td>0.351</td>\n",
       "      <td>31</td>\n",
       "      <td>0</td>\n",
       "    </tr>\n",
       "    <tr>\n",
       "      <th>2</th>\n",
       "      <td>2</td>\n",
       "      <td>8</td>\n",
       "      <td>183</td>\n",
       "      <td>64.0</td>\n",
       "      <td>0.0</td>\n",
       "      <td>0.0</td>\n",
       "      <td>23.3</td>\n",
       "      <td>0.672</td>\n",
       "      <td>32</td>\n",
       "      <td>1</td>\n",
       "    </tr>\n",
       "    <tr>\n",
       "      <th>3</th>\n",
       "      <td>3</td>\n",
       "      <td>1</td>\n",
       "      <td>89</td>\n",
       "      <td>66.0</td>\n",
       "      <td>23.0</td>\n",
       "      <td>94.0</td>\n",
       "      <td>28.1</td>\n",
       "      <td>0.167</td>\n",
       "      <td>21</td>\n",
       "      <td>0</td>\n",
       "    </tr>\n",
       "    <tr>\n",
       "      <th>4</th>\n",
       "      <td>4</td>\n",
       "      <td>0</td>\n",
       "      <td>137</td>\n",
       "      <td>40.0</td>\n",
       "      <td>35.0</td>\n",
       "      <td>168.0</td>\n",
       "      <td>43.1</td>\n",
       "      <td>2.288</td>\n",
       "      <td>33</td>\n",
       "      <td>1</td>\n",
       "    </tr>\n",
       "    <tr>\n",
       "      <th>5</th>\n",
       "      <td>5</td>\n",
       "      <td>5</td>\n",
       "      <td>116</td>\n",
       "      <td>74.0</td>\n",
       "      <td>0.0</td>\n",
       "      <td>0.0</td>\n",
       "      <td>25.6</td>\n",
       "      <td>0.201</td>\n",
       "      <td>30</td>\n",
       "      <td>0</td>\n",
       "    </tr>\n",
       "    <tr>\n",
       "      <th>6</th>\n",
       "      <td>6</td>\n",
       "      <td>3</td>\n",
       "      <td>78</td>\n",
       "      <td>50.0</td>\n",
       "      <td>32.0</td>\n",
       "      <td>88.0</td>\n",
       "      <td>31.0</td>\n",
       "      <td>0.248</td>\n",
       "      <td>26</td>\n",
       "      <td>1</td>\n",
       "    </tr>\n",
       "    <tr>\n",
       "      <th>7</th>\n",
       "      <td>7</td>\n",
       "      <td>10</td>\n",
       "      <td>115</td>\n",
       "      <td>NaN</td>\n",
       "      <td>NaN</td>\n",
       "      <td>NaN</td>\n",
       "      <td>35.3</td>\n",
       "      <td>0.134</td>\n",
       "      <td>29</td>\n",
       "      <td>0</td>\n",
       "    </tr>\n",
       "    <tr>\n",
       "      <th>8</th>\n",
       "      <td>8</td>\n",
       "      <td>2</td>\n",
       "      <td>197</td>\n",
       "      <td>70.0</td>\n",
       "      <td>45.0</td>\n",
       "      <td>543.0</td>\n",
       "      <td>30.5</td>\n",
       "      <td>0.158</td>\n",
       "      <td>53</td>\n",
       "      <td>1</td>\n",
       "    </tr>\n",
       "    <tr>\n",
       "      <th>9</th>\n",
       "      <td>9</td>\n",
       "      <td>8</td>\n",
       "      <td>125</td>\n",
       "      <td>96.0</td>\n",
       "      <td>NaN</td>\n",
       "      <td>NaN</td>\n",
       "      <td>NaN</td>\n",
       "      <td>0.232</td>\n",
       "      <td>54</td>\n",
       "      <td>1</td>\n",
       "    </tr>\n",
       "  </tbody>\n",
       "</table>\n",
       "</div>"
      ],
      "text/plain": [
       "   Unnamed: 0  Pregnancies  Glucose  BloodPressure  SkinThickness  Insulin  \\\n",
       "0           0            6      148           72.0           35.0      0.0   \n",
       "1           1            1       85           66.0           29.0      0.0   \n",
       "2           2            8      183           64.0            0.0      0.0   \n",
       "3           3            1       89           66.0           23.0     94.0   \n",
       "4           4            0      137           40.0           35.0    168.0   \n",
       "5           5            5      116           74.0            0.0      0.0   \n",
       "6           6            3       78           50.0           32.0     88.0   \n",
       "7           7           10      115            NaN            NaN      NaN   \n",
       "8           8            2      197           70.0           45.0    543.0   \n",
       "9           9            8      125           96.0            NaN      NaN   \n",
       "\n",
       "    BMI  DiabetesPedigreeFunction  Age  Outcome  \n",
       "0  33.6                     0.627   50        1  \n",
       "1  26.6                     0.351   31        0  \n",
       "2  23.3                     0.672   32        1  \n",
       "3  28.1                     0.167   21        0  \n",
       "4  43.1                     2.288   33        1  \n",
       "5  25.6                     0.201   30        0  \n",
       "6  31.0                     0.248   26        1  \n",
       "7  35.3                     0.134   29        0  \n",
       "8  30.5                     0.158   53        1  \n",
       "9   NaN                     0.232   54        1  "
      ]
     },
     "execution_count": 2,
     "metadata": {},
     "output_type": "execute_result"
    }
   ],
   "source": [
    "df_diabetes = pd.read_csv(\"data/diabetes.csv\")\n",
    "df_diabetes.head(10)"
   ]
  },
  {
   "cell_type": "code",
   "execution_count": 3,
   "metadata": {
    "colab": {
     "base_uri": "https://localhost:8080/",
     "height": 0
    },
    "executionInfo": {
     "elapsed": 35,
     "status": "ok",
     "timestamp": 1680544188081,
     "user": {
      "displayName": "Justo Garcia",
      "userId": "08453251237348739855"
     },
     "user_tz": 180
    },
    "id": "9H4EPx54DULj",
    "outputId": "a8eb442c-56a0-4197-dd25-3d8d46465a5e"
   },
   "outputs": [
    {
     "data": {
      "text/html": [
       "<div>\n",
       "<style scoped>\n",
       "    .dataframe tbody tr th:only-of-type {\n",
       "        vertical-align: middle;\n",
       "    }\n",
       "\n",
       "    .dataframe tbody tr th {\n",
       "        vertical-align: top;\n",
       "    }\n",
       "\n",
       "    .dataframe thead th {\n",
       "        text-align: right;\n",
       "    }\n",
       "</style>\n",
       "<table border=\"1\" class=\"dataframe\">\n",
       "  <thead>\n",
       "    <tr style=\"text-align: right;\">\n",
       "      <th></th>\n",
       "      <th>Unnamed: 0</th>\n",
       "      <th>Pregnancies</th>\n",
       "      <th>Glucose</th>\n",
       "      <th>BloodPressure</th>\n",
       "      <th>SkinThickness</th>\n",
       "      <th>Insulin</th>\n",
       "      <th>BMI</th>\n",
       "      <th>DiabetesPedigreeFunction</th>\n",
       "      <th>Age</th>\n",
       "      <th>Outcome</th>\n",
       "    </tr>\n",
       "  </thead>\n",
       "  <tbody>\n",
       "    <tr>\n",
       "      <th>Unnamed: 0</th>\n",
       "      <td>1.000000</td>\n",
       "      <td>-0.037201</td>\n",
       "      <td>0.012994</td>\n",
       "      <td>0.013177</td>\n",
       "      <td>-0.015267</td>\n",
       "      <td>-0.005718</td>\n",
       "      <td>0.003421</td>\n",
       "      <td>-0.040326</td>\n",
       "      <td>0.007714</td>\n",
       "      <td>-0.045184</td>\n",
       "    </tr>\n",
       "    <tr>\n",
       "      <th>Pregnancies</th>\n",
       "      <td>-0.037201</td>\n",
       "      <td>1.000000</td>\n",
       "      <td>0.129459</td>\n",
       "      <td>0.151388</td>\n",
       "      <td>-0.061487</td>\n",
       "      <td>-0.068015</td>\n",
       "      <td>0.024504</td>\n",
       "      <td>-0.033523</td>\n",
       "      <td>0.544341</td>\n",
       "      <td>0.221898</td>\n",
       "    </tr>\n",
       "    <tr>\n",
       "      <th>Glucose</th>\n",
       "      <td>0.012994</td>\n",
       "      <td>0.129459</td>\n",
       "      <td>1.000000</td>\n",
       "      <td>0.153012</td>\n",
       "      <td>0.062008</td>\n",
       "      <td>0.333955</td>\n",
       "      <td>0.224176</td>\n",
       "      <td>0.137337</td>\n",
       "      <td>0.263514</td>\n",
       "      <td>0.466581</td>\n",
       "    </tr>\n",
       "    <tr>\n",
       "      <th>BloodPressure</th>\n",
       "      <td>0.013177</td>\n",
       "      <td>0.151388</td>\n",
       "      <td>0.153012</td>\n",
       "      <td>1.000000</td>\n",
       "      <td>0.216862</td>\n",
       "      <td>0.089877</td>\n",
       "      <td>0.297168</td>\n",
       "      <td>0.036845</td>\n",
       "      <td>0.239872</td>\n",
       "      <td>0.062199</td>\n",
       "    </tr>\n",
       "    <tr>\n",
       "      <th>SkinThickness</th>\n",
       "      <td>-0.015267</td>\n",
       "      <td>-0.061487</td>\n",
       "      <td>0.062008</td>\n",
       "      <td>0.216862</td>\n",
       "      <td>1.000000</td>\n",
       "      <td>0.429934</td>\n",
       "      <td>0.399942</td>\n",
       "      <td>0.183921</td>\n",
       "      <td>-0.106260</td>\n",
       "      <td>0.083108</td>\n",
       "    </tr>\n",
       "    <tr>\n",
       "      <th>Insulin</th>\n",
       "      <td>-0.005718</td>\n",
       "      <td>-0.068015</td>\n",
       "      <td>0.333955</td>\n",
       "      <td>0.089877</td>\n",
       "      <td>0.429934</td>\n",
       "      <td>1.000000</td>\n",
       "      <td>0.197989</td>\n",
       "      <td>0.187177</td>\n",
       "      <td>-0.039496</td>\n",
       "      <td>0.131699</td>\n",
       "    </tr>\n",
       "    <tr>\n",
       "      <th>BMI</th>\n",
       "      <td>0.003421</td>\n",
       "      <td>0.024504</td>\n",
       "      <td>0.224176</td>\n",
       "      <td>0.297168</td>\n",
       "      <td>0.399942</td>\n",
       "      <td>0.197989</td>\n",
       "      <td>1.000000</td>\n",
       "      <td>0.138354</td>\n",
       "      <td>0.046185</td>\n",
       "      <td>0.303572</td>\n",
       "    </tr>\n",
       "    <tr>\n",
       "      <th>DiabetesPedigreeFunction</th>\n",
       "      <td>-0.040326</td>\n",
       "      <td>-0.033523</td>\n",
       "      <td>0.137337</td>\n",
       "      <td>0.036845</td>\n",
       "      <td>0.183921</td>\n",
       "      <td>0.187177</td>\n",
       "      <td>0.138354</td>\n",
       "      <td>1.000000</td>\n",
       "      <td>0.033561</td>\n",
       "      <td>0.173844</td>\n",
       "    </tr>\n",
       "    <tr>\n",
       "      <th>Age</th>\n",
       "      <td>0.007714</td>\n",
       "      <td>0.544341</td>\n",
       "      <td>0.263514</td>\n",
       "      <td>0.239872</td>\n",
       "      <td>-0.106260</td>\n",
       "      <td>-0.039496</td>\n",
       "      <td>0.046185</td>\n",
       "      <td>0.033561</td>\n",
       "      <td>1.000000</td>\n",
       "      <td>0.238356</td>\n",
       "    </tr>\n",
       "    <tr>\n",
       "      <th>Outcome</th>\n",
       "      <td>-0.045184</td>\n",
       "      <td>0.221898</td>\n",
       "      <td>0.466581</td>\n",
       "      <td>0.062199</td>\n",
       "      <td>0.083108</td>\n",
       "      <td>0.131699</td>\n",
       "      <td>0.303572</td>\n",
       "      <td>0.173844</td>\n",
       "      <td>0.238356</td>\n",
       "      <td>1.000000</td>\n",
       "    </tr>\n",
       "  </tbody>\n",
       "</table>\n",
       "</div>"
      ],
      "text/plain": [
       "                          Unnamed: 0  Pregnancies   Glucose  BloodPressure  \\\n",
       "Unnamed: 0                  1.000000    -0.037201  0.012994       0.013177   \n",
       "Pregnancies                -0.037201     1.000000  0.129459       0.151388   \n",
       "Glucose                     0.012994     0.129459  1.000000       0.153012   \n",
       "BloodPressure               0.013177     0.151388  0.153012       1.000000   \n",
       "SkinThickness              -0.015267    -0.061487  0.062008       0.216862   \n",
       "Insulin                    -0.005718    -0.068015  0.333955       0.089877   \n",
       "BMI                         0.003421     0.024504  0.224176       0.297168   \n",
       "DiabetesPedigreeFunction   -0.040326    -0.033523  0.137337       0.036845   \n",
       "Age                         0.007714     0.544341  0.263514       0.239872   \n",
       "Outcome                    -0.045184     0.221898  0.466581       0.062199   \n",
       "\n",
       "                          SkinThickness   Insulin       BMI  \\\n",
       "Unnamed: 0                    -0.015267 -0.005718  0.003421   \n",
       "Pregnancies                   -0.061487 -0.068015  0.024504   \n",
       "Glucose                        0.062008  0.333955  0.224176   \n",
       "BloodPressure                  0.216862  0.089877  0.297168   \n",
       "SkinThickness                  1.000000  0.429934  0.399942   \n",
       "Insulin                        0.429934  1.000000  0.197989   \n",
       "BMI                            0.399942  0.197989  1.000000   \n",
       "DiabetesPedigreeFunction       0.183921  0.187177  0.138354   \n",
       "Age                           -0.106260 -0.039496  0.046185   \n",
       "Outcome                        0.083108  0.131699  0.303572   \n",
       "\n",
       "                          DiabetesPedigreeFunction       Age   Outcome  \n",
       "Unnamed: 0                               -0.040326  0.007714 -0.045184  \n",
       "Pregnancies                              -0.033523  0.544341  0.221898  \n",
       "Glucose                                   0.137337  0.263514  0.466581  \n",
       "BloodPressure                             0.036845  0.239872  0.062199  \n",
       "SkinThickness                             0.183921 -0.106260  0.083108  \n",
       "Insulin                                   0.187177 -0.039496  0.131699  \n",
       "BMI                                       0.138354  0.046185  0.303572  \n",
       "DiabetesPedigreeFunction                  1.000000  0.033561  0.173844  \n",
       "Age                                       0.033561  1.000000  0.238356  \n",
       "Outcome                                   0.173844  0.238356  1.000000  "
      ]
     },
     "execution_count": 3,
     "metadata": {},
     "output_type": "execute_result"
    }
   ],
   "source": [
    "df_diabetes.corr()"
   ]
  },
  {
   "cell_type": "code",
   "execution_count": 4,
   "metadata": {
    "executionInfo": {
     "elapsed": 34,
     "status": "ok",
     "timestamp": 1680544188082,
     "user": {
      "displayName": "Justo Garcia",
      "userId": "08453251237348739855"
     },
     "user_tz": 180
    },
    "id": "-f93ZkQD8U__"
   },
   "outputs": [],
   "source": [
    "df_diabetes.drop(\"Unnamed: 0\", axis=1, inplace=True)"
   ]
  },
  {
   "cell_type": "code",
   "execution_count": 5,
   "metadata": {
    "colab": {
     "base_uri": "https://localhost:8080/"
    },
    "executionInfo": {
     "elapsed": 35,
     "status": "ok",
     "timestamp": 1680544188083,
     "user": {
      "displayName": "Justo Garcia",
      "userId": "08453251237348739855"
     },
     "user_tz": 180
    },
    "id": "LCiqmeSceBBK",
    "outputId": "5d9c5765-afb1-4e3a-ec17-477d5f1d8955"
   },
   "outputs": [
    {
     "name": "stdout",
     "output_type": "stream",
     "text": [
      "<class 'pandas.core.frame.DataFrame'>\n",
      "RangeIndex: 768 entries, 0 to 767\n",
      "Data columns (total 9 columns):\n",
      " #   Column                    Non-Null Count  Dtype  \n",
      "---  ------                    --------------  -----  \n",
      " 0   Pregnancies               768 non-null    int64  \n",
      " 1   Glucose                   768 non-null    int64  \n",
      " 2   BloodPressure             767 non-null    float64\n",
      " 3   SkinThickness             756 non-null    float64\n",
      " 4   Insulin                   763 non-null    float64\n",
      " 5   BMI                       767 non-null    float64\n",
      " 6   DiabetesPedigreeFunction  768 non-null    float64\n",
      " 7   Age                       768 non-null    int64  \n",
      " 8   Outcome                   768 non-null    int64  \n",
      "dtypes: float64(5), int64(4)\n",
      "memory usage: 54.1 KB\n"
     ]
    }
   ],
   "source": [
    "df_diabetes.info()"
   ]
  },
  {
   "cell_type": "code",
   "execution_count": 6,
   "metadata": {
    "executionInfo": {
     "elapsed": 32,
     "status": "ok",
     "timestamp": 1680544188084,
     "user": {
      "displayName": "Justo Garcia",
      "userId": "08453251237348739855"
     },
     "user_tz": 180
    },
    "id": "qeROZsTY8oOr"
   },
   "outputs": [],
   "source": [
    "df_diabetes[[\"Glucose\", \"BloodPressure\", \"SkinThickness\", \"Insulin\", \"BMI\"]] = df_diabetes[[\"Glucose\", \"BloodPressure\", \"SkinThickness\", \"Insulin\", \"BMI\"]].replace(0, np.NaN)"
   ]
  },
  {
   "cell_type": "code",
   "execution_count": 7,
   "metadata": {
    "colab": {
     "base_uri": "https://localhost:8080/"
    },
    "executionInfo": {
     "elapsed": 32,
     "status": "ok",
     "timestamp": 1680544188085,
     "user": {
      "displayName": "Justo Garcia",
      "userId": "08453251237348739855"
     },
     "user_tz": 180
    },
    "id": "P7Ye3MrZ9Yvq",
    "outputId": "1a5a64fb-e30d-4b10-d364-ea48f4d20a1f"
   },
   "outputs": [
    {
     "data": {
      "text/plain": [
       "Pregnancies                   0\n",
       "Glucose                       5\n",
       "BloodPressure                35\n",
       "SkinThickness               227\n",
       "Insulin                     374\n",
       "BMI                          11\n",
       "DiabetesPedigreeFunction      0\n",
       "Age                           0\n",
       "Outcome                       0\n",
       "dtype: int64"
      ]
     },
     "execution_count": 7,
     "metadata": {},
     "output_type": "execute_result"
    }
   ],
   "source": [
    "df_diabetes.isna().sum()"
   ]
  },
  {
   "cell_type": "markdown",
   "metadata": {
    "id": "7jqy2rSBTSvR"
   },
   "source": [
    "## Separar los datos en entrenamiento y prueba"
   ]
  },
  {
   "cell_type": "code",
   "execution_count": 8,
   "metadata": {
    "executionInfo": {
     "elapsed": 31,
     "status": "ok",
     "timestamp": 1680544188086,
     "user": {
      "displayName": "Justo Garcia",
      "userId": "08453251237348739855"
     },
     "user_tz": 180
    },
    "id": "zeMz5FeUyjaW"
   },
   "outputs": [],
   "source": [
    "train_set, test_set = train_test_split(df_diabetes, test_size=0.2, random_state=42, shuffle=True, stratify=df_diabetes['Outcome'])"
   ]
  },
  {
   "cell_type": "markdown",
   "metadata": {
    "id": "YEjGrtQdyj7N"
   },
   "source": [
    "### Utilice la siguiente clase para crear un pipeline que permita imputar un valor (mediana) a los datos faltantes y escalar los datos"
   ]
  },
  {
   "cell_type": "code",
   "execution_count": 9,
   "metadata": {
    "executionInfo": {
     "elapsed": 31,
     "status": "ok",
     "timestamp": 1680544188086,
     "user": {
      "displayName": "Justo Garcia",
      "userId": "08453251237348739855"
     },
     "user_tz": 180
    },
    "id": "qfXkXOOo_cOD"
   },
   "outputs": [],
   "source": [
    "from sklearn.base import BaseEstimator, TransformerMixin\n",
    "from sklearn.utils.validation import check_array, check_is_fitted\n",
    "from sklearn.impute import SimpleImputer\n",
    "\n",
    "class ConditionalImputer(BaseEstimator, TransformerMixin):\n",
    "    def __init__(self, strategy=\"mean\", condition=None):\n",
    "        self.strategy = strategy\n",
    "        self.atributos = []\n",
    "        self.condition = condition\n",
    "\n",
    "    def fit(self, X, y=None):\n",
    "        self.atributos = X.columns\n",
    "        if not self.condition:\n",
    "            self.imputer_ = SimpleImputer(strategy=self.strategy)\n",
    "            self.imputer_.fit(X)\n",
    "        else:\n",
    "            self.target_ = X[self.condition].unique()\n",
    "            if self.strategy == 'median':\n",
    "                self.median_ = X.groupby([self.condition]).median().reset_index()\n",
    "                \n",
    "            elif self.strategy == 'mean':\n",
    "                self.mean_ = X.groupby([self.condition]).mean().reset_index()\n",
    "        return self\n",
    "    \n",
    "    def transform(self, X):\n",
    "        check_is_fitted(self)\n",
    "        X_copy = X.copy()\n",
    "        if not self.condition:\n",
    "            return self.imputer_.transform(X_copy)\n",
    "        else:\n",
    "            for target in self.target_:\n",
    "                for atributo in self.atributos:\n",
    "                    if self.strategy == 'median':\n",
    "                        X_copy.loc[ (X_copy[self.condition]==target) & (X_copy[atributo].isna()), atributo ] = \\\n",
    "                        self.median_[atributo][target]\n",
    "                    elif self.strategy == 'mean':\n",
    "                        X_copy.loc[ (X_copy[self.condition]==target) & (X_copy[atributo].isna()), atributo ] = \\\n",
    "                        self.mean_[atributo][target]\n",
    "            X_copy.drop(self.condition, axis=1, inplace=True)\n",
    "            return X_copy\n",
    "\n",
    "#Devuelve el conjunto de datos con los datos faltantes reemplazados por las medias/medianas de sus respectivas columnas dependiendo de la clase\n",
    "#y sin la columna correspondiente al target"
   ]
  },
  {
   "cell_type": "code",
   "execution_count": 10,
   "metadata": {
    "executionInfo": {
     "elapsed": 31,
     "status": "ok",
     "timestamp": 1680544188087,
     "user": {
      "displayName": "Justo Garcia",
      "userId": "08453251237348739855"
     },
     "user_tz": 180
    },
    "id": "RFhszohF-270"
   },
   "outputs": [],
   "source": [
    "from sklearn.pipeline import Pipeline\n",
    "\n",
    "pipeline = Pipeline(\n",
    "    [\n",
    "        ('imputer', ConditionalImputer(strategy=\"median\", condition=\"Outcome\")),\n",
    "        ('std_scaler', StandardScaler()),\n",
    "    ]\n",
    ")"
   ]
  },
  {
   "cell_type": "code",
   "execution_count": 11,
   "metadata": {
    "colab": {
     "base_uri": "https://localhost:8080/",
     "height": 0
    },
    "executionInfo": {
     "elapsed": 32,
     "status": "ok",
     "timestamp": 1680544188088,
     "user": {
      "displayName": "Justo Garcia",
      "userId": "08453251237348739855"
     },
     "user_tz": 180
    },
    "id": "BoVIQIHx_Ult",
    "outputId": "1d54f0f8-45f4-4b78-f26a-ff96318203a6"
   },
   "outputs": [
    {
     "data": {
      "text/html": [
       "<div>\n",
       "<style scoped>\n",
       "    .dataframe tbody tr th:only-of-type {\n",
       "        vertical-align: middle;\n",
       "    }\n",
       "\n",
       "    .dataframe tbody tr th {\n",
       "        vertical-align: top;\n",
       "    }\n",
       "\n",
       "    .dataframe thead th {\n",
       "        text-align: right;\n",
       "    }\n",
       "</style>\n",
       "<table border=\"1\" class=\"dataframe\">\n",
       "  <thead>\n",
       "    <tr style=\"text-align: right;\">\n",
       "      <th></th>\n",
       "      <th>Pregnancies</th>\n",
       "      <th>Glucose</th>\n",
       "      <th>BloodPressure</th>\n",
       "      <th>SkinThickness</th>\n",
       "      <th>Insulin</th>\n",
       "      <th>BMI</th>\n",
       "      <th>DiabetesPedigreeFunction</th>\n",
       "      <th>Age</th>\n",
       "    </tr>\n",
       "  </thead>\n",
       "  <tbody>\n",
       "    <tr>\n",
       "      <th>0</th>\n",
       "      <td>0.852530</td>\n",
       "      <td>1.166257</td>\n",
       "      <td>-0.834758</td>\n",
       "      <td>-0.279808</td>\n",
       "      <td>-0.405021</td>\n",
       "      <td>-0.714430</td>\n",
       "      <td>-0.465625</td>\n",
       "      <td>0.634010</td>\n",
       "    </tr>\n",
       "    <tr>\n",
       "      <th>1</th>\n",
       "      <td>1.690549</td>\n",
       "      <td>-1.665822</td>\n",
       "      <td>2.881150</td>\n",
       "      <td>-0.750743</td>\n",
       "      <td>-0.997512</td>\n",
       "      <td>0.429575</td>\n",
       "      <td>-0.492533</td>\n",
       "      <td>1.245336</td>\n",
       "    </tr>\n",
       "    <tr>\n",
       "      <th>2</th>\n",
       "      <td>-0.544168</td>\n",
       "      <td>0.014753</td>\n",
       "      <td>0.226930</td>\n",
       "      <td>-0.279808</td>\n",
       "      <td>0.358036</td>\n",
       "      <td>0.486069</td>\n",
       "      <td>0.099438</td>\n",
       "      <td>-0.588642</td>\n",
       "    </tr>\n",
       "    <tr>\n",
       "      <th>3</th>\n",
       "      <td>0.852530</td>\n",
       "      <td>-0.234221</td>\n",
       "      <td>-0.834758</td>\n",
       "      <td>0.308859</td>\n",
       "      <td>0.142585</td>\n",
       "      <td>-0.714430</td>\n",
       "      <td>0.843887</td>\n",
       "      <td>0.110016</td>\n",
       "    </tr>\n",
       "    <tr>\n",
       "      <th>4</th>\n",
       "      <td>-0.544168</td>\n",
       "      <td>-1.479091</td>\n",
       "      <td>-0.126966</td>\n",
       "      <td>-0.279808</td>\n",
       "      <td>-0.405021</td>\n",
       "      <td>-0.354280</td>\n",
       "      <td>-1.039658</td>\n",
       "      <td>-0.937972</td>\n",
       "    </tr>\n",
       "    <tr>\n",
       "      <th>...</th>\n",
       "      <td>...</td>\n",
       "      <td>...</td>\n",
       "      <td>...</td>\n",
       "      <td>...</td>\n",
       "      <td>...</td>\n",
       "      <td>...</td>\n",
       "      <td>...</td>\n",
       "      <td>...</td>\n",
       "    </tr>\n",
       "    <tr>\n",
       "      <th>149</th>\n",
       "      <td>-0.264828</td>\n",
       "      <td>-1.043387</td>\n",
       "      <td>-1.365602</td>\n",
       "      <td>-2.163545</td>\n",
       "      <td>-0.952626</td>\n",
       "      <td>-1.081642</td>\n",
       "      <td>-0.546349</td>\n",
       "      <td>-0.937972</td>\n",
       "    </tr>\n",
       "    <tr>\n",
       "      <th>150</th>\n",
       "      <td>-0.544168</td>\n",
       "      <td>-0.856656</td>\n",
       "      <td>0.226930</td>\n",
       "      <td>-1.339410</td>\n",
       "      <td>-0.844900</td>\n",
       "      <td>-0.121242</td>\n",
       "      <td>0.595738</td>\n",
       "      <td>-0.850639</td>\n",
       "    </tr>\n",
       "    <tr>\n",
       "      <th>151</th>\n",
       "      <td>-0.544168</td>\n",
       "      <td>-1.230117</td>\n",
       "      <td>-1.896446</td>\n",
       "      <td>-0.868476</td>\n",
       "      <td>-0.405021</td>\n",
       "      <td>-0.559071</td>\n",
       "      <td>3.734980</td>\n",
       "      <td>-0.675975</td>\n",
       "    </tr>\n",
       "    <tr>\n",
       "      <th>152</th>\n",
       "      <td>0.014511</td>\n",
       "      <td>1.944301</td>\n",
       "      <td>0.403878</td>\n",
       "      <td>1.132994</td>\n",
       "      <td>1.049276</td>\n",
       "      <td>0.641428</td>\n",
       "      <td>-0.555318</td>\n",
       "      <td>-0.151981</td>\n",
       "    </tr>\n",
       "    <tr>\n",
       "      <th>153</th>\n",
       "      <td>-0.823508</td>\n",
       "      <td>-1.572457</td>\n",
       "      <td>0.403878</td>\n",
       "      <td>2.428064</td>\n",
       "      <td>-1.033420</td>\n",
       "      <td>0.104734</td>\n",
       "      <td>-0.082937</td>\n",
       "      <td>-1.025304</td>\n",
       "    </tr>\n",
       "  </tbody>\n",
       "</table>\n",
       "<p>154 rows × 8 columns</p>\n",
       "</div>"
      ],
      "text/plain": [
       "     Pregnancies   Glucose  BloodPressure  SkinThickness   Insulin       BMI  \\\n",
       "0       0.852530  1.166257      -0.834758      -0.279808 -0.405021 -0.714430   \n",
       "1       1.690549 -1.665822       2.881150      -0.750743 -0.997512  0.429575   \n",
       "2      -0.544168  0.014753       0.226930      -0.279808  0.358036  0.486069   \n",
       "3       0.852530 -0.234221      -0.834758       0.308859  0.142585 -0.714430   \n",
       "4      -0.544168 -1.479091      -0.126966      -0.279808 -0.405021 -0.354280   \n",
       "..           ...       ...            ...            ...       ...       ...   \n",
       "149    -0.264828 -1.043387      -1.365602      -2.163545 -0.952626 -1.081642   \n",
       "150    -0.544168 -0.856656       0.226930      -1.339410 -0.844900 -0.121242   \n",
       "151    -0.544168 -1.230117      -1.896446      -0.868476 -0.405021 -0.559071   \n",
       "152     0.014511  1.944301       0.403878       1.132994  1.049276  0.641428   \n",
       "153    -0.823508 -1.572457       0.403878       2.428064 -1.033420  0.104734   \n",
       "\n",
       "     DiabetesPedigreeFunction       Age  \n",
       "0                   -0.465625  0.634010  \n",
       "1                   -0.492533  1.245336  \n",
       "2                    0.099438 -0.588642  \n",
       "3                    0.843887  0.110016  \n",
       "4                   -1.039658 -0.937972  \n",
       "..                        ...       ...  \n",
       "149                 -0.546349 -0.937972  \n",
       "150                  0.595738 -0.850639  \n",
       "151                  3.734980 -0.675975  \n",
       "152                 -0.555318 -0.151981  \n",
       "153                 -0.082937 -1.025304  \n",
       "\n",
       "[154 rows x 8 columns]"
      ]
     },
     "execution_count": 11,
     "metadata": {},
     "output_type": "execute_result"
    }
   ],
   "source": [
    "diabetes_train_final = pipeline.fit_transform(train_set)\n",
    "diabetes_test_final = pipeline.fit_transform(test_set)\n",
    "df_train_final = pd.DataFrame(diabetes_train_final, columns=train_set.drop(\"Outcome\", axis=1).columns)\n",
    "df_test_final = pd.DataFrame(diabetes_test_final, columns=test_set.drop(\"Outcome\", axis=1).columns)\n",
    "df_test_final"
   ]
  },
  {
   "cell_type": "markdown",
   "metadata": {
    "id": "vO1oh5NKp0ZP"
   },
   "source": [
    "## Regresión Logística con una variable"
   ]
  },
  {
   "cell_type": "code",
   "execution_count": 17,
   "metadata": {
    "executionInfo": {
     "elapsed": 32,
     "status": "ok",
     "timestamp": 1680544188089,
     "user": {
      "displayName": "Justo Garcia",
      "userId": "08453251237348739855"
     },
     "user_tz": 180
    },
    "id": "omPiRicAyemu"
   },
   "outputs": [],
   "source": [
    "y = train_set[\"Outcome\"]\n",
    "X = df_train_final[\"Glucose\"]\n",
    "lrgd = LogisticRegression(max_iter=1000, random_state=1)\n",
    "lrgd = lrgd.fit(X.to_numpy().reshape(-1, 1) , y)"
   ]
  },
  {
   "cell_type": "markdown",
   "metadata": {
    "id": "yV66qJadrTf-"
   },
   "source": [
    "## Regresión Logística con 2 variables"
   ]
  },
  {
   "cell_type": "code",
   "execution_count": 18,
   "metadata": {
    "colab": {
     "base_uri": "https://localhost:8080/",
     "height": 0
    },
    "executionInfo": {
     "elapsed": 31,
     "status": "ok",
     "timestamp": 1680544188089,
     "user": {
      "displayName": "Justo Garcia",
      "userId": "08453251237348739855"
     },
     "user_tz": 180
    },
    "id": "DzpCEr1QygAi",
    "outputId": "4434c0fb-7833-4cb9-a1cf-19e87903d66f"
   },
   "outputs": [
    {
     "data": {
      "text/html": [
       "<div>\n",
       "<style scoped>\n",
       "    .dataframe tbody tr th:only-of-type {\n",
       "        vertical-align: middle;\n",
       "    }\n",
       "\n",
       "    .dataframe tbody tr th {\n",
       "        vertical-align: top;\n",
       "    }\n",
       "\n",
       "    .dataframe thead th {\n",
       "        text-align: right;\n",
       "    }\n",
       "</style>\n",
       "<table border=\"1\" class=\"dataframe\">\n",
       "  <thead>\n",
       "    <tr style=\"text-align: right;\">\n",
       "      <th></th>\n",
       "      <th>Glucose</th>\n",
       "      <th>BMI</th>\n",
       "    </tr>\n",
       "  </thead>\n",
       "  <tbody>\n",
       "    <tr>\n",
       "      <th>0</th>\n",
       "      <td>-1.057086</td>\n",
       "      <td>-0.766169</td>\n",
       "    </tr>\n",
       "    <tr>\n",
       "      <th>1</th>\n",
       "      <td>0.142577</td>\n",
       "      <td>-0.414469</td>\n",
       "    </tr>\n",
       "    <tr>\n",
       "      <th>2</th>\n",
       "      <td>-0.557227</td>\n",
       "      <td>0.362201</td>\n",
       "    </tr>\n",
       "    <tr>\n",
       "      <th>3</th>\n",
       "      <td>0.809056</td>\n",
       "      <td>-0.399815</td>\n",
       "    </tr>\n",
       "    <tr>\n",
       "      <th>4</th>\n",
       "      <td>-0.890466</td>\n",
       "      <td>1.783654</td>\n",
       "    </tr>\n",
       "    <tr>\n",
       "      <th>...</th>\n",
       "      <td>...</td>\n",
       "      <td>...</td>\n",
       "    </tr>\n",
       "    <tr>\n",
       "      <th>609</th>\n",
       "      <td>0.409168</td>\n",
       "      <td>-0.517048</td>\n",
       "    </tr>\n",
       "    <tr>\n",
       "      <th>610</th>\n",
       "      <td>-1.523621</td>\n",
       "      <td>0.230314</td>\n",
       "    </tr>\n",
       "    <tr>\n",
       "      <th>611</th>\n",
       "      <td>-0.823818</td>\n",
       "      <td>0.831134</td>\n",
       "    </tr>\n",
       "    <tr>\n",
       "      <th>612</th>\n",
       "      <td>-0.357283</td>\n",
       "      <td>-0.722206</td>\n",
       "    </tr>\n",
       "    <tr>\n",
       "      <th>613</th>\n",
       "      <td>0.742408</td>\n",
       "      <td>-0.429123</td>\n",
       "    </tr>\n",
       "  </tbody>\n",
       "</table>\n",
       "<p>614 rows × 2 columns</p>\n",
       "</div>"
      ],
      "text/plain": [
       "      Glucose       BMI\n",
       "0   -1.057086 -0.766169\n",
       "1    0.142577 -0.414469\n",
       "2   -0.557227  0.362201\n",
       "3    0.809056 -0.399815\n",
       "4   -0.890466  1.783654\n",
       "..        ...       ...\n",
       "609  0.409168 -0.517048\n",
       "610 -1.523621  0.230314\n",
       "611 -0.823818  0.831134\n",
       "612 -0.357283 -0.722206\n",
       "613  0.742408 -0.429123\n",
       "\n",
       "[614 rows x 2 columns]"
      ]
     },
     "execution_count": 18,
     "metadata": {},
     "output_type": "execute_result"
    }
   ],
   "source": [
    "y_bi = train_set[\"Outcome\"]\n",
    "X_bi = pd.concat([df_train_final[\"Glucose\"], df_train_final[\"BMI\"]], axis=1)\n",
    "lrgd_bi = LogisticRegression(max_iter=1000, random_state=1)\n",
    "lrgd_bi = lrgd_bi.fit(X_bi, y_bi)\n",
    "X_bi"
   ]
  },
  {
   "cell_type": "markdown",
   "metadata": {
    "id": "HA6bvO-dr8nP"
   },
   "source": [
    "## Regresión Logística Multivariada"
   ]
  },
  {
   "cell_type": "code",
   "execution_count": 19,
   "metadata": {
    "executionInfo": {
     "elapsed": 31,
     "status": "ok",
     "timestamp": 1680544188090,
     "user": {
      "displayName": "Justo Garcia",
      "userId": "08453251237348739855"
     },
     "user_tz": 180
    },
    "id": "hKqlhMoTyhqn"
   },
   "outputs": [],
   "source": [
    "y_multi = train_set[\"Outcome\"]\n",
    "X_multi = df_train_final\n",
    "lrgd_multi = LogisticRegression(max_iter=1000, random_state=1)\n",
    "lrgd_multi = lrgd_multi.fit(X_multi, y_multi)"
   ]
  },
  {
   "cell_type": "markdown",
   "metadata": {
    "id": "330b5834-03d1-41c2-93d4-1f4b6be22868"
   },
   "source": [
    "### Medida de desempeño Accuracy \n",
    "(Tasa de aciertos)\n",
    "\n",
    "$$Acc = \\frac{aciertos}{N}$$"
   ]
  },
  {
   "cell_type": "markdown",
   "metadata": {
    "id": "XazAP-wvtzX8"
   },
   "source": [
    "Utilice el método `score`de [LogisticRegression](https://scikit-learn.org/stable/modules/generated/sklearn.linear_model.LogisticRegression.html) para calcular el accuracy en los 3 casos anteriores"
   ]
  },
  {
   "cell_type": "code",
   "execution_count": 20,
   "metadata": {
    "colab": {
     "base_uri": "https://localhost:8080/"
    },
    "executionInfo": {
     "elapsed": 31,
     "status": "ok",
     "timestamp": 1680544188091,
     "user": {
      "displayName": "Justo Garcia",
      "userId": "08453251237348739855"
     },
     "user_tz": 180
    },
    "id": "OTb5u_22Got7",
    "outputId": "328852ff-ba4c-4411-8ae6-cf79c2d7e292"
   },
   "outputs": [
    {
     "name": "stdout",
     "output_type": "stream",
     "text": [
      "Con set de entrenamiento:\n",
      "\tUnivariado: 0.758957654723127\n",
      "\tBivariado: 0.7833876221498371\n",
      "\tMultivariado: 0.7947882736156352\n",
      "\n",
      "\n",
      "Con set de prueba:\n",
      "\tUnivariado: 0.7077922077922078\n",
      "\tBivariado: 0.7142857142857143\n",
      "\tMultivariado: 0.7142857142857143\n"
     ]
    }
   ],
   "source": [
    "print(\"Con set de entrenamiento:\\n\\tUnivariado:\", lrgd.score(X.to_numpy().reshape(-1, 1), y))\n",
    "print(\"\\tBivariado:\", lrgd_bi.score(X_bi, y_bi))\n",
    "print(\"\\tMultivariado:\", lrgd_multi.score(X_multi, y_multi))\n",
    "\n",
    "print(\"\\n\\nCon set de prueba:\\n\\tUnivariado:\", lrgd.score(df_test_final[\"Glucose\"].to_numpy().reshape(-1, 1), test_set[\"Outcome\"]))\n",
    "X_bi_test = pd.concat([df_test_final[\"Glucose\"], df_test_final[\"BMI\"]], axis=1)\n",
    "print(\"\\tBivariado:\", lrgd_bi.score(X_bi_test, test_set[\"Outcome\"]))\n",
    "print(\"\\tMultivariado:\", lrgd_multi.score(df_test_final, test_set[\"Outcome\"]))"
   ]
  },
  {
   "cell_type": "code",
   "execution_count": null,
   "metadata": {},
   "outputs": [],
   "source": []
  }
 ],
 "metadata": {
  "colab": {
   "provenance": []
  },
  "kernelspec": {
   "display_name": "Python 3 (ipykernel)",
   "language": "python",
   "name": "python3"
  },
  "language_info": {
   "codemirror_mode": {
    "name": "ipython",
    "version": 3
   },
   "file_extension": ".py",
   "mimetype": "text/x-python",
   "name": "python",
   "nbconvert_exporter": "python",
   "pygments_lexer": "ipython3",
   "version": "3.9.13"
  }
 },
 "nbformat": 4,
 "nbformat_minor": 4
}
