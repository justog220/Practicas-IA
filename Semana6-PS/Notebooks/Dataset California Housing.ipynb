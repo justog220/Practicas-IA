{
 "cells": [
  {
   "cell_type": "code",
   "execution_count": 45,
   "metadata": {
    "executionInfo": {
     "elapsed": 1661,
     "status": "ok",
     "timestamp": 1681081571212,
     "user": {
      "displayName": "Diana Carolina VERTIZ DEL VALLE",
      "userId": "04236681262725283456"
     },
     "user_tz": 180
    },
    "id": "_LRJbTO5feze"
   },
   "outputs": [],
   "source": [
    "import pandas as pd\n",
    "import numpy as np\n",
    "import matplotlib.pyplot as plt\n",
    "from sklearn.linear_model import LinearRegression\n",
    "from sklearn import set_config\n",
    "set_config(display='diagram')"
   ]
  },
  {
   "cell_type": "markdown",
   "metadata": {
    "id": "Q_8s5Mhw3MvJ"
   },
   "source": [
    "# Dataset California Housing"
   ]
  },
  {
   "cell_type": "code",
   "execution_count": 46,
   "metadata": {
    "executionInfo": {
     "elapsed": 4,
     "status": "ok",
     "timestamp": 1681081573854,
     "user": {
      "displayName": "Diana Carolina VERTIZ DEL VALLE",
      "userId": "04236681262725283456"
     },
     "user_tz": 180
    },
    "id": "HBTyL1krIUgd"
   },
   "outputs": [],
   "source": [
    "df_housing = pd.read_csv(\"../../Semana2/data/housing.csv\")"
   ]
  },
  {
   "cell_type": "code",
   "execution_count": 47,
   "metadata": {
    "colab": {
     "base_uri": "https://localhost:8080/"
    },
    "executionInfo": {
     "elapsed": 4,
     "status": "ok",
     "timestamp": 1681081573854,
     "user": {
      "displayName": "Diana Carolina VERTIZ DEL VALLE",
      "userId": "04236681262725283456"
     },
     "user_tz": 180
    },
    "id": "ybkzdVoJx-W3",
    "outputId": "c0ecd26a-81f9-43de-afab-63d41b263c66"
   },
   "outputs": [
    {
     "data": {
      "text/plain": [
       "(20640, 10)"
      ]
     },
     "execution_count": 47,
     "metadata": {},
     "output_type": "execute_result"
    }
   ],
   "source": [
    "df_housing.shape"
   ]
  },
  {
   "cell_type": "code",
   "execution_count": 48,
   "metadata": {
    "colab": {
     "base_uri": "https://localhost:8080/",
     "height": 300
    },
    "executionInfo": {
     "elapsed": 5,
     "status": "ok",
     "timestamp": 1681081574288,
     "user": {
      "displayName": "Diana Carolina VERTIZ DEL VALLE",
      "userId": "04236681262725283456"
     },
     "user_tz": 180
    },
    "id": "LRlJG59nL89c",
    "outputId": "8bdf2110-2f12-49b9-e27d-3f275d70eb0f"
   },
   "outputs": [
    {
     "data": {
      "text/html": [
       "<div>\n",
       "<style scoped>\n",
       "    .dataframe tbody tr th:only-of-type {\n",
       "        vertical-align: middle;\n",
       "    }\n",
       "\n",
       "    .dataframe tbody tr th {\n",
       "        vertical-align: top;\n",
       "    }\n",
       "\n",
       "    .dataframe thead th {\n",
       "        text-align: right;\n",
       "    }\n",
       "</style>\n",
       "<table border=\"1\" class=\"dataframe\">\n",
       "  <thead>\n",
       "    <tr style=\"text-align: right;\">\n",
       "      <th></th>\n",
       "      <th>longitude</th>\n",
       "      <th>latitude</th>\n",
       "      <th>housing_median_age</th>\n",
       "      <th>total_rooms</th>\n",
       "      <th>total_bedrooms</th>\n",
       "      <th>population</th>\n",
       "      <th>households</th>\n",
       "      <th>median_income</th>\n",
       "      <th>median_house_value</th>\n",
       "    </tr>\n",
       "  </thead>\n",
       "  <tbody>\n",
       "    <tr>\n",
       "      <th>count</th>\n",
       "      <td>20640.000000</td>\n",
       "      <td>20640.000000</td>\n",
       "      <td>20640.000000</td>\n",
       "      <td>20640.000000</td>\n",
       "      <td>20433.000000</td>\n",
       "      <td>20640.000000</td>\n",
       "      <td>20640.000000</td>\n",
       "      <td>20640.000000</td>\n",
       "      <td>20640.000000</td>\n",
       "    </tr>\n",
       "    <tr>\n",
       "      <th>mean</th>\n",
       "      <td>-119.569704</td>\n",
       "      <td>35.631861</td>\n",
       "      <td>28.639486</td>\n",
       "      <td>2635.763081</td>\n",
       "      <td>537.870553</td>\n",
       "      <td>1425.476744</td>\n",
       "      <td>499.539680</td>\n",
       "      <td>3.870671</td>\n",
       "      <td>206855.816909</td>\n",
       "    </tr>\n",
       "    <tr>\n",
       "      <th>std</th>\n",
       "      <td>2.003532</td>\n",
       "      <td>2.135952</td>\n",
       "      <td>12.585558</td>\n",
       "      <td>2181.615252</td>\n",
       "      <td>421.385070</td>\n",
       "      <td>1132.462122</td>\n",
       "      <td>382.329753</td>\n",
       "      <td>1.899822</td>\n",
       "      <td>115395.615874</td>\n",
       "    </tr>\n",
       "    <tr>\n",
       "      <th>min</th>\n",
       "      <td>-124.350000</td>\n",
       "      <td>32.540000</td>\n",
       "      <td>1.000000</td>\n",
       "      <td>2.000000</td>\n",
       "      <td>1.000000</td>\n",
       "      <td>3.000000</td>\n",
       "      <td>1.000000</td>\n",
       "      <td>0.499900</td>\n",
       "      <td>14999.000000</td>\n",
       "    </tr>\n",
       "    <tr>\n",
       "      <th>25%</th>\n",
       "      <td>-121.800000</td>\n",
       "      <td>33.930000</td>\n",
       "      <td>18.000000</td>\n",
       "      <td>1447.750000</td>\n",
       "      <td>296.000000</td>\n",
       "      <td>787.000000</td>\n",
       "      <td>280.000000</td>\n",
       "      <td>2.563400</td>\n",
       "      <td>119600.000000</td>\n",
       "    </tr>\n",
       "    <tr>\n",
       "      <th>50%</th>\n",
       "      <td>-118.490000</td>\n",
       "      <td>34.260000</td>\n",
       "      <td>29.000000</td>\n",
       "      <td>2127.000000</td>\n",
       "      <td>435.000000</td>\n",
       "      <td>1166.000000</td>\n",
       "      <td>409.000000</td>\n",
       "      <td>3.534800</td>\n",
       "      <td>179700.000000</td>\n",
       "    </tr>\n",
       "    <tr>\n",
       "      <th>75%</th>\n",
       "      <td>-118.010000</td>\n",
       "      <td>37.710000</td>\n",
       "      <td>37.000000</td>\n",
       "      <td>3148.000000</td>\n",
       "      <td>647.000000</td>\n",
       "      <td>1725.000000</td>\n",
       "      <td>605.000000</td>\n",
       "      <td>4.743250</td>\n",
       "      <td>264725.000000</td>\n",
       "    </tr>\n",
       "    <tr>\n",
       "      <th>max</th>\n",
       "      <td>-114.310000</td>\n",
       "      <td>41.950000</td>\n",
       "      <td>52.000000</td>\n",
       "      <td>39320.000000</td>\n",
       "      <td>6445.000000</td>\n",
       "      <td>35682.000000</td>\n",
       "      <td>6082.000000</td>\n",
       "      <td>15.000100</td>\n",
       "      <td>500001.000000</td>\n",
       "    </tr>\n",
       "  </tbody>\n",
       "</table>\n",
       "</div>"
      ],
      "text/plain": [
       "          longitude      latitude  housing_median_age   total_rooms  \\\n",
       "count  20640.000000  20640.000000        20640.000000  20640.000000   \n",
       "mean    -119.569704     35.631861           28.639486   2635.763081   \n",
       "std        2.003532      2.135952           12.585558   2181.615252   \n",
       "min     -124.350000     32.540000            1.000000      2.000000   \n",
       "25%     -121.800000     33.930000           18.000000   1447.750000   \n",
       "50%     -118.490000     34.260000           29.000000   2127.000000   \n",
       "75%     -118.010000     37.710000           37.000000   3148.000000   \n",
       "max     -114.310000     41.950000           52.000000  39320.000000   \n",
       "\n",
       "       total_bedrooms    population    households  median_income  \\\n",
       "count    20433.000000  20640.000000  20640.000000   20640.000000   \n",
       "mean       537.870553   1425.476744    499.539680       3.870671   \n",
       "std        421.385070   1132.462122    382.329753       1.899822   \n",
       "min          1.000000      3.000000      1.000000       0.499900   \n",
       "25%        296.000000    787.000000    280.000000       2.563400   \n",
       "50%        435.000000   1166.000000    409.000000       3.534800   \n",
       "75%        647.000000   1725.000000    605.000000       4.743250   \n",
       "max       6445.000000  35682.000000   6082.000000      15.000100   \n",
       "\n",
       "       median_house_value  \n",
       "count        20640.000000  \n",
       "mean        206855.816909  \n",
       "std         115395.615874  \n",
       "min          14999.000000  \n",
       "25%         119600.000000  \n",
       "50%         179700.000000  \n",
       "75%         264725.000000  \n",
       "max         500001.000000  "
      ]
     },
     "execution_count": 48,
     "metadata": {},
     "output_type": "execute_result"
    }
   ],
   "source": [
    "df_housing.describe()"
   ]
  },
  {
   "cell_type": "code",
   "execution_count": 49,
   "metadata": {
    "colab": {
     "base_uri": "https://localhost:8080/",
     "height": 331
    },
    "executionInfo": {
     "elapsed": 255,
     "status": "ok",
     "timestamp": 1681081577219,
     "user": {
      "displayName": "Diana Carolina VERTIZ DEL VALLE",
      "userId": "04236681262725283456"
     },
     "user_tz": 180
    },
    "id": "_JTPDd3TiqGl",
    "outputId": "517f1cfd-fe6b-4dc1-d4e6-2f53639d6337"
   },
   "outputs": [
    {
     "data": {
      "text/html": [
       "<div>\n",
       "<style scoped>\n",
       "    .dataframe tbody tr th:only-of-type {\n",
       "        vertical-align: middle;\n",
       "    }\n",
       "\n",
       "    .dataframe tbody tr th {\n",
       "        vertical-align: top;\n",
       "    }\n",
       "\n",
       "    .dataframe thead th {\n",
       "        text-align: right;\n",
       "    }\n",
       "</style>\n",
       "<table border=\"1\" class=\"dataframe\">\n",
       "  <thead>\n",
       "    <tr style=\"text-align: right;\">\n",
       "      <th></th>\n",
       "      <th>longitude</th>\n",
       "      <th>latitude</th>\n",
       "      <th>housing_median_age</th>\n",
       "      <th>total_rooms</th>\n",
       "      <th>total_bedrooms</th>\n",
       "      <th>population</th>\n",
       "      <th>households</th>\n",
       "      <th>median_income</th>\n",
       "      <th>median_house_value</th>\n",
       "    </tr>\n",
       "  </thead>\n",
       "  <tbody>\n",
       "    <tr>\n",
       "      <th>longitude</th>\n",
       "      <td>1.000000</td>\n",
       "      <td>-0.924664</td>\n",
       "      <td>-0.108197</td>\n",
       "      <td>0.044568</td>\n",
       "      <td>0.069608</td>\n",
       "      <td>0.099773</td>\n",
       "      <td>0.055310</td>\n",
       "      <td>-0.015176</td>\n",
       "      <td>-0.045967</td>\n",
       "    </tr>\n",
       "    <tr>\n",
       "      <th>latitude</th>\n",
       "      <td>-0.924664</td>\n",
       "      <td>1.000000</td>\n",
       "      <td>0.011173</td>\n",
       "      <td>-0.036100</td>\n",
       "      <td>-0.066983</td>\n",
       "      <td>-0.108785</td>\n",
       "      <td>-0.071035</td>\n",
       "      <td>-0.079809</td>\n",
       "      <td>-0.144160</td>\n",
       "    </tr>\n",
       "    <tr>\n",
       "      <th>housing_median_age</th>\n",
       "      <td>-0.108197</td>\n",
       "      <td>0.011173</td>\n",
       "      <td>1.000000</td>\n",
       "      <td>-0.361262</td>\n",
       "      <td>-0.320451</td>\n",
       "      <td>-0.296244</td>\n",
       "      <td>-0.302916</td>\n",
       "      <td>-0.119034</td>\n",
       "      <td>0.105623</td>\n",
       "    </tr>\n",
       "    <tr>\n",
       "      <th>total_rooms</th>\n",
       "      <td>0.044568</td>\n",
       "      <td>-0.036100</td>\n",
       "      <td>-0.361262</td>\n",
       "      <td>1.000000</td>\n",
       "      <td>0.930380</td>\n",
       "      <td>0.857126</td>\n",
       "      <td>0.918484</td>\n",
       "      <td>0.198050</td>\n",
       "      <td>0.134153</td>\n",
       "    </tr>\n",
       "    <tr>\n",
       "      <th>total_bedrooms</th>\n",
       "      <td>0.069608</td>\n",
       "      <td>-0.066983</td>\n",
       "      <td>-0.320451</td>\n",
       "      <td>0.930380</td>\n",
       "      <td>1.000000</td>\n",
       "      <td>0.877747</td>\n",
       "      <td>0.979728</td>\n",
       "      <td>-0.007723</td>\n",
       "      <td>0.049686</td>\n",
       "    </tr>\n",
       "    <tr>\n",
       "      <th>population</th>\n",
       "      <td>0.099773</td>\n",
       "      <td>-0.108785</td>\n",
       "      <td>-0.296244</td>\n",
       "      <td>0.857126</td>\n",
       "      <td>0.877747</td>\n",
       "      <td>1.000000</td>\n",
       "      <td>0.907222</td>\n",
       "      <td>0.004834</td>\n",
       "      <td>-0.024650</td>\n",
       "    </tr>\n",
       "    <tr>\n",
       "      <th>households</th>\n",
       "      <td>0.055310</td>\n",
       "      <td>-0.071035</td>\n",
       "      <td>-0.302916</td>\n",
       "      <td>0.918484</td>\n",
       "      <td>0.979728</td>\n",
       "      <td>0.907222</td>\n",
       "      <td>1.000000</td>\n",
       "      <td>0.013033</td>\n",
       "      <td>0.065843</td>\n",
       "    </tr>\n",
       "    <tr>\n",
       "      <th>median_income</th>\n",
       "      <td>-0.015176</td>\n",
       "      <td>-0.079809</td>\n",
       "      <td>-0.119034</td>\n",
       "      <td>0.198050</td>\n",
       "      <td>-0.007723</td>\n",
       "      <td>0.004834</td>\n",
       "      <td>0.013033</td>\n",
       "      <td>1.000000</td>\n",
       "      <td>0.688075</td>\n",
       "    </tr>\n",
       "    <tr>\n",
       "      <th>median_house_value</th>\n",
       "      <td>-0.045967</td>\n",
       "      <td>-0.144160</td>\n",
       "      <td>0.105623</td>\n",
       "      <td>0.134153</td>\n",
       "      <td>0.049686</td>\n",
       "      <td>-0.024650</td>\n",
       "      <td>0.065843</td>\n",
       "      <td>0.688075</td>\n",
       "      <td>1.000000</td>\n",
       "    </tr>\n",
       "  </tbody>\n",
       "</table>\n",
       "</div>"
      ],
      "text/plain": [
       "                    longitude  latitude  housing_median_age  total_rooms  \\\n",
       "longitude            1.000000 -0.924664           -0.108197     0.044568   \n",
       "latitude            -0.924664  1.000000            0.011173    -0.036100   \n",
       "housing_median_age  -0.108197  0.011173            1.000000    -0.361262   \n",
       "total_rooms          0.044568 -0.036100           -0.361262     1.000000   \n",
       "total_bedrooms       0.069608 -0.066983           -0.320451     0.930380   \n",
       "population           0.099773 -0.108785           -0.296244     0.857126   \n",
       "households           0.055310 -0.071035           -0.302916     0.918484   \n",
       "median_income       -0.015176 -0.079809           -0.119034     0.198050   \n",
       "median_house_value  -0.045967 -0.144160            0.105623     0.134153   \n",
       "\n",
       "                    total_bedrooms  population  households  median_income  \\\n",
       "longitude                 0.069608    0.099773    0.055310      -0.015176   \n",
       "latitude                 -0.066983   -0.108785   -0.071035      -0.079809   \n",
       "housing_median_age       -0.320451   -0.296244   -0.302916      -0.119034   \n",
       "total_rooms               0.930380    0.857126    0.918484       0.198050   \n",
       "total_bedrooms            1.000000    0.877747    0.979728      -0.007723   \n",
       "population                0.877747    1.000000    0.907222       0.004834   \n",
       "households                0.979728    0.907222    1.000000       0.013033   \n",
       "median_income            -0.007723    0.004834    0.013033       1.000000   \n",
       "median_house_value        0.049686   -0.024650    0.065843       0.688075   \n",
       "\n",
       "                    median_house_value  \n",
       "longitude                    -0.045967  \n",
       "latitude                     -0.144160  \n",
       "housing_median_age            0.105623  \n",
       "total_rooms                   0.134153  \n",
       "total_bedrooms                0.049686  \n",
       "population                   -0.024650  \n",
       "households                    0.065843  \n",
       "median_income                 0.688075  \n",
       "median_house_value            1.000000  "
      ]
     },
     "execution_count": 49,
     "metadata": {},
     "output_type": "execute_result"
    }
   ],
   "source": [
    "df_housing.corr()"
   ]
  },
  {
   "cell_type": "markdown",
   "metadata": {
    "id": "7jqy2rSBTSvR"
   },
   "source": [
    "## Separar los datos en entrenamiento y prueba"
   ]
  },
  {
   "cell_type": "markdown",
   "metadata": {
    "id": "abDE_K886YAZ"
   },
   "source": [
    "El código siguiente utiliza la función pd.cut() para crear un atributo `income_cat` con cinco categorías (etiquetadas de 1 a 5): la categoría 1 va de 0 a 1,5 (es decir, menos de 15.000 $), la categoría 2 de 1,5 a 3, etc."
   ]
  },
  {
   "cell_type": "code",
   "execution_count": 50,
   "metadata": {
    "colab": {
     "base_uri": "https://localhost:8080/",
     "height": 206
    },
    "executionInfo": {
     "elapsed": 423,
     "status": "ok",
     "timestamp": 1681081580546,
     "user": {
      "displayName": "Diana Carolina VERTIZ DEL VALLE",
      "userId": "04236681262725283456"
     },
     "user_tz": 180
    },
    "id": "adlF_UPE6MzS",
    "outputId": "9502a335-3bda-4031-cb3d-850299ac5331"
   },
   "outputs": [
    {
     "data": {
      "text/html": [
       "<div>\n",
       "<style scoped>\n",
       "    .dataframe tbody tr th:only-of-type {\n",
       "        vertical-align: middle;\n",
       "    }\n",
       "\n",
       "    .dataframe tbody tr th {\n",
       "        vertical-align: top;\n",
       "    }\n",
       "\n",
       "    .dataframe thead th {\n",
       "        text-align: right;\n",
       "    }\n",
       "</style>\n",
       "<table border=\"1\" class=\"dataframe\">\n",
       "  <thead>\n",
       "    <tr style=\"text-align: right;\">\n",
       "      <th></th>\n",
       "      <th>longitude</th>\n",
       "      <th>latitude</th>\n",
       "      <th>housing_median_age</th>\n",
       "      <th>total_rooms</th>\n",
       "      <th>total_bedrooms</th>\n",
       "      <th>population</th>\n",
       "      <th>households</th>\n",
       "      <th>median_income</th>\n",
       "      <th>median_house_value</th>\n",
       "      <th>ocean_proximity</th>\n",
       "      <th>income_cat</th>\n",
       "    </tr>\n",
       "  </thead>\n",
       "  <tbody>\n",
       "    <tr>\n",
       "      <th>0</th>\n",
       "      <td>-122.23</td>\n",
       "      <td>37.88</td>\n",
       "      <td>41.0</td>\n",
       "      <td>880.0</td>\n",
       "      <td>129.0</td>\n",
       "      <td>322.0</td>\n",
       "      <td>126.0</td>\n",
       "      <td>8.3252</td>\n",
       "      <td>452600.0</td>\n",
       "      <td>NEAR BAY</td>\n",
       "      <td>5</td>\n",
       "    </tr>\n",
       "    <tr>\n",
       "      <th>1</th>\n",
       "      <td>-122.22</td>\n",
       "      <td>37.86</td>\n",
       "      <td>21.0</td>\n",
       "      <td>7099.0</td>\n",
       "      <td>1106.0</td>\n",
       "      <td>2401.0</td>\n",
       "      <td>1138.0</td>\n",
       "      <td>8.3014</td>\n",
       "      <td>358500.0</td>\n",
       "      <td>NEAR BAY</td>\n",
       "      <td>5</td>\n",
       "    </tr>\n",
       "    <tr>\n",
       "      <th>2</th>\n",
       "      <td>-122.24</td>\n",
       "      <td>37.85</td>\n",
       "      <td>52.0</td>\n",
       "      <td>1467.0</td>\n",
       "      <td>190.0</td>\n",
       "      <td>496.0</td>\n",
       "      <td>177.0</td>\n",
       "      <td>7.2574</td>\n",
       "      <td>352100.0</td>\n",
       "      <td>NEAR BAY</td>\n",
       "      <td>5</td>\n",
       "    </tr>\n",
       "    <tr>\n",
       "      <th>3</th>\n",
       "      <td>-122.25</td>\n",
       "      <td>37.85</td>\n",
       "      <td>52.0</td>\n",
       "      <td>1274.0</td>\n",
       "      <td>235.0</td>\n",
       "      <td>558.0</td>\n",
       "      <td>219.0</td>\n",
       "      <td>5.6431</td>\n",
       "      <td>341300.0</td>\n",
       "      <td>NEAR BAY</td>\n",
       "      <td>4</td>\n",
       "    </tr>\n",
       "    <tr>\n",
       "      <th>4</th>\n",
       "      <td>-122.25</td>\n",
       "      <td>37.85</td>\n",
       "      <td>52.0</td>\n",
       "      <td>1627.0</td>\n",
       "      <td>280.0</td>\n",
       "      <td>565.0</td>\n",
       "      <td>259.0</td>\n",
       "      <td>3.8462</td>\n",
       "      <td>342200.0</td>\n",
       "      <td>NEAR BAY</td>\n",
       "      <td>3</td>\n",
       "    </tr>\n",
       "  </tbody>\n",
       "</table>\n",
       "</div>"
      ],
      "text/plain": [
       "   longitude  latitude  housing_median_age  total_rooms  total_bedrooms  \\\n",
       "0    -122.23     37.88                41.0        880.0           129.0   \n",
       "1    -122.22     37.86                21.0       7099.0          1106.0   \n",
       "2    -122.24     37.85                52.0       1467.0           190.0   \n",
       "3    -122.25     37.85                52.0       1274.0           235.0   \n",
       "4    -122.25     37.85                52.0       1627.0           280.0   \n",
       "\n",
       "   population  households  median_income  median_house_value ocean_proximity  \\\n",
       "0       322.0       126.0         8.3252            452600.0        NEAR BAY   \n",
       "1      2401.0      1138.0         8.3014            358500.0        NEAR BAY   \n",
       "2       496.0       177.0         7.2574            352100.0        NEAR BAY   \n",
       "3       558.0       219.0         5.6431            341300.0        NEAR BAY   \n",
       "4       565.0       259.0         3.8462            342200.0        NEAR BAY   \n",
       "\n",
       "  income_cat  \n",
       "0          5  \n",
       "1          5  \n",
       "2          5  \n",
       "3          4  \n",
       "4          3  "
      ]
     },
     "execution_count": 50,
     "metadata": {},
     "output_type": "execute_result"
    }
   ],
   "source": [
    "df_housing[\"income_cat\"] = pd.cut(df_housing[\"median_income\"], \n",
    "                                bins=[0., 1.5, 3.0, 4.5, 6., np.inf], \n",
    "                                labels=[1, 2, 3, 4, 5])\n",
    "df_housing.head()"
   ]
  },
  {
   "cell_type": "code",
   "execution_count": 51,
   "metadata": {
    "colab": {
     "base_uri": "https://localhost:8080/",
     "height": 466
    },
    "executionInfo": {
     "elapsed": 601,
     "status": "ok",
     "timestamp": 1681081584210,
     "user": {
      "displayName": "Diana Carolina VERTIZ DEL VALLE",
      "userId": "04236681262725283456"
     },
     "user_tz": 180
    },
    "id": "KeF8JNEu6wMA",
    "outputId": "32728379-989d-406a-d477-6c3c2aab3f6a"
   },
   "outputs": [
    {
     "data": {
      "text/plain": [
       "Text(0.5, 0, 'Income category')"
      ]
     },
     "execution_count": 51,
     "metadata": {},
     "output_type": "execute_result"
    },
    {
     "data": {
      "image/png": "[encoded data removed]",
      "text/plain": [
       "<Figure size 640x480 with 1 Axes>"
      ]
     },
     "metadata": {},
     "output_type": "display_data"
    }
   ],
   "source": [
    "df_housing[\"income_cat\"].value_counts().sort_index().plot.bar(rot=0, grid=True)\n",
    "plt.xlabel(\"Income category\")"
   ]
  },
  {
   "cell_type": "markdown",
   "metadata": {
    "id": "0jHFOozOzHUJ"
   },
   "source": [
    "Ahora que tenemos la columna `income_cat` en categorías, podemos dividir los datos de manera estratificada."
   ]
  },
  {
   "cell_type": "code",
   "execution_count": 52,
   "metadata": {
    "colab": {
     "base_uri": "https://localhost:8080/"
    },
    "executionInfo": {
     "elapsed": 399,
     "status": "ok",
     "timestamp": 1681081587800,
     "user": {
      "displayName": "Diana Carolina VERTIZ DEL VALLE",
      "userId": "04236681262725283456"
     },
     "user_tz": 180
    },
    "id": "y3w29Dej63mA",
    "outputId": "56ec3fe6-d6a8-42ef-e08c-ac055f2a34c5"
   },
   "outputs": [
    {
     "name": "stdout",
     "output_type": "stream",
     "text": [
      "(16512, 11)\n",
      "(4128, 11)\n"
     ]
    }
   ],
   "source": [
    "from sklearn.model_selection import train_test_split\n",
    "\n",
    "train_set, test_set = train_test_split(df_housing, test_size=0.2, random_state=42, shuffle=True, stratify=df_housing['income_cat'])\n",
    "print(train_set.shape)\n",
    "print(test_set.shape)"
   ]
  },
  {
   "cell_type": "code",
   "execution_count": 53,
   "metadata": {
    "executionInfo": {
     "elapsed": 275,
     "status": "ok",
     "timestamp": 1681081590742,
     "user": {
      "displayName": "Diana Carolina VERTIZ DEL VALLE",
      "userId": "04236681262725283456"
     },
     "user_tz": 180
    },
    "id": "d_2r1I0x5CDV"
   },
   "outputs": [],
   "source": [
    "for set_ in (train_set, test_set):\n",
    "    set_.drop(\"income_cat\", axis=1, inplace=True)"
   ]
  },
  {
   "cell_type": "code",
   "execution_count": 54,
   "metadata": {
    "executionInfo": {
     "elapsed": 399,
     "status": "ok",
     "timestamp": 1681081592636,
     "user": {
      "displayName": "Diana Carolina VERTIZ DEL VALLE",
      "userId": "04236681262725283456"
     },
     "user_tz": 180
    },
    "id": "TtoUNCz442vp"
   },
   "outputs": [],
   "source": [
    "housing = train_set.copy()"
   ]
  },
  {
   "cell_type": "code",
   "execution_count": 55,
   "metadata": {
    "colab": {
     "base_uri": "https://localhost:8080/"
    },
    "executionInfo": {
     "elapsed": 7,
     "status": "ok",
     "timestamp": 1681081593846,
     "user": {
      "displayName": "Diana Carolina VERTIZ DEL VALLE",
      "userId": "04236681262725283456"
     },
     "user_tz": 180
    },
    "id": "kFgXMXnLXTQV",
    "outputId": "c9f095fa-da68-4325-caa7-5aa1cf8500b4"
   },
   "outputs": [
    {
     "data": {
      "text/plain": [
       "Index(['longitude', 'latitude', 'housing_median_age', 'total_rooms',\n",
       "       'total_bedrooms', 'population', 'households', 'median_income',\n",
       "       'median_house_value', 'ocean_proximity'],\n",
       "      dtype='object')"
      ]
     },
     "execution_count": 55,
     "metadata": {},
     "output_type": "execute_result"
    }
   ],
   "source": [
    "housing.columns"
   ]
  },
  {
   "cell_type": "markdown",
   "metadata": {
    "id": "i2uwh2-EyBQX"
   },
   "source": [
    "## Preparar los datos para usar con nuestros algoritmos de ML"
   ]
  },
  {
   "cell_type": "markdown",
   "metadata": {
    "id": "zvlSKJIBga8K"
   },
   "source": [
    "### Datos de entrenamiento"
   ]
  },
  {
   "cell_type": "code",
   "execution_count": 56,
   "metadata": {
    "executionInfo": {
     "elapsed": 263,
     "status": "ok",
     "timestamp": 1681081597186,
     "user": {
      "displayName": "Diana Carolina VERTIZ DEL VALLE",
      "userId": "04236681262725283456"
     },
     "user_tz": 180
    },
    "id": "g8h7ZvDn1sla"
   },
   "outputs": [],
   "source": [
    "housing_train = housing.drop(\"median_house_value\", axis=1)\n",
    "target_train = housing[\"median_house_value\"].copy()"
   ]
  },
  {
   "cell_type": "markdown",
   "metadata": {
    "id": "aHj8h_1Ogd2K"
   },
   "source": [
    "### Datos de prueba"
   ]
  },
  {
   "cell_type": "code",
   "execution_count": 57,
   "metadata": {
    "executionInfo": {
     "elapsed": 287,
     "status": "ok",
     "timestamp": 1681081598898,
     "user": {
      "displayName": "Diana Carolina VERTIZ DEL VALLE",
      "userId": "04236681262725283456"
     },
     "user_tz": 180
    },
    "id": "WeWt2zymgjvu"
   },
   "outputs": [],
   "source": [
    "housing_test = test_set.drop(\"median_house_value\", axis=1)\n",
    "target_test = test_set[\"median_house_value\"].copy()"
   ]
  },
  {
   "cell_type": "markdown",
   "metadata": {
    "id": "ss6-HjCxifzG"
   },
   "source": [
    "### Datos faltantes, Atributos categóricos, Normalización de los datos\n"
   ]
  },
  {
   "cell_type": "markdown",
   "metadata": {
    "id": "14598-9Sg-3v"
   },
   "source": [
    "### Hacemos el análisis con los datos de entrenamiento"
   ]
  },
  {
   "cell_type": "code",
   "execution_count": 58,
   "metadata": {
    "executionInfo": {
     "elapsed": 245,
     "status": "ok",
     "timestamp": 1681081603472,
     "user": {
      "displayName": "Diana Carolina VERTIZ DEL VALLE",
      "userId": "04236681262725283456"
     },
     "user_tz": 180
    },
    "id": "VpbkFjRs4AEW"
   },
   "outputs": [],
   "source": [
    "from sklearn.impute import SimpleImputer\n",
    "from sklearn.preprocessing import OneHotEncoder\n",
    "from sklearn.preprocessing import StandardScaler"
   ]
  },
  {
   "cell_type": "code",
   "execution_count": 59,
   "metadata": {
    "executionInfo": {
     "elapsed": 298,
     "status": "ok",
     "timestamp": 1681081607251,
     "user": {
      "displayName": "Diana Carolina VERTIZ DEL VALLE",
      "userId": "04236681262725283456"
     },
     "user_tz": 180
    },
    "id": "pnfD_JCP5Vp6"
   },
   "outputs": [],
   "source": [
    "housing_num = housing_train.drop(\"ocean_proximity\", axis=1)"
   ]
  },
  {
   "cell_type": "markdown",
   "metadata": {
    "id": "J6cLSK1LWxsD"
   },
   "source": [
    "**Pipeline numérico**"
   ]
  },
  {
   "cell_type": "code",
   "execution_count": 60,
   "metadata": {
    "executionInfo": {
     "elapsed": 273,
     "status": "ok",
     "timestamp": 1681083357984,
     "user": {
      "displayName": "Diana Carolina VERTIZ DEL VALLE",
      "userId": "04236681262725283456"
     },
     "user_tz": 180
    },
    "id": "5X6IklqkUscM"
   },
   "outputs": [],
   "source": [
    "from sklearn.pipeline import Pipeline\n",
    "\n",
    "pipeline_num = Pipeline(\n",
    "    [\n",
    "        ('imputer', SimpleImputer(strategy=\"median\")),\n",
    "        ('std_scaler', StandardScaler()),\n",
    "    ]\n",
    ")"
   ]
  },
  {
   "cell_type": "markdown",
   "metadata": {
    "id": "wbL3WtaqW1ji"
   },
   "source": [
    "**Pipeline completo**"
   ]
  },
  {
   "cell_type": "code",
   "execution_count": 61,
   "metadata": {
    "executionInfo": {
     "elapsed": 313,
     "status": "ok",
     "timestamp": 1681083359414,
     "user": {
      "displayName": "Diana Carolina VERTIZ DEL VALLE",
      "userId": "04236681262725283456"
     },
     "user_tz": 180
    },
    "id": "CfJyoQNEWQsB"
   },
   "outputs": [],
   "source": [
    "from sklearn.compose import ColumnTransformer\n",
    "\n",
    "atributos_num = list(housing_num)\n",
    "atributos_cat = [\"ocean_proximity\"]\n",
    "\n",
    "pipeline_full = ColumnTransformer(\n",
    "    transformers= [\n",
    "        (\"num\", pipeline_num, atributos_num),\n",
    "        (\"cat\", OneHotEncoder(handle_unknown = 'ignore'), atributos_cat)\n",
    "    ]\n",
    ")"
   ]
  },
  {
   "cell_type": "markdown",
   "metadata": {
    "id": "hq50CbfQ-Usy"
   },
   "source": [
    "## Regresión Lineal\n",
    "\n",
    "Utilice el conjunto de datos California Housing para entrenar 3 modelos de regresión lineal:\n",
    "- Univariada: usando un atributo (por ejemplo el más correlacionado). Grafique la recta de regresión obtenida.\n",
    "- Bivariada: seleccione 2 atributos\n",
    "- Multivariada: todos los atributos "
   ]
  },
  {
   "cell_type": "markdown",
   "metadata": {
    "id": "zMWbUERzFGkS"
   },
   "source": [
    "El **Error Cuadrático Medio (MSE)** es una medida cuantitativa útil para comparar diferentes modelos de regresión. \n",
    "\n",
    "$$MSE = \\frac{1}{N}\\sum_{i=1}^{n}(y^{(i)} - \\hat y^{(i)})^2$$\n",
    "\n",
    "\n",
    "- Comparar la raiz cuadrada del MSE obtenido en los 3 casos con los datos de entrenamiento y prueba, usar la función **mean_squared_error**.\n",
    "\n",
    "En algunos casos, es más útil reportar el coeficiente de determinación $(R^2)$, el cual puede ser entendido como una versión estandarizada del MSE.\n",
    "\n",
    "$$R^2 = 1- \\frac{SSE}{SST}$$\n",
    "\n",
    "\n",
    "SSE es la suma de los errores cuadráticos y SST la suma total de los cuadrados. $SST = \\sum_{i=1}^{n}(y^{(i)} - \\mu_y)^2$\n",
    "\n",
    "Para el dataset de entrenamiento, $R^2$ está limitado entre 0 y 1, pero puede volverse negativo para los datos de prueba. \n",
    "\n",
    "- Comparar los modelos entrenados con esta medida con los datos de entrenamiento y prueba, usando la función **r2_score**"
   ]
  },
  {
   "cell_type": "code",
   "execution_count": 62,
   "metadata": {
    "executionInfo": {
     "elapsed": 323,
     "status": "ok",
     "timestamp": 1681081676527,
     "user": {
      "displayName": "Diana Carolina VERTIZ DEL VALLE",
      "userId": "04236681262725283456"
     },
     "user_tz": 180
    },
    "id": "p7vHSWum-UNo"
   },
   "outputs": [],
   "source": [
    "from sklearn.linear_model import LinearRegression\n",
    "from sklearn.metrics import mean_squared_error\n",
    "from sklearn.metrics import r2_score\n",
    "from sklearn.pipeline import make_pipeline"
   ]
  },
  {
   "cell_type": "code",
   "execution_count": 63,
   "metadata": {
    "colab": {
     "base_uri": "https://localhost:8080/",
     "height": 225
    },
    "executionInfo": {
     "elapsed": 466,
     "status": "ok",
     "timestamp": 1681083363866,
     "user": {
      "displayName": "Diana Carolina VERTIZ DEL VALLE",
      "userId": "04236681262725283456"
     },
     "user_tz": 180
    },
    "id": "bBUVJhaSq_8H",
    "outputId": "4a02f865-2be2-4a46-d614-9b1ceccc1f9b"
   },
   "outputs": [
    {
     "data": {
      "text/html": [
       "<style>#sk-f96591db-6773-4a8e-9d10-7c44024dd306 {color: black;background-color: white;}#sk-f96591db-6773-4a8e-9d10-7c44024dd306 pre{padding: 0;}#sk-f96591db-6773-4a8e-9d10-7c44024dd306 div.sk-toggleable {background-color: white;}#sk-f96591db-6773-4a8e-9d10-7c44024dd306 label.sk-toggleable__label {cursor: pointer;display: block;width: 100%;margin-bottom: 0;padding: 0.3em;box-sizing: border-box;text-align: center;}#sk-f96591db-6773-4a8e-9d10-7c44024dd306 label.sk-toggleable__label-arrow:before {content: \"▸\";float: left;margin-right: 0.25em;color: #696969;}#sk-f96591db-6773-4a8e-9d10-7c44024dd306 label.sk-toggleable__label-arrow:hover:before {color: black;}#sk-f96591db-6773-4a8e-9d10-7c44024dd306 div.sk-estimator:hover label.sk-toggleable__label-arrow:before {color: black;}#sk-f96591db-6773-4a8e-9d10-7c44024dd306 div.sk-toggleable__content {max-height: 0;max-width: 0;overflow: hidden;text-align: left;background-color: #f0f8ff;}#sk-f96591db-6773-4a8e-9d10-7c44024dd306 div.sk-toggleable__content pre {margin: 0.2em;color: black;border-radius: 0.25em;background-color: #f0f8ff;}#sk-f96591db-6773-4a8e-9d10-7c44024dd306 input.sk-toggleable__control:checked~div.sk-toggleable__content {max-height: 200px;max-width: 100%;overflow: auto;}#sk-f96591db-6773-4a8e-9d10-7c44024dd306 input.sk-toggleable__control:checked~label.sk-toggleable__label-arrow:before {content: \"▾\";}#sk-f96591db-6773-4a8e-9d10-7c44024dd306 div.sk-estimator input.sk-toggleable__control:checked~label.sk-toggleable__label {background-color: #d4ebff;}#sk-f96591db-6773-4a8e-9d10-7c44024dd306 div.sk-label input.sk-toggleable__control:checked~label.sk-toggleable__label {background-color: #d4ebff;}#sk-f96591db-6773-4a8e-9d10-7c44024dd306 input.sk-hidden--visually {border: 0;clip: rect(1px 1px 1px 1px);clip: rect(1px, 1px, 1px, 1px);height: 1px;margin: -1px;overflow: hidden;padding: 0;position: absolute;width: 1px;}#sk-f96591db-6773-4a8e-9d10-7c44024dd306 div.sk-estimator {font-family: monospace;background-color: #f0f8ff;border: 1px dotted black;border-radius: 0.25em;box-sizing: border-box;margin-bottom: 0.5em;}#sk-f96591db-6773-4a8e-9d10-7c44024dd306 div.sk-estimator:hover {background-color: #d4ebff;}#sk-f96591db-6773-4a8e-9d10-7c44024dd306 div.sk-parallel-item::after {content: \"\";width: 100%;border-bottom: 1px solid gray;flex-grow: 1;}#sk-f96591db-6773-4a8e-9d10-7c44024dd306 div.sk-label:hover label.sk-toggleable__label {background-color: #d4ebff;}#sk-f96591db-6773-4a8e-9d10-7c44024dd306 div.sk-serial::before {content: \"\";position: absolute;border-left: 1px solid gray;box-sizing: border-box;top: 2em;bottom: 0;left: 50%;}#sk-f96591db-6773-4a8e-9d10-7c44024dd306 div.sk-serial {display: flex;flex-direction: column;align-items: center;background-color: white;padding-right: 0.2em;padding-left: 0.2em;}#sk-f96591db-6773-4a8e-9d10-7c44024dd306 div.sk-item {z-index: 1;}#sk-f96591db-6773-4a8e-9d10-7c44024dd306 div.sk-parallel {display: flex;align-items: stretch;justify-content: center;background-color: white;}#sk-f96591db-6773-4a8e-9d10-7c44024dd306 div.sk-parallel::before {content: \"\";position: absolute;border-left: 1px solid gray;box-sizing: border-box;top: 2em;bottom: 0;left: 50%;}#sk-f96591db-6773-4a8e-9d10-7c44024dd306 div.sk-parallel-item {display: flex;flex-direction: column;position: relative;background-color: white;}#sk-f96591db-6773-4a8e-9d10-7c44024dd306 div.sk-parallel-item:first-child::after {align-self: flex-end;width: 50%;}#sk-f96591db-6773-4a8e-9d10-7c44024dd306 div.sk-parallel-item:last-child::after {align-self: flex-start;width: 50%;}#sk-f96591db-6773-4a8e-9d10-7c44024dd306 div.sk-parallel-item:only-child::after {width: 0;}#sk-f96591db-6773-4a8e-9d10-7c44024dd306 div.sk-dashed-wrapped {border: 1px dashed gray;margin: 0 0.4em 0.5em 0.4em;box-sizing: border-box;padding-bottom: 0.4em;background-color: white;position: relative;}#sk-f96591db-6773-4a8e-9d10-7c44024dd306 div.sk-label label {font-family: monospace;font-weight: bold;background-color: white;display: inline-block;line-height: 1.2em;}#sk-f96591db-6773-4a8e-9d10-7c44024dd306 div.sk-label-container {position: relative;z-index: 2;text-align: center;}#sk-f96591db-6773-4a8e-9d10-7c44024dd306 div.sk-container {/* jupyter's `normalize.less` sets `[hidden] { display: none; }` but bootstrap.min.css set `[hidden] { display: none !important; }` so we also need the `!important` here to be able to override the default hidden behavior on the sphinx rendered scikit-learn.org. See: https://github.com/scikit-learn/scikit-learn/issues/21755 */display: inline-block !important;position: relative;}#sk-f96591db-6773-4a8e-9d10-7c44024dd306 div.sk-text-repr-fallback {display: none;}</style><div id=\"sk-f96591db-6773-4a8e-9d10-7c44024dd306\" class=\"sk-top-container\"><div class=\"sk-text-repr-fallback\"><pre>Pipeline(steps=[(&#x27;columntransformer&#x27;,\n",
       "                 ColumnTransformer(transformers=[(&#x27;num&#x27;,\n",
       "                                                  Pipeline(steps=[(&#x27;imputer&#x27;,\n",
       "                                                                   SimpleImputer(strategy=&#x27;median&#x27;)),\n",
       "                                                                  (&#x27;std_scaler&#x27;,\n",
       "                                                                   StandardScaler())]),\n",
       "                                                  [&#x27;longitude&#x27;, &#x27;latitude&#x27;,\n",
       "                                                   &#x27;housing_median_age&#x27;,\n",
       "                                                   &#x27;total_rooms&#x27;,\n",
       "                                                   &#x27;total_bedrooms&#x27;,\n",
       "                                                   &#x27;population&#x27;, &#x27;households&#x27;,\n",
       "                                                   &#x27;median_income&#x27;]),\n",
       "                                                 (&#x27;cat&#x27;,\n",
       "                                                  OneHotEncoder(handle_unknown=&#x27;ignore&#x27;),\n",
       "                                                  [&#x27;ocean_proximity&#x27;])])),\n",
       "                (&#x27;linearregression&#x27;, LinearRegression())])</pre><b>Please rerun this cell to show the HTML repr or trust the notebook.</b></div><div class=\"sk-container\" hidden><div class=\"sk-item sk-dashed-wrapped\"><div class=\"sk-label-container\"><div class=\"sk-label sk-toggleable\"><input class=\"sk-toggleable__control sk-hidden--visually\" id=\"1beb865a-aa58-4dcd-bfd5-16d8fdcfdbf9\" type=\"checkbox\" ><label for=\"1beb865a-aa58-4dcd-bfd5-16d8fdcfdbf9\" class=\"sk-toggleable__label sk-toggleable__label-arrow\">Pipeline</label><div class=\"sk-toggleable__content\"><pre>Pipeline(steps=[(&#x27;columntransformer&#x27;,\n",
       "                 ColumnTransformer(transformers=[(&#x27;num&#x27;,\n",
       "                                                  Pipeline(steps=[(&#x27;imputer&#x27;,\n",
       "                                                                   SimpleImputer(strategy=&#x27;median&#x27;)),\n",
       "                                                                  (&#x27;std_scaler&#x27;,\n",
       "                                                                   StandardScaler())]),\n",
       "                                                  [&#x27;longitude&#x27;, &#x27;latitude&#x27;,\n",
       "                                                   &#x27;housing_median_age&#x27;,\n",
       "                                                   &#x27;total_rooms&#x27;,\n",
       "                                                   &#x27;total_bedrooms&#x27;,\n",
       "                                                   &#x27;population&#x27;, &#x27;households&#x27;,\n",
       "                                                   &#x27;median_income&#x27;]),\n",
       "                                                 (&#x27;cat&#x27;,\n",
       "                                                  OneHotEncoder(handle_unknown=&#x27;ignore&#x27;),\n",
       "                                                  [&#x27;ocean_proximity&#x27;])])),\n",
       "                (&#x27;linearregression&#x27;, LinearRegression())])</pre></div></div></div><div class=\"sk-serial\"><div class=\"sk-item sk-dashed-wrapped\"><div class=\"sk-label-container\"><div class=\"sk-label sk-toggleable\"><input class=\"sk-toggleable__control sk-hidden--visually\" id=\"601f3938-4e3f-4836-9c5c-c6639c768fb4\" type=\"checkbox\" ><label for=\"601f3938-4e3f-4836-9c5c-c6639c768fb4\" class=\"sk-toggleable__label sk-toggleable__label-arrow\">columntransformer: ColumnTransformer</label><div class=\"sk-toggleable__content\"><pre>ColumnTransformer(transformers=[(&#x27;num&#x27;,\n",
       "                                 Pipeline(steps=[(&#x27;imputer&#x27;,\n",
       "                                                  SimpleImputer(strategy=&#x27;median&#x27;)),\n",
       "                                                 (&#x27;std_scaler&#x27;,\n",
       "                                                  StandardScaler())]),\n",
       "                                 [&#x27;longitude&#x27;, &#x27;latitude&#x27;, &#x27;housing_median_age&#x27;,\n",
       "                                  &#x27;total_rooms&#x27;, &#x27;total_bedrooms&#x27;, &#x27;population&#x27;,\n",
       "                                  &#x27;households&#x27;, &#x27;median_income&#x27;]),\n",
       "                                (&#x27;cat&#x27;, OneHotEncoder(handle_unknown=&#x27;ignore&#x27;),\n",
       "                                 [&#x27;ocean_proximity&#x27;])])</pre></div></div></div><div class=\"sk-parallel\"><div class=\"sk-parallel-item\"><div class=\"sk-item\"><div class=\"sk-label-container\"><div class=\"sk-label sk-toggleable\"><input class=\"sk-toggleable__control sk-hidden--visually\" id=\"e10697ea-edb7-47ea-8049-27bc9a0329d5\" type=\"checkbox\" ><label for=\"e10697ea-edb7-47ea-8049-27bc9a0329d5\" class=\"sk-toggleable__label sk-toggleable__label-arrow\">num</label><div class=\"sk-toggleable__content\"><pre>[&#x27;longitude&#x27;, &#x27;latitude&#x27;, &#x27;housing_median_age&#x27;, &#x27;total_rooms&#x27;, &#x27;total_bedrooms&#x27;, &#x27;population&#x27;, &#x27;households&#x27;, &#x27;median_income&#x27;]</pre></div></div></div><div class=\"sk-serial\"><div class=\"sk-item\"><div class=\"sk-serial\"><div class=\"sk-item\"><div class=\"sk-estimator sk-toggleable\"><input class=\"sk-toggleable__control sk-hidden--visually\" id=\"9c648f7d-f1d1-48df-abed-9ea7e02ad1de\" type=\"checkbox\" ><label for=\"9c648f7d-f1d1-48df-abed-9ea7e02ad1de\" class=\"sk-toggleable__label sk-toggleable__label-arrow\">SimpleImputer</label><div class=\"sk-toggleable__content\"><pre>SimpleImputer(strategy=&#x27;median&#x27;)</pre></div></div></div><div class=\"sk-item\"><div class=\"sk-estimator sk-toggleable\"><input class=\"sk-toggleable__control sk-hidden--visually\" id=\"c12eb5b9-e47e-425b-8b1b-ec8a6a5db0ac\" type=\"checkbox\" ><label for=\"c12eb5b9-e47e-425b-8b1b-ec8a6a5db0ac\" class=\"sk-toggleable__label sk-toggleable__label-arrow\">StandardScaler</label><div class=\"sk-toggleable__content\"><pre>StandardScaler()</pre></div></div></div></div></div></div></div></div><div class=\"sk-parallel-item\"><div class=\"sk-item\"><div class=\"sk-label-container\"><div class=\"sk-label sk-toggleable\"><input class=\"sk-toggleable__control sk-hidden--visually\" id=\"9dc51297-f48c-4163-94e9-520e0526cfc2\" type=\"checkbox\" ><label for=\"9dc51297-f48c-4163-94e9-520e0526cfc2\" class=\"sk-toggleable__label sk-toggleable__label-arrow\">cat</label><div class=\"sk-toggleable__content\"><pre>[&#x27;ocean_proximity&#x27;]</pre></div></div></div><div class=\"sk-serial\"><div class=\"sk-item\"><div class=\"sk-estimator sk-toggleable\"><input class=\"sk-toggleable__control sk-hidden--visually\" id=\"42a08094-d02a-4d30-aa86-c3ad45a24e30\" type=\"checkbox\" ><label for=\"42a08094-d02a-4d30-aa86-c3ad45a24e30\" class=\"sk-toggleable__label sk-toggleable__label-arrow\">OneHotEncoder</label><div class=\"sk-toggleable__content\"><pre>OneHotEncoder(handle_unknown=&#x27;ignore&#x27;)</pre></div></div></div></div></div></div></div></div><div class=\"sk-item\"><div class=\"sk-estimator sk-toggleable\"><input class=\"sk-toggleable__control sk-hidden--visually\" id=\"16691e10-7653-498d-a4bc-739cc615a198\" type=\"checkbox\" ><label for=\"16691e10-7653-498d-a4bc-739cc615a198\" class=\"sk-toggleable__label sk-toggleable__label-arrow\">LinearRegression</label><div class=\"sk-toggleable__content\"><pre>LinearRegression()</pre></div></div></div></div></div></div></div>"
      ],
      "text/plain": [
       "Pipeline(steps=[('columntransformer',\n",
       "                 ColumnTransformer(transformers=[('num',\n",
       "                                                  Pipeline(steps=[('imputer',\n",
       "                                                                   SimpleImputer(strategy='median')),\n",
       "                                                                  ('std_scaler',\n",
       "                                                                   StandardScaler())]),\n",
       "                                                  ['longitude', 'latitude',\n",
       "                                                   'housing_median_age',\n",
       "                                                   'total_rooms',\n",
       "                                                   'total_bedrooms',\n",
       "                                                   'population', 'households',\n",
       "                                                   'median_income']),\n",
       "                                                 ('cat',\n",
       "                                                  OneHotEncoder(handle_unknown='ignore'),\n",
       "                                                  ['ocean_proximity'])])),\n",
       "                ('linearregression', LinearRegression())])"
      ]
     },
     "execution_count": 63,
     "metadata": {},
     "output_type": "execute_result"
    }
   ],
   "source": [
    "lin_reg = make_pipeline(pipeline_full, LinearRegression())\n",
    "lin_reg.fit(housing_train, target_train)"
   ]
  },
  {
   "cell_type": "code",
   "execution_count": 64,
   "metadata": {
    "colab": {
     "base_uri": "https://localhost:8080/"
    },
    "executionInfo": {
     "elapsed": 275,
     "status": "ok",
     "timestamp": 1681083366658,
     "user": {
      "displayName": "Diana Carolina VERTIZ DEL VALLE",
      "userId": "04236681262725283456"
     },
     "user_tz": 180
    },
    "id": "fMX7G_wLrak4",
    "outputId": "21819d36-180f-4d49-9a45-83c657ee39b9"
   },
   "outputs": [
    {
     "data": {
      "text/plain": [
       "array([ 88983., 305351., 153335., 184303., 246840.])"
      ]
     },
     "execution_count": 64,
     "metadata": {},
     "output_type": "execute_result"
    }
   ],
   "source": [
    "predicciones = lin_reg.predict(housing_train)\n",
    "predicciones[:5].round() "
   ]
  },
  {
   "cell_type": "code",
   "execution_count": 65,
   "metadata": {
    "colab": {
     "base_uri": "https://localhost:8080/"
    },
    "executionInfo": {
     "elapsed": 274,
     "status": "ok",
     "timestamp": 1681083368988,
     "user": {
      "displayName": "Diana Carolina VERTIZ DEL VALLE",
      "userId": "04236681262725283456"
     },
     "user_tz": 180
    },
    "id": "tUMGEInsrtRw",
    "outputId": "8416c42c-718f-40f2-ed68-9cab1dfbee05"
   },
   "outputs": [
    {
     "data": {
      "text/plain": [
       "array([ 72100., 279600.,  82700., 112500., 238300.])"
      ]
     },
     "execution_count": 65,
     "metadata": {},
     "output_type": "execute_result"
    }
   ],
   "source": [
    "target_train.iloc[:5].values"
   ]
  },
  {
   "cell_type": "code",
   "execution_count": 66,
   "metadata": {
    "colab": {
     "base_uri": "https://localhost:8080/"
    },
    "executionInfo": {
     "elapsed": 278,
     "status": "ok",
     "timestamp": 1681083371383,
     "user": {
      "displayName": "Diana Carolina VERTIZ DEL VALLE",
      "userId": "04236681262725283456"
     },
     "user_tz": 180
    },
    "id": "bFjYUbcSr3VZ",
    "outputId": "3e2aeb03-3d80-44d0-d0fb-fb3e26ebbccc"
   },
   "outputs": [
    {
     "data": {
      "text/plain": [
       "69050.56219504567"
      ]
     },
     "execution_count": 66,
     "metadata": {},
     "output_type": "execute_result"
    }
   ],
   "source": [
    "lin_rmse = mean_squared_error(target_train, predicciones, squared=False)\n",
    "lin_rmse"
   ]
  },
  {
   "cell_type": "markdown",
   "metadata": {
    "id": "h0fUcWT-uWsH"
   },
   "source": [
    "## Usamos un árbol de regresión"
   ]
  },
  {
   "cell_type": "code",
   "execution_count": 67,
   "metadata": {
    "colab": {
     "base_uri": "https://localhost:8080/",
     "height": 225
    },
    "executionInfo": {
     "elapsed": 272,
     "status": "ok",
     "timestamp": 1681083414815,
     "user": {
      "displayName": "Diana Carolina VERTIZ DEL VALLE",
      "userId": "04236681262725283456"
     },
     "user_tz": 180
    },
    "id": "S7r-ozyktlvZ",
    "outputId": "201f94c9-4f8d-4d11-d17e-6ac9d7a4e0c6"
   },
   "outputs": [
    {
     "data": {
      "text/html": [
       "<style>#sk-5e303c4f-7791-4e5b-9f90-226aab44db15 {color: black;background-color: white;}#sk-5e303c4f-7791-4e5b-9f90-226aab44db15 pre{padding: 0;}#sk-5e303c4f-7791-4e5b-9f90-226aab44db15 div.sk-toggleable {background-color: white;}#sk-5e303c4f-7791-4e5b-9f90-226aab44db15 label.sk-toggleable__label {cursor: pointer;display: block;width: 100%;margin-bottom: 0;padding: 0.3em;box-sizing: border-box;text-align: center;}#sk-5e303c4f-7791-4e5b-9f90-226aab44db15 label.sk-toggleable__label-arrow:before {content: \"▸\";float: left;margin-right: 0.25em;color: #696969;}#sk-5e303c4f-7791-4e5b-9f90-226aab44db15 label.sk-toggleable__label-arrow:hover:before {color: black;}#sk-5e303c4f-7791-4e5b-9f90-226aab44db15 div.sk-estimator:hover label.sk-toggleable__label-arrow:before {color: black;}#sk-5e303c4f-7791-4e5b-9f90-226aab44db15 div.sk-toggleable__content {max-height: 0;max-width: 0;overflow: hidden;text-align: left;background-color: #f0f8ff;}#sk-5e303c4f-7791-4e5b-9f90-226aab44db15 div.sk-toggleable__content pre {margin: 0.2em;color: black;border-radius: 0.25em;background-color: #f0f8ff;}#sk-5e303c4f-7791-4e5b-9f90-226aab44db15 input.sk-toggleable__control:checked~div.sk-toggleable__content {max-height: 200px;max-width: 100%;overflow: auto;}#sk-5e303c4f-7791-4e5b-9f90-226aab44db15 input.sk-toggleable__control:checked~label.sk-toggleable__label-arrow:before {content: \"▾\";}#sk-5e303c4f-7791-4e5b-9f90-226aab44db15 div.sk-estimator input.sk-toggleable__control:checked~label.sk-toggleable__label {background-color: #d4ebff;}#sk-5e303c4f-7791-4e5b-9f90-226aab44db15 div.sk-label input.sk-toggleable__control:checked~label.sk-toggleable__label {background-color: #d4ebff;}#sk-5e303c4f-7791-4e5b-9f90-226aab44db15 input.sk-hidden--visually {border: 0;clip: rect(1px 1px 1px 1px);clip: rect(1px, 1px, 1px, 1px);height: 1px;margin: -1px;overflow: hidden;padding: 0;position: absolute;width: 1px;}#sk-5e303c4f-7791-4e5b-9f90-226aab44db15 div.sk-estimator {font-family: monospace;background-color: #f0f8ff;border: 1px dotted black;border-radius: 0.25em;box-sizing: border-box;margin-bottom: 0.5em;}#sk-5e303c4f-7791-4e5b-9f90-226aab44db15 div.sk-estimator:hover {background-color: #d4ebff;}#sk-5e303c4f-7791-4e5b-9f90-226aab44db15 div.sk-parallel-item::after {content: \"\";width: 100%;border-bottom: 1px solid gray;flex-grow: 1;}#sk-5e303c4f-7791-4e5b-9f90-226aab44db15 div.sk-label:hover label.sk-toggleable__label {background-color: #d4ebff;}#sk-5e303c4f-7791-4e5b-9f90-226aab44db15 div.sk-serial::before {content: \"\";position: absolute;border-left: 1px solid gray;box-sizing: border-box;top: 2em;bottom: 0;left: 50%;}#sk-5e303c4f-7791-4e5b-9f90-226aab44db15 div.sk-serial {display: flex;flex-direction: column;align-items: center;background-color: white;padding-right: 0.2em;padding-left: 0.2em;}#sk-5e303c4f-7791-4e5b-9f90-226aab44db15 div.sk-item {z-index: 1;}#sk-5e303c4f-7791-4e5b-9f90-226aab44db15 div.sk-parallel {display: flex;align-items: stretch;justify-content: center;background-color: white;}#sk-5e303c4f-7791-4e5b-9f90-226aab44db15 div.sk-parallel::before {content: \"\";position: absolute;border-left: 1px solid gray;box-sizing: border-box;top: 2em;bottom: 0;left: 50%;}#sk-5e303c4f-7791-4e5b-9f90-226aab44db15 div.sk-parallel-item {display: flex;flex-direction: column;position: relative;background-color: white;}#sk-5e303c4f-7791-4e5b-9f90-226aab44db15 div.sk-parallel-item:first-child::after {align-self: flex-end;width: 50%;}#sk-5e303c4f-7791-4e5b-9f90-226aab44db15 div.sk-parallel-item:last-child::after {align-self: flex-start;width: 50%;}#sk-5e303c4f-7791-4e5b-9f90-226aab44db15 div.sk-parallel-item:only-child::after {width: 0;}#sk-5e303c4f-7791-4e5b-9f90-226aab44db15 div.sk-dashed-wrapped {border: 1px dashed gray;margin: 0 0.4em 0.5em 0.4em;box-sizing: border-box;padding-bottom: 0.4em;background-color: white;position: relative;}#sk-5e303c4f-7791-4e5b-9f90-226aab44db15 div.sk-label label {font-family: monospace;font-weight: bold;background-color: white;display: inline-block;line-height: 1.2em;}#sk-5e303c4f-7791-4e5b-9f90-226aab44db15 div.sk-label-container {position: relative;z-index: 2;text-align: center;}#sk-5e303c4f-7791-4e5b-9f90-226aab44db15 div.sk-container {/* jupyter's `normalize.less` sets `[hidden] { display: none; }` but bootstrap.min.css set `[hidden] { display: none !important; }` so we also need the `!important` here to be able to override the default hidden behavior on the sphinx rendered scikit-learn.org. See: https://github.com/scikit-learn/scikit-learn/issues/21755 */display: inline-block !important;position: relative;}#sk-5e303c4f-7791-4e5b-9f90-226aab44db15 div.sk-text-repr-fallback {display: none;}</style><div id=\"sk-5e303c4f-7791-4e5b-9f90-226aab44db15\" class=\"sk-top-container\"><div class=\"sk-text-repr-fallback\"><pre>Pipeline(steps=[(&#x27;columntransformer&#x27;,\n",
       "                 ColumnTransformer(transformers=[(&#x27;num&#x27;,\n",
       "                                                  Pipeline(steps=[(&#x27;imputer&#x27;,\n",
       "                                                                   SimpleImputer(strategy=&#x27;median&#x27;)),\n",
       "                                                                  (&#x27;std_scaler&#x27;,\n",
       "                                                                   StandardScaler())]),\n",
       "                                                  [&#x27;longitude&#x27;, &#x27;latitude&#x27;,\n",
       "                                                   &#x27;housing_median_age&#x27;,\n",
       "                                                   &#x27;total_rooms&#x27;,\n",
       "                                                   &#x27;total_bedrooms&#x27;,\n",
       "                                                   &#x27;population&#x27;, &#x27;households&#x27;,\n",
       "                                                   &#x27;median_income&#x27;]),\n",
       "                                                 (&#x27;cat&#x27;,\n",
       "                                                  OneHotEncoder(handle_unknown=&#x27;ignore&#x27;),\n",
       "                                                  [&#x27;ocean_proximity&#x27;])])),\n",
       "                (&#x27;decisiontreeregressor&#x27;,\n",
       "                 DecisionTreeRegressor(random_state=42))])</pre><b>Please rerun this cell to show the HTML repr or trust the notebook.</b></div><div class=\"sk-container\" hidden><div class=\"sk-item sk-dashed-wrapped\"><div class=\"sk-label-container\"><div class=\"sk-label sk-toggleable\"><input class=\"sk-toggleable__control sk-hidden--visually\" id=\"34e94091-9a2d-4888-a235-6b5480c4d9ba\" type=\"checkbox\" ><label for=\"34e94091-9a2d-4888-a235-6b5480c4d9ba\" class=\"sk-toggleable__label sk-toggleable__label-arrow\">Pipeline</label><div class=\"sk-toggleable__content\"><pre>Pipeline(steps=[(&#x27;columntransformer&#x27;,\n",
       "                 ColumnTransformer(transformers=[(&#x27;num&#x27;,\n",
       "                                                  Pipeline(steps=[(&#x27;imputer&#x27;,\n",
       "                                                                   SimpleImputer(strategy=&#x27;median&#x27;)),\n",
       "                                                                  (&#x27;std_scaler&#x27;,\n",
       "                                                                   StandardScaler())]),\n",
       "                                                  [&#x27;longitude&#x27;, &#x27;latitude&#x27;,\n",
       "                                                   &#x27;housing_median_age&#x27;,\n",
       "                                                   &#x27;total_rooms&#x27;,\n",
       "                                                   &#x27;total_bedrooms&#x27;,\n",
       "                                                   &#x27;population&#x27;, &#x27;households&#x27;,\n",
       "                                                   &#x27;median_income&#x27;]),\n",
       "                                                 (&#x27;cat&#x27;,\n",
       "                                                  OneHotEncoder(handle_unknown=&#x27;ignore&#x27;),\n",
       "                                                  [&#x27;ocean_proximity&#x27;])])),\n",
       "                (&#x27;decisiontreeregressor&#x27;,\n",
       "                 DecisionTreeRegressor(random_state=42))])</pre></div></div></div><div class=\"sk-serial\"><div class=\"sk-item sk-dashed-wrapped\"><div class=\"sk-label-container\"><div class=\"sk-label sk-toggleable\"><input class=\"sk-toggleable__control sk-hidden--visually\" id=\"2c228144-0fc2-4842-9ac2-b20cd794123a\" type=\"checkbox\" ><label for=\"2c228144-0fc2-4842-9ac2-b20cd794123a\" class=\"sk-toggleable__label sk-toggleable__label-arrow\">columntransformer: ColumnTransformer</label><div class=\"sk-toggleable__content\"><pre>ColumnTransformer(transformers=[(&#x27;num&#x27;,\n",
       "                                 Pipeline(steps=[(&#x27;imputer&#x27;,\n",
       "                                                  SimpleImputer(strategy=&#x27;median&#x27;)),\n",
       "                                                 (&#x27;std_scaler&#x27;,\n",
       "                                                  StandardScaler())]),\n",
       "                                 [&#x27;longitude&#x27;, &#x27;latitude&#x27;, &#x27;housing_median_age&#x27;,\n",
       "                                  &#x27;total_rooms&#x27;, &#x27;total_bedrooms&#x27;, &#x27;population&#x27;,\n",
       "                                  &#x27;households&#x27;, &#x27;median_income&#x27;]),\n",
       "                                (&#x27;cat&#x27;, OneHotEncoder(handle_unknown=&#x27;ignore&#x27;),\n",
       "                                 [&#x27;ocean_proximity&#x27;])])</pre></div></div></div><div class=\"sk-parallel\"><div class=\"sk-parallel-item\"><div class=\"sk-item\"><div class=\"sk-label-container\"><div class=\"sk-label sk-toggleable\"><input class=\"sk-toggleable__control sk-hidden--visually\" id=\"22eee0b4-8f3a-472c-9740-a2a6aa683b3d\" type=\"checkbox\" ><label for=\"22eee0b4-8f3a-472c-9740-a2a6aa683b3d\" class=\"sk-toggleable__label sk-toggleable__label-arrow\">num</label><div class=\"sk-toggleable__content\"><pre>[&#x27;longitude&#x27;, &#x27;latitude&#x27;, &#x27;housing_median_age&#x27;, &#x27;total_rooms&#x27;, &#x27;total_bedrooms&#x27;, &#x27;population&#x27;, &#x27;households&#x27;, &#x27;median_income&#x27;]</pre></div></div></div><div class=\"sk-serial\"><div class=\"sk-item\"><div class=\"sk-serial\"><div class=\"sk-item\"><div class=\"sk-estimator sk-toggleable\"><input class=\"sk-toggleable__control sk-hidden--visually\" id=\"3716ab4e-eeb9-4b86-bfa7-e06e36f29845\" type=\"checkbox\" ><label for=\"3716ab4e-eeb9-4b86-bfa7-e06e36f29845\" class=\"sk-toggleable__label sk-toggleable__label-arrow\">SimpleImputer</label><div class=\"sk-toggleable__content\"><pre>SimpleImputer(strategy=&#x27;median&#x27;)</pre></div></div></div><div class=\"sk-item\"><div class=\"sk-estimator sk-toggleable\"><input class=\"sk-toggleable__control sk-hidden--visually\" id=\"a9cda27b-6bf5-4684-911e-c786a224f80d\" type=\"checkbox\" ><label for=\"a9cda27b-6bf5-4684-911e-c786a224f80d\" class=\"sk-toggleable__label sk-toggleable__label-arrow\">StandardScaler</label><div class=\"sk-toggleable__content\"><pre>StandardScaler()</pre></div></div></div></div></div></div></div></div><div class=\"sk-parallel-item\"><div class=\"sk-item\"><div class=\"sk-label-container\"><div class=\"sk-label sk-toggleable\"><input class=\"sk-toggleable__control sk-hidden--visually\" id=\"b00aea9b-1afc-4c1c-b149-3b487450314c\" type=\"checkbox\" ><label for=\"b00aea9b-1afc-4c1c-b149-3b487450314c\" class=\"sk-toggleable__label sk-toggleable__label-arrow\">cat</label><div class=\"sk-toggleable__content\"><pre>[&#x27;ocean_proximity&#x27;]</pre></div></div></div><div class=\"sk-serial\"><div class=\"sk-item\"><div class=\"sk-estimator sk-toggleable\"><input class=\"sk-toggleable__control sk-hidden--visually\" id=\"778df61d-c602-4a52-9b31-6a562f9e2324\" type=\"checkbox\" ><label for=\"778df61d-c602-4a52-9b31-6a562f9e2324\" class=\"sk-toggleable__label sk-toggleable__label-arrow\">OneHotEncoder</label><div class=\"sk-toggleable__content\"><pre>OneHotEncoder(handle_unknown=&#x27;ignore&#x27;)</pre></div></div></div></div></div></div></div></div><div class=\"sk-item\"><div class=\"sk-estimator sk-toggleable\"><input class=\"sk-toggleable__control sk-hidden--visually\" id=\"92aa37de-c106-46c0-8a34-87b144e579a8\" type=\"checkbox\" ><label for=\"92aa37de-c106-46c0-8a34-87b144e579a8\" class=\"sk-toggleable__label sk-toggleable__label-arrow\">DecisionTreeRegressor</label><div class=\"sk-toggleable__content\"><pre>DecisionTreeRegressor(random_state=42)</pre></div></div></div></div></div></div></div>"
      ],
      "text/plain": [
       "Pipeline(steps=[('columntransformer',\n",
       "                 ColumnTransformer(transformers=[('num',\n",
       "                                                  Pipeline(steps=[('imputer',\n",
       "                                                                   SimpleImputer(strategy='median')),\n",
       "                                                                  ('std_scaler',\n",
       "                                                                   StandardScaler())]),\n",
       "                                                  ['longitude', 'latitude',\n",
       "                                                   'housing_median_age',\n",
       "                                                   'total_rooms',\n",
       "                                                   'total_bedrooms',\n",
       "                                                   'population', 'households',\n",
       "                                                   'median_income']),\n",
       "                                                 ('cat',\n",
       "                                                  OneHotEncoder(handle_unknown='ignore'),\n",
       "                                                  ['ocean_proximity'])])),\n",
       "                ('decisiontreeregressor',\n",
       "                 DecisionTreeRegressor(random_state=42))])"
      ]
     },
     "execution_count": 67,
     "metadata": {},
     "output_type": "execute_result"
    }
   ],
   "source": [
    "from sklearn.tree import DecisionTreeRegressor\n",
    "\n",
    "tree_reg = make_pipeline(pipeline_full, DecisionTreeRegressor(random_state=42))\n",
    "tree_reg.fit(housing_train, target_train)"
   ]
  },
  {
   "cell_type": "code",
   "execution_count": 68,
   "metadata": {
    "colab": {
     "base_uri": "https://localhost:8080/"
    },
    "executionInfo": {
     "elapsed": 266,
     "status": "ok",
     "timestamp": 1681083417109,
     "user": {
      "displayName": "Diana Carolina VERTIZ DEL VALLE",
      "userId": "04236681262725283456"
     },
     "user_tz": 180
    },
    "id": "cPwvO3MEuOHn",
    "outputId": "bc9fc9a8-673d-48c8-ef9e-7755f5386689"
   },
   "outputs": [
    {
     "data": {
      "text/plain": [
       "0.0"
      ]
     },
     "execution_count": 68,
     "metadata": {},
     "output_type": "execute_result"
    }
   ],
   "source": [
    "predicciones = tree_reg.predict(housing_train)\n",
    "tree_rmse = mean_squared_error(target_train, predicciones,squared=False)\n",
    "tree_rmse"
   ]
  },
  {
   "cell_type": "markdown",
   "metadata": {},
   "source": [
    "Se ajusta mucho a nuestros datos de entrenamiento, pero sabemos que no es lo más deseado"
   ]
  },
  {
   "cell_type": "code",
   "execution_count": 69,
   "metadata": {
    "colab": {
     "base_uri": "https://localhost:8080/"
    },
    "executionInfo": {
     "elapsed": 495,
     "status": "ok",
     "timestamp": 1681083418852,
     "user": {
      "displayName": "Diana Carolina VERTIZ DEL VALLE",
      "userId": "04236681262725283456"
     },
     "user_tz": 180
    },
    "id": "WMiff-cYCN8d",
    "outputId": "a766a1a9-e649-458d-b232-af6a1ae8d169"
   },
   "outputs": [
    {
     "data": {
      "text/plain": [
       "69203.52536476958"
      ]
     },
     "execution_count": 69,
     "metadata": {},
     "output_type": "execute_result"
    }
   ],
   "source": [
    "pred_test = tree_reg.predict(housing_test)\n",
    "tree_rmse_test = mean_squared_error(target_test, pred_test,squared=False)\n",
    "tree_rmse_test"
   ]
  },
  {
   "cell_type": "markdown",
   "metadata": {
    "id": "BQme1A5pww1a"
   },
   "source": [
    "**Desempeño usando validación cruzada**"
   ]
  },
  {
   "cell_type": "markdown",
   "metadata": {},
   "source": [
    "¿Por qué en negativo? Porque el más pequeño es el mejor."
   ]
  },
  {
   "cell_type": "code",
   "execution_count": 70,
   "metadata": {
    "colab": {
     "base_uri": "https://localhost:8080/"
    },
    "executionInfo": {
     "elapsed": 1965,
     "status": "ok",
     "timestamp": 1681083423221,
     "user": {
      "displayName": "Diana Carolina VERTIZ DEL VALLE",
      "userId": "04236681262725283456"
     },
     "user_tz": 180
    },
    "id": "rUP-FG6PvmhX",
    "outputId": "8195e5ea-9a2c-4b4a-ca96-bc9b546b3de7"
   },
   "outputs": [
    {
     "data": {
      "text/plain": [
       "array([-71152.59187256, -70068.70314956, -64901.96987894, -68783.02168675,\n",
       "       -66944.32525877, -68260.00359756, -71031.16291424, -69086.59778928,\n",
       "       -67252.39727946, -73247.28194339])"
      ]
     },
     "execution_count": 70,
     "metadata": {},
     "output_type": "execute_result"
    }
   ],
   "source": [
    "from sklearn.model_selection import cross_val_score\n",
    "\n",
    "tree_rmses = cross_val_score(tree_reg, housing_train, target_train, scoring=\"neg_root_mean_squared_error\", cv=10)\n",
    "tree_rmses"
   ]
  },
  {
   "cell_type": "markdown",
   "metadata": {
    "id": "ILrLYIuxxMkq"
   },
   "source": [
    "El desempeño en este caso será:"
   ]
  },
  {
   "cell_type": "code",
   "execution_count": 71,
   "metadata": {
    "colab": {
     "base_uri": "https://localhost:8080/"
    },
    "executionInfo": {
     "elapsed": 502,
     "status": "ok",
     "timestamp": 1681083427754,
     "user": {
      "displayName": "Diana Carolina VERTIZ DEL VALLE",
      "userId": "04236681262725283456"
     },
     "user_tz": 180
    },
    "id": "R8YvmXiXv_Qe",
    "outputId": "368668dc-bc98-4ec6-c138-3770e50f8f9a"
   },
   "outputs": [
    {
     "name": "stdout",
     "output_type": "stream",
     "text": [
      "Valor medio del RMSE: 69072.80553705241\n",
      "Desvío estándar del RMSE: 2292.678273223765\n"
     ]
    }
   ],
   "source": [
    "print(\"Valor medio del RMSE:\", -tree_rmses.mean())\n",
    "print(\"Desvío estándar del RMSE:\", tree_rmses.std())"
   ]
  },
  {
   "cell_type": "markdown",
   "metadata": {
    "id": "GbUFPA5fyPid"
   },
   "source": [
    "## Usamos regresión con RandomForest"
   ]
  },
  {
   "cell_type": "code",
   "execution_count": 72,
   "metadata": {
    "colab": {
     "base_uri": "https://localhost:8080/"
    },
    "executionInfo": {
     "elapsed": 94711,
     "status": "ok",
     "timestamp": 1681083524644,
     "user": {
      "displayName": "Diana Carolina VERTIZ DEL VALLE",
      "userId": "04236681262725283456"
     },
     "user_tz": 180
    },
    "id": "qg2A5M76xVT8",
    "outputId": "e4fec5ee-c186-4887-b45c-d07ddee1f81a"
   },
   "outputs": [
    {
     "data": {
      "text/plain": [
       "array([-50842.25929218, -48736.21982439, -45939.13789086, -50533.88252324,\n",
       "       -47405.46903623, -49610.34435098, -51671.17833028, -48620.51110178,\n",
       "       -47379.77529752, -53236.82572324])"
      ]
     },
     "execution_count": 72,
     "metadata": {},
     "output_type": "execute_result"
    }
   ],
   "source": [
    "from sklearn.ensemble import RandomForestRegressor\n",
    "\n",
    "forest_reg = make_pipeline(pipeline_full, RandomForestRegressor(random_state=42))\n",
    "forest_rmses = cross_val_score(forest_reg, housing_train, target_train, scoring=\"neg_root_mean_squared_error\", cv=10)\n",
    "forest_rmses"
   ]
  },
  {
   "cell_type": "code",
   "execution_count": 73,
   "metadata": {
    "colab": {
     "base_uri": "https://localhost:8080/"
    },
    "executionInfo": {
     "elapsed": 19,
     "status": "ok",
     "timestamp": 1681083524645,
     "user": {
      "displayName": "Diana Carolina VERTIZ DEL VALLE",
      "userId": "04236681262725283456"
     },
     "user_tz": 180
    },
    "id": "r-FqFxR_DLjx",
    "outputId": "f8d7876a-ab05-4cd8-a6a3-a4024d664c46"
   },
   "outputs": [
    {
     "name": "stdout",
     "output_type": "stream",
     "text": [
      "Valor medio del RMSE: 49397.56033707019\n",
      "Desvío estándar del RMSE: 2106.530429964768\n"
     ]
    }
   ],
   "source": [
    "print(\"Valor medio del RMSE:\", -forest_rmses.mean())\n",
    "print(\"Desvío estándar del RMSE:\", forest_rmses.std())"
   ]
  },
  {
   "cell_type": "code",
   "execution_count": 74,
   "metadata": {
    "colab": {
     "base_uri": "https://localhost:8080/"
    },
    "executionInfo": {
     "elapsed": 10354,
     "status": "ok",
     "timestamp": 1681083534983,
     "user": {
      "displayName": "Diana Carolina VERTIZ DEL VALLE",
      "userId": "04236681262725283456"
     },
     "user_tz": 180
    },
    "id": "_pYdb5NEDtnK",
    "outputId": "6d623d61-abde-4f9d-d577-0c562a93255a"
   },
   "outputs": [
    {
     "data": {
      "text/plain": [
       "18342.366362322846"
      ]
     },
     "execution_count": 74,
     "metadata": {},
     "output_type": "execute_result"
    }
   ],
   "source": [
    "forest_reg.fit(housing_train, target_train)\n",
    "predicciones = forest_reg.predict(housing_train)\n",
    "forest_rmse = mean_squared_error(target_train, predicciones,squared=False)\n",
    "forest_rmse"
   ]
  },
  {
   "cell_type": "markdown",
   "metadata": {
    "id": "H5TgusWaFIu2"
   },
   "source": [
    "De la documentación de [RandomForestRegressor](https://scikit-learn.org/stable/modules/generated/sklearn.ensemble.RandomForestRegressor.html) podemos ver que la clase posee muchos parámetros para modificar:\n",
    "- **n_estimators:** número de árboles\n",
    "- **max_features**: el número de atributos que se usan para hacer crecer el árbol\n",
    "- **bootstrap**: Si se utiliza un subconjunto de los datos o el dataset completo\n",
    "    - Si es false usa todos, si es true submuestre"
   ]
  },
  {
   "cell_type": "code",
   "execution_count": 75,
   "metadata": {
    "executionInfo": {
     "elapsed": 14,
     "status": "ok",
     "timestamp": 1681083534983,
     "user": {
      "displayName": "Diana Carolina VERTIZ DEL VALLE",
      "userId": "04236681262725283456"
     },
     "user_tz": 180
    },
    "id": "dieK3rlJHukE"
   },
   "outputs": [],
   "source": [
    "n_arboles = [3,10,30]\n",
    "n_atributos = [2,3,4,6,8]"
   ]
  },
  {
   "cell_type": "code",
   "execution_count": 76,
   "metadata": {
    "executionInfo": {
     "elapsed": 14,
     "status": "ok",
     "timestamp": 1681083534984,
     "user": {
      "displayName": "Diana Carolina VERTIZ DEL VALLE",
      "userId": "04236681262725283456"
     },
     "user_tz": 180
    },
    "id": "1RFeEyDbICtv"
   },
   "outputs": [],
   "source": [
    "from sklearn.model_selection import GridSearchCV\n",
    "from sklearn.ensemble import RandomForestRegressor\n",
    "\n",
    "# forest_reg = make_pipeline(pipeline_full, RandomForestRegressor(random_state=42))\n",
    "RF = RandomForestRegressor(random_state=42)\n",
    "forest_reg = Pipeline(\n",
    "    [\n",
    "        (\"preprocessing\", pipeline_full),\n",
    "        (\"regressor\", RF),\n",
    "    ]\n",
    ")"
   ]
  },
  {
   "cell_type": "code",
   "execution_count": 77,
   "metadata": {
    "colab": {
     "base_uri": "https://localhost:8080/"
    },
    "executionInfo": {
     "elapsed": 8,
     "status": "ok",
     "timestamp": 1681083535429,
     "user": {
      "displayName": "Diana Carolina VERTIZ DEL VALLE",
      "userId": "04236681262725283456"
     },
     "user_tz": 180
    },
    "id": "w-Rhr7W2KGm1",
    "outputId": "00c3c439-537b-4052-d223-d0a6cb4cfe8e"
   },
   "outputs": [
    {
     "data": {
      "text/plain": [
       "dict_keys(['memory', 'steps', 'verbose', 'preprocessing', 'regressor', 'preprocessing__n_jobs', 'preprocessing__remainder', 'preprocessing__sparse_threshold', 'preprocessing__transformer_weights', 'preprocessing__transformers', 'preprocessing__verbose', 'preprocessing__verbose_feature_names_out', 'preprocessing__num', 'preprocessing__cat', 'preprocessing__num__memory', 'preprocessing__num__steps', 'preprocessing__num__verbose', 'preprocessing__num__imputer', 'preprocessing__num__std_scaler', 'preprocessing__num__imputer__add_indicator', 'preprocessing__num__imputer__copy', 'preprocessing__num__imputer__fill_value', 'preprocessing__num__imputer__missing_values', 'preprocessing__num__imputer__strategy', 'preprocessing__num__imputer__verbose', 'preprocessing__num__std_scaler__copy', 'preprocessing__num__std_scaler__with_mean', 'preprocessing__num__std_scaler__with_std', 'preprocessing__cat__categories', 'preprocessing__cat__drop', 'preprocessing__cat__dtype', 'preprocessing__cat__handle_unknown', 'preprocessing__cat__sparse', 'regressor__bootstrap', 'regressor__ccp_alpha', 'regressor__criterion', 'regressor__max_depth', 'regressor__max_features', 'regressor__max_leaf_nodes', 'regressor__max_samples', 'regressor__min_impurity_decrease', 'regressor__min_samples_leaf', 'regressor__min_samples_split', 'regressor__min_weight_fraction_leaf', 'regressor__n_estimators', 'regressor__n_jobs', 'regressor__oob_score', 'regressor__random_state', 'regressor__verbose', 'regressor__warm_start'])"
      ]
     },
     "execution_count": 77,
     "metadata": {},
     "output_type": "execute_result"
    }
   ],
   "source": [
    "forest_reg.get_params().keys()"
   ]
  },
  {
   "cell_type": "code",
   "execution_count": 78,
   "metadata": {
    "colab": {
     "base_uri": "https://localhost:8080/",
     "height": 251
    },
    "executionInfo": {
     "elapsed": 5,
     "status": "ok",
     "timestamp": 1681083535429,
     "user": {
      "displayName": "Diana Carolina VERTIZ DEL VALLE",
      "userId": "04236681262725283456"
     },
     "user_tz": 180
    },
    "id": "XA_VHpGlIl_y",
    "outputId": "142e4f13-b1bc-43cd-cf81-131fabb9ac9e"
   },
   "outputs": [
    {
     "data": {
      "text/html": [
       "<style>#sk-9b648cc4-cbdf-43e9-b5d5-93c49be53f18 {color: black;background-color: white;}#sk-9b648cc4-cbdf-43e9-b5d5-93c49be53f18 pre{padding: 0;}#sk-9b648cc4-cbdf-43e9-b5d5-93c49be53f18 div.sk-toggleable {background-color: white;}#sk-9b648cc4-cbdf-43e9-b5d5-93c49be53f18 label.sk-toggleable__label {cursor: pointer;display: block;width: 100%;margin-bottom: 0;padding: 0.3em;box-sizing: border-box;text-align: center;}#sk-9b648cc4-cbdf-43e9-b5d5-93c49be53f18 label.sk-toggleable__label-arrow:before {content: \"▸\";float: left;margin-right: 0.25em;color: #696969;}#sk-9b648cc4-cbdf-43e9-b5d5-93c49be53f18 label.sk-toggleable__label-arrow:hover:before {color: black;}#sk-9b648cc4-cbdf-43e9-b5d5-93c49be53f18 div.sk-estimator:hover label.sk-toggleable__label-arrow:before {color: black;}#sk-9b648cc4-cbdf-43e9-b5d5-93c49be53f18 div.sk-toggleable__content {max-height: 0;max-width: 0;overflow: hidden;text-align: left;background-color: #f0f8ff;}#sk-9b648cc4-cbdf-43e9-b5d5-93c49be53f18 div.sk-toggleable__content pre {margin: 0.2em;color: black;border-radius: 0.25em;background-color: #f0f8ff;}#sk-9b648cc4-cbdf-43e9-b5d5-93c49be53f18 input.sk-toggleable__control:checked~div.sk-toggleable__content {max-height: 200px;max-width: 100%;overflow: auto;}#sk-9b648cc4-cbdf-43e9-b5d5-93c49be53f18 input.sk-toggleable__control:checked~label.sk-toggleable__label-arrow:before {content: \"▾\";}#sk-9b648cc4-cbdf-43e9-b5d5-93c49be53f18 div.sk-estimator input.sk-toggleable__control:checked~label.sk-toggleable__label {background-color: #d4ebff;}#sk-9b648cc4-cbdf-43e9-b5d5-93c49be53f18 div.sk-label input.sk-toggleable__control:checked~label.sk-toggleable__label {background-color: #d4ebff;}#sk-9b648cc4-cbdf-43e9-b5d5-93c49be53f18 input.sk-hidden--visually {border: 0;clip: rect(1px 1px 1px 1px);clip: rect(1px, 1px, 1px, 1px);height: 1px;margin: -1px;overflow: hidden;padding: 0;position: absolute;width: 1px;}#sk-9b648cc4-cbdf-43e9-b5d5-93c49be53f18 div.sk-estimator {font-family: monospace;background-color: #f0f8ff;border: 1px dotted black;border-radius: 0.25em;box-sizing: border-box;margin-bottom: 0.5em;}#sk-9b648cc4-cbdf-43e9-b5d5-93c49be53f18 div.sk-estimator:hover {background-color: #d4ebff;}#sk-9b648cc4-cbdf-43e9-b5d5-93c49be53f18 div.sk-parallel-item::after {content: \"\";width: 100%;border-bottom: 1px solid gray;flex-grow: 1;}#sk-9b648cc4-cbdf-43e9-b5d5-93c49be53f18 div.sk-label:hover label.sk-toggleable__label {background-color: #d4ebff;}#sk-9b648cc4-cbdf-43e9-b5d5-93c49be53f18 div.sk-serial::before {content: \"\";position: absolute;border-left: 1px solid gray;box-sizing: border-box;top: 2em;bottom: 0;left: 50%;}#sk-9b648cc4-cbdf-43e9-b5d5-93c49be53f18 div.sk-serial {display: flex;flex-direction: column;align-items: center;background-color: white;padding-right: 0.2em;padding-left: 0.2em;}#sk-9b648cc4-cbdf-43e9-b5d5-93c49be53f18 div.sk-item {z-index: 1;}#sk-9b648cc4-cbdf-43e9-b5d5-93c49be53f18 div.sk-parallel {display: flex;align-items: stretch;justify-content: center;background-color: white;}#sk-9b648cc4-cbdf-43e9-b5d5-93c49be53f18 div.sk-parallel::before {content: \"\";position: absolute;border-left: 1px solid gray;box-sizing: border-box;top: 2em;bottom: 0;left: 50%;}#sk-9b648cc4-cbdf-43e9-b5d5-93c49be53f18 div.sk-parallel-item {display: flex;flex-direction: column;position: relative;background-color: white;}#sk-9b648cc4-cbdf-43e9-b5d5-93c49be53f18 div.sk-parallel-item:first-child::after {align-self: flex-end;width: 50%;}#sk-9b648cc4-cbdf-43e9-b5d5-93c49be53f18 div.sk-parallel-item:last-child::after {align-self: flex-start;width: 50%;}#sk-9b648cc4-cbdf-43e9-b5d5-93c49be53f18 div.sk-parallel-item:only-child::after {width: 0;}#sk-9b648cc4-cbdf-43e9-b5d5-93c49be53f18 div.sk-dashed-wrapped {border: 1px dashed gray;margin: 0 0.4em 0.5em 0.4em;box-sizing: border-box;padding-bottom: 0.4em;background-color: white;position: relative;}#sk-9b648cc4-cbdf-43e9-b5d5-93c49be53f18 div.sk-label label {font-family: monospace;font-weight: bold;background-color: white;display: inline-block;line-height: 1.2em;}#sk-9b648cc4-cbdf-43e9-b5d5-93c49be53f18 div.sk-label-container {position: relative;z-index: 2;text-align: center;}#sk-9b648cc4-cbdf-43e9-b5d5-93c49be53f18 div.sk-container {/* jupyter's `normalize.less` sets `[hidden] { display: none; }` but bootstrap.min.css set `[hidden] { display: none !important; }` so we also need the `!important` here to be able to override the default hidden behavior on the sphinx rendered scikit-learn.org. See: https://github.com/scikit-learn/scikit-learn/issues/21755 */display: inline-block !important;position: relative;}#sk-9b648cc4-cbdf-43e9-b5d5-93c49be53f18 div.sk-text-repr-fallback {display: none;}</style><div id=\"sk-9b648cc4-cbdf-43e9-b5d5-93c49be53f18\" class=\"sk-top-container\"><div class=\"sk-text-repr-fallback\"><pre>GridSearchCV(cv=3,\n",
       "             estimator=Pipeline(steps=[(&#x27;preprocessing&#x27;,\n",
       "                                        ColumnTransformer(transformers=[(&#x27;num&#x27;,\n",
       "                                                                         Pipeline(steps=[(&#x27;imputer&#x27;,\n",
       "                                                                                          SimpleImputer(strategy=&#x27;median&#x27;)),\n",
       "                                                                                         (&#x27;std_scaler&#x27;,\n",
       "                                                                                          StandardScaler())]),\n",
       "                                                                         [&#x27;longitude&#x27;,\n",
       "                                                                          &#x27;latitude&#x27;,\n",
       "                                                                          &#x27;housing_median_age&#x27;,\n",
       "                                                                          &#x27;total_rooms&#x27;,\n",
       "                                                                          &#x27;total_bedrooms&#x27;,\n",
       "                                                                          &#x27;population&#x27;,\n",
       "                                                                          &#x27;households&#x27;,\n",
       "                                                                          &#x27;median_income&#x27;]),\n",
       "                                                                        (&#x27;cat&#x27;,\n",
       "                                                                         OneHotEncoder(handle_unknown=&#x27;ignore&#x27;),\n",
       "                                                                         [&#x27;ocean_proximity&#x27;])])),\n",
       "                                       (&#x27;regressor&#x27;,\n",
       "                                        RandomForestRegressor(random_state=42))]),\n",
       "             param_grid=[{&#x27;regressor__max_features&#x27;: [2, 3, 4, 6, 8],\n",
       "                          &#x27;regressor__n_estimators&#x27;: [3, 10, 30]},\n",
       "                         {&#x27;regressor__bootstrap&#x27;: [False],\n",
       "                          &#x27;regressor__max_features&#x27;: [2, 3, 4, 6, 8],\n",
       "                          &#x27;regressor__n_estimators&#x27;: [3, 10, 30]}],\n",
       "             scoring=&#x27;r2&#x27;)</pre><b>Please rerun this cell to show the HTML repr or trust the notebook.</b></div><div class=\"sk-container\" hidden><div class=\"sk-item sk-dashed-wrapped\"><div class=\"sk-label-container\"><div class=\"sk-label sk-toggleable\"><input class=\"sk-toggleable__control sk-hidden--visually\" id=\"3cdf93d8-b10f-4f4f-a3cd-988544df28fa\" type=\"checkbox\" ><label for=\"3cdf93d8-b10f-4f4f-a3cd-988544df28fa\" class=\"sk-toggleable__label sk-toggleable__label-arrow\">GridSearchCV</label><div class=\"sk-toggleable__content\"><pre>GridSearchCV(cv=3,\n",
       "             estimator=Pipeline(steps=[(&#x27;preprocessing&#x27;,\n",
       "                                        ColumnTransformer(transformers=[(&#x27;num&#x27;,\n",
       "                                                                         Pipeline(steps=[(&#x27;imputer&#x27;,\n",
       "                                                                                          SimpleImputer(strategy=&#x27;median&#x27;)),\n",
       "                                                                                         (&#x27;std_scaler&#x27;,\n",
       "                                                                                          StandardScaler())]),\n",
       "                                                                         [&#x27;longitude&#x27;,\n",
       "                                                                          &#x27;latitude&#x27;,\n",
       "                                                                          &#x27;housing_median_age&#x27;,\n",
       "                                                                          &#x27;total_rooms&#x27;,\n",
       "                                                                          &#x27;total_bedrooms&#x27;,\n",
       "                                                                          &#x27;population&#x27;,\n",
       "                                                                          &#x27;households&#x27;,\n",
       "                                                                          &#x27;median_income&#x27;]),\n",
       "                                                                        (&#x27;cat&#x27;,\n",
       "                                                                         OneHotEncoder(handle_unknown=&#x27;ignore&#x27;),\n",
       "                                                                         [&#x27;ocean_proximity&#x27;])])),\n",
       "                                       (&#x27;regressor&#x27;,\n",
       "                                        RandomForestRegressor(random_state=42))]),\n",
       "             param_grid=[{&#x27;regressor__max_features&#x27;: [2, 3, 4, 6, 8],\n",
       "                          &#x27;regressor__n_estimators&#x27;: [3, 10, 30]},\n",
       "                         {&#x27;regressor__bootstrap&#x27;: [False],\n",
       "                          &#x27;regressor__max_features&#x27;: [2, 3, 4, 6, 8],\n",
       "                          &#x27;regressor__n_estimators&#x27;: [3, 10, 30]}],\n",
       "             scoring=&#x27;r2&#x27;)</pre></div></div></div><div class=\"sk-parallel\"><div class=\"sk-parallel-item\"><div class=\"sk-item\"><div class=\"sk-serial\"><div class=\"sk-item\"><div class=\"sk-serial\"><div class=\"sk-item sk-dashed-wrapped\"><div class=\"sk-label-container\"><div class=\"sk-label sk-toggleable\"><input class=\"sk-toggleable__control sk-hidden--visually\" id=\"7575c598-a145-44f9-866c-e895ff0817a6\" type=\"checkbox\" ><label for=\"7575c598-a145-44f9-866c-e895ff0817a6\" class=\"sk-toggleable__label sk-toggleable__label-arrow\">preprocessing: ColumnTransformer</label><div class=\"sk-toggleable__content\"><pre>ColumnTransformer(transformers=[(&#x27;num&#x27;,\n",
       "                                 Pipeline(steps=[(&#x27;imputer&#x27;,\n",
       "                                                  SimpleImputer(strategy=&#x27;median&#x27;)),\n",
       "                                                 (&#x27;std_scaler&#x27;,\n",
       "                                                  StandardScaler())]),\n",
       "                                 [&#x27;longitude&#x27;, &#x27;latitude&#x27;, &#x27;housing_median_age&#x27;,\n",
       "                                  &#x27;total_rooms&#x27;, &#x27;total_bedrooms&#x27;, &#x27;population&#x27;,\n",
       "                                  &#x27;households&#x27;, &#x27;median_income&#x27;]),\n",
       "                                (&#x27;cat&#x27;, OneHotEncoder(handle_unknown=&#x27;ignore&#x27;),\n",
       "                                 [&#x27;ocean_proximity&#x27;])])</pre></div></div></div><div class=\"sk-parallel\"><div class=\"sk-parallel-item\"><div class=\"sk-item\"><div class=\"sk-label-container\"><div class=\"sk-label sk-toggleable\"><input class=\"sk-toggleable__control sk-hidden--visually\" id=\"08e36ee4-b044-4e84-ab9c-e0d799bf6bab\" type=\"checkbox\" ><label for=\"08e36ee4-b044-4e84-ab9c-e0d799bf6bab\" class=\"sk-toggleable__label sk-toggleable__label-arrow\">num</label><div class=\"sk-toggleable__content\"><pre>[&#x27;longitude&#x27;, &#x27;latitude&#x27;, &#x27;housing_median_age&#x27;, &#x27;total_rooms&#x27;, &#x27;total_bedrooms&#x27;, &#x27;population&#x27;, &#x27;households&#x27;, &#x27;median_income&#x27;]</pre></div></div></div><div class=\"sk-serial\"><div class=\"sk-item\"><div class=\"sk-serial\"><div class=\"sk-item\"><div class=\"sk-estimator sk-toggleable\"><input class=\"sk-toggleable__control sk-hidden--visually\" id=\"e9f7c424-243a-4197-9f91-067ae4a4cd67\" type=\"checkbox\" ><label for=\"e9f7c424-243a-4197-9f91-067ae4a4cd67\" class=\"sk-toggleable__label sk-toggleable__label-arrow\">SimpleImputer</label><div class=\"sk-toggleable__content\"><pre>SimpleImputer(strategy=&#x27;median&#x27;)</pre></div></div></div><div class=\"sk-item\"><div class=\"sk-estimator sk-toggleable\"><input class=\"sk-toggleable__control sk-hidden--visually\" id=\"b5e37aec-e52e-4587-97ac-916cd2075281\" type=\"checkbox\" ><label for=\"b5e37aec-e52e-4587-97ac-916cd2075281\" class=\"sk-toggleable__label sk-toggleable__label-arrow\">StandardScaler</label><div class=\"sk-toggleable__content\"><pre>StandardScaler()</pre></div></div></div></div></div></div></div></div><div class=\"sk-parallel-item\"><div class=\"sk-item\"><div class=\"sk-label-container\"><div class=\"sk-label sk-toggleable\"><input class=\"sk-toggleable__control sk-hidden--visually\" id=\"3d79809d-6d04-4ea3-8e40-747439bff897\" type=\"checkbox\" ><label for=\"3d79809d-6d04-4ea3-8e40-747439bff897\" class=\"sk-toggleable__label sk-toggleable__label-arrow\">cat</label><div class=\"sk-toggleable__content\"><pre>[&#x27;ocean_proximity&#x27;]</pre></div></div></div><div class=\"sk-serial\"><div class=\"sk-item\"><div class=\"sk-estimator sk-toggleable\"><input class=\"sk-toggleable__control sk-hidden--visually\" id=\"aaf01db2-610b-4cc8-9891-dd8ce38c46c4\" type=\"checkbox\" ><label for=\"aaf01db2-610b-4cc8-9891-dd8ce38c46c4\" class=\"sk-toggleable__label sk-toggleable__label-arrow\">OneHotEncoder</label><div class=\"sk-toggleable__content\"><pre>OneHotEncoder(handle_unknown=&#x27;ignore&#x27;)</pre></div></div></div></div></div></div></div></div><div class=\"sk-item\"><div class=\"sk-estimator sk-toggleable\"><input class=\"sk-toggleable__control sk-hidden--visually\" id=\"4ae13cb9-3ef1-47e1-9f3d-809f373faa19\" type=\"checkbox\" ><label for=\"4ae13cb9-3ef1-47e1-9f3d-809f373faa19\" class=\"sk-toggleable__label sk-toggleable__label-arrow\">RandomForestRegressor</label><div class=\"sk-toggleable__content\"><pre>RandomForestRegressor(random_state=42)</pre></div></div></div></div></div></div></div></div></div></div></div></div>"
      ],
      "text/plain": [
       "GridSearchCV(cv=3,\n",
       "             estimator=Pipeline(steps=[('preprocessing',\n",
       "                                        ColumnTransformer(transformers=[('num',\n",
       "                                                                         Pipeline(steps=[('imputer',\n",
       "                                                                                          SimpleImputer(strategy='median')),\n",
       "                                                                                         ('std_scaler',\n",
       "                                                                                          StandardScaler())]),\n",
       "                                                                         ['longitude',\n",
       "                                                                          'latitude',\n",
       "                                                                          'housing_median_age',\n",
       "                                                                          'total_rooms',\n",
       "                                                                          'total_bedrooms',\n",
       "                                                                          'population',\n",
       "                                                                          'households',\n",
       "                                                                          'median_income']),\n",
       "                                                                        ('cat',\n",
       "                                                                         OneHotEncoder(handle_unknown='ignore'),\n",
       "                                                                         ['ocean_proximity'])])),\n",
       "                                       ('regressor',\n",
       "                                        RandomForestRegressor(random_state=42))]),\n",
       "             param_grid=[{'regressor__max_features': [2, 3, 4, 6, 8],\n",
       "                          'regressor__n_estimators': [3, 10, 30]},\n",
       "                         {'regressor__bootstrap': [False],\n",
       "                          'regressor__max_features': [2, 3, 4, 6, 8],\n",
       "                          'regressor__n_estimators': [3, 10, 30]}],\n",
       "             scoring='r2')"
      ]
     },
     "execution_count": 78,
     "metadata": {},
     "output_type": "execute_result"
    }
   ],
   "source": [
    "grid = [\n",
    "{'regressor__n_estimators': n_arboles, 'regressor__max_features': n_atributos}, # 3x5 combinaciones\n",
    "{'regressor__bootstrap': [False], 'regressor__n_estimators': n_arboles, 'regressor__max_features': n_atributos},\n",
    "]\n",
    "\n",
    "grid_search = GridSearchCV(estimator=forest_reg, param_grid=grid, cv=3, scoring=\"r2\")\n",
    "grid_search"
   ]
  },
  {
   "cell_type": "code",
   "execution_count": 79,
   "metadata": {
    "colab": {
     "base_uri": "https://localhost:8080/",
     "height": 274
    },
    "executionInfo": {
     "elapsed": 51653,
     "status": "ok",
     "timestamp": 1681083625265,
     "user": {
      "displayName": "Diana Carolina VERTIZ DEL VALLE",
      "userId": "04236681262725283456"
     },
     "user_tz": 180
    },
    "id": "HdV0HmxCNrCn",
    "outputId": "652d50f6-8a38-4d61-aeec-6653c157bce0"
   },
   "outputs": [
    {
     "data": {
      "text/html": [
       "<style>#sk-32019259-b40c-41be-845e-f09c4185aeba {color: black;background-color: white;}#sk-32019259-b40c-41be-845e-f09c4185aeba pre{padding: 0;}#sk-32019259-b40c-41be-845e-f09c4185aeba div.sk-toggleable {background-color: white;}#sk-32019259-b40c-41be-845e-f09c4185aeba label.sk-toggleable__label {cursor: pointer;display: block;width: 100%;margin-bottom: 0;padding: 0.3em;box-sizing: border-box;text-align: center;}#sk-32019259-b40c-41be-845e-f09c4185aeba label.sk-toggleable__label-arrow:before {content: \"▸\";float: left;margin-right: 0.25em;color: #696969;}#sk-32019259-b40c-41be-845e-f09c4185aeba label.sk-toggleable__label-arrow:hover:before {color: black;}#sk-32019259-b40c-41be-845e-f09c4185aeba div.sk-estimator:hover label.sk-toggleable__label-arrow:before {color: black;}#sk-32019259-b40c-41be-845e-f09c4185aeba div.sk-toggleable__content {max-height: 0;max-width: 0;overflow: hidden;text-align: left;background-color: #f0f8ff;}#sk-32019259-b40c-41be-845e-f09c4185aeba div.sk-toggleable__content pre {margin: 0.2em;color: black;border-radius: 0.25em;background-color: #f0f8ff;}#sk-32019259-b40c-41be-845e-f09c4185aeba input.sk-toggleable__control:checked~div.sk-toggleable__content {max-height: 200px;max-width: 100%;overflow: auto;}#sk-32019259-b40c-41be-845e-f09c4185aeba input.sk-toggleable__control:checked~label.sk-toggleable__label-arrow:before {content: \"▾\";}#sk-32019259-b40c-41be-845e-f09c4185aeba div.sk-estimator input.sk-toggleable__control:checked~label.sk-toggleable__label {background-color: #d4ebff;}#sk-32019259-b40c-41be-845e-f09c4185aeba div.sk-label input.sk-toggleable__control:checked~label.sk-toggleable__label {background-color: #d4ebff;}#sk-32019259-b40c-41be-845e-f09c4185aeba input.sk-hidden--visually {border: 0;clip: rect(1px 1px 1px 1px);clip: rect(1px, 1px, 1px, 1px);height: 1px;margin: -1px;overflow: hidden;padding: 0;position: absolute;width: 1px;}#sk-32019259-b40c-41be-845e-f09c4185aeba div.sk-estimator {font-family: monospace;background-color: #f0f8ff;border: 1px dotted black;border-radius: 0.25em;box-sizing: border-box;margin-bottom: 0.5em;}#sk-32019259-b40c-41be-845e-f09c4185aeba div.sk-estimator:hover {background-color: #d4ebff;}#sk-32019259-b40c-41be-845e-f09c4185aeba div.sk-parallel-item::after {content: \"\";width: 100%;border-bottom: 1px solid gray;flex-grow: 1;}#sk-32019259-b40c-41be-845e-f09c4185aeba div.sk-label:hover label.sk-toggleable__label {background-color: #d4ebff;}#sk-32019259-b40c-41be-845e-f09c4185aeba div.sk-serial::before {content: \"\";position: absolute;border-left: 1px solid gray;box-sizing: border-box;top: 2em;bottom: 0;left: 50%;}#sk-32019259-b40c-41be-845e-f09c4185aeba div.sk-serial {display: flex;flex-direction: column;align-items: center;background-color: white;padding-right: 0.2em;padding-left: 0.2em;}#sk-32019259-b40c-41be-845e-f09c4185aeba div.sk-item {z-index: 1;}#sk-32019259-b40c-41be-845e-f09c4185aeba div.sk-parallel {display: flex;align-items: stretch;justify-content: center;background-color: white;}#sk-32019259-b40c-41be-845e-f09c4185aeba div.sk-parallel::before {content: \"\";position: absolute;border-left: 1px solid gray;box-sizing: border-box;top: 2em;bottom: 0;left: 50%;}#sk-32019259-b40c-41be-845e-f09c4185aeba div.sk-parallel-item {display: flex;flex-direction: column;position: relative;background-color: white;}#sk-32019259-b40c-41be-845e-f09c4185aeba div.sk-parallel-item:first-child::after {align-self: flex-end;width: 50%;}#sk-32019259-b40c-41be-845e-f09c4185aeba div.sk-parallel-item:last-child::after {align-self: flex-start;width: 50%;}#sk-32019259-b40c-41be-845e-f09c4185aeba div.sk-parallel-item:only-child::after {width: 0;}#sk-32019259-b40c-41be-845e-f09c4185aeba div.sk-dashed-wrapped {border: 1px dashed gray;margin: 0 0.4em 0.5em 0.4em;box-sizing: border-box;padding-bottom: 0.4em;background-color: white;position: relative;}#sk-32019259-b40c-41be-845e-f09c4185aeba div.sk-label label {font-family: monospace;font-weight: bold;background-color: white;display: inline-block;line-height: 1.2em;}#sk-32019259-b40c-41be-845e-f09c4185aeba div.sk-label-container {position: relative;z-index: 2;text-align: center;}#sk-32019259-b40c-41be-845e-f09c4185aeba div.sk-container {/* jupyter's `normalize.less` sets `[hidden] { display: none; }` but bootstrap.min.css set `[hidden] { display: none !important; }` so we also need the `!important` here to be able to override the default hidden behavior on the sphinx rendered scikit-learn.org. See: https://github.com/scikit-learn/scikit-learn/issues/21755 */display: inline-block !important;position: relative;}#sk-32019259-b40c-41be-845e-f09c4185aeba div.sk-text-repr-fallback {display: none;}</style><div id=\"sk-32019259-b40c-41be-845e-f09c4185aeba\" class=\"sk-top-container\"><div class=\"sk-text-repr-fallback\"><pre>GridSearchCV(cv=3,\n",
       "             estimator=Pipeline(steps=[(&#x27;preprocessing&#x27;,\n",
       "                                        ColumnTransformer(transformers=[(&#x27;num&#x27;,\n",
       "                                                                         Pipeline(steps=[(&#x27;imputer&#x27;,\n",
       "                                                                                          SimpleImputer(strategy=&#x27;median&#x27;)),\n",
       "                                                                                         (&#x27;std_scaler&#x27;,\n",
       "                                                                                          StandardScaler())]),\n",
       "                                                                         [&#x27;longitude&#x27;,\n",
       "                                                                          &#x27;latitude&#x27;,\n",
       "                                                                          &#x27;housing_median_age&#x27;,\n",
       "                                                                          &#x27;total_rooms&#x27;,\n",
       "                                                                          &#x27;total_bedrooms&#x27;,\n",
       "                                                                          &#x27;population&#x27;,\n",
       "                                                                          &#x27;households&#x27;,\n",
       "                                                                          &#x27;median_income&#x27;]),\n",
       "                                                                        (&#x27;cat&#x27;,\n",
       "                                                                         OneHotEncoder(handle_unknown=&#x27;ignore&#x27;),\n",
       "                                                                         [&#x27;ocean_proximity&#x27;])])),\n",
       "                                       (&#x27;regressor&#x27;,\n",
       "                                        RandomForestRegressor(random_state=42))]),\n",
       "             param_grid=[{&#x27;regressor__max_features&#x27;: [2, 3, 4, 6, 8],\n",
       "                          &#x27;regressor__n_estimators&#x27;: [3, 10, 30]},\n",
       "                         {&#x27;regressor__bootstrap&#x27;: [False],\n",
       "                          &#x27;regressor__max_features&#x27;: [2, 3, 4, 6, 8],\n",
       "                          &#x27;regressor__n_estimators&#x27;: [3, 10, 30]}],\n",
       "             scoring=&#x27;r2&#x27;)</pre><b>Please rerun this cell to show the HTML repr or trust the notebook.</b></div><div class=\"sk-container\" hidden><div class=\"sk-item sk-dashed-wrapped\"><div class=\"sk-label-container\"><div class=\"sk-label sk-toggleable\"><input class=\"sk-toggleable__control sk-hidden--visually\" id=\"33ce2d47-9195-4168-8b50-b8b357f56f06\" type=\"checkbox\" ><label for=\"33ce2d47-9195-4168-8b50-b8b357f56f06\" class=\"sk-toggleable__label sk-toggleable__label-arrow\">GridSearchCV</label><div class=\"sk-toggleable__content\"><pre>GridSearchCV(cv=3,\n",
       "             estimator=Pipeline(steps=[(&#x27;preprocessing&#x27;,\n",
       "                                        ColumnTransformer(transformers=[(&#x27;num&#x27;,\n",
       "                                                                         Pipeline(steps=[(&#x27;imputer&#x27;,\n",
       "                                                                                          SimpleImputer(strategy=&#x27;median&#x27;)),\n",
       "                                                                                         (&#x27;std_scaler&#x27;,\n",
       "                                                                                          StandardScaler())]),\n",
       "                                                                         [&#x27;longitude&#x27;,\n",
       "                                                                          &#x27;latitude&#x27;,\n",
       "                                                                          &#x27;housing_median_age&#x27;,\n",
       "                                                                          &#x27;total_rooms&#x27;,\n",
       "                                                                          &#x27;total_bedrooms&#x27;,\n",
       "                                                                          &#x27;population&#x27;,\n",
       "                                                                          &#x27;households&#x27;,\n",
       "                                                                          &#x27;median_income&#x27;]),\n",
       "                                                                        (&#x27;cat&#x27;,\n",
       "                                                                         OneHotEncoder(handle_unknown=&#x27;ignore&#x27;),\n",
       "                                                                         [&#x27;ocean_proximity&#x27;])])),\n",
       "                                       (&#x27;regressor&#x27;,\n",
       "                                        RandomForestRegressor(random_state=42))]),\n",
       "             param_grid=[{&#x27;regressor__max_features&#x27;: [2, 3, 4, 6, 8],\n",
       "                          &#x27;regressor__n_estimators&#x27;: [3, 10, 30]},\n",
       "                         {&#x27;regressor__bootstrap&#x27;: [False],\n",
       "                          &#x27;regressor__max_features&#x27;: [2, 3, 4, 6, 8],\n",
       "                          &#x27;regressor__n_estimators&#x27;: [3, 10, 30]}],\n",
       "             scoring=&#x27;r2&#x27;)</pre></div></div></div><div class=\"sk-parallel\"><div class=\"sk-parallel-item\"><div class=\"sk-item\"><div class=\"sk-serial\"><div class=\"sk-item\"><div class=\"sk-serial\"><div class=\"sk-item sk-dashed-wrapped\"><div class=\"sk-label-container\"><div class=\"sk-label sk-toggleable\"><input class=\"sk-toggleable__control sk-hidden--visually\" id=\"279d72de-bf38-4016-b9ec-8621c2023034\" type=\"checkbox\" ><label for=\"279d72de-bf38-4016-b9ec-8621c2023034\" class=\"sk-toggleable__label sk-toggleable__label-arrow\">preprocessing: ColumnTransformer</label><div class=\"sk-toggleable__content\"><pre>ColumnTransformer(transformers=[(&#x27;num&#x27;,\n",
       "                                 Pipeline(steps=[(&#x27;imputer&#x27;,\n",
       "                                                  SimpleImputer(strategy=&#x27;median&#x27;)),\n",
       "                                                 (&#x27;std_scaler&#x27;,\n",
       "                                                  StandardScaler())]),\n",
       "                                 [&#x27;longitude&#x27;, &#x27;latitude&#x27;, &#x27;housing_median_age&#x27;,\n",
       "                                  &#x27;total_rooms&#x27;, &#x27;total_bedrooms&#x27;, &#x27;population&#x27;,\n",
       "                                  &#x27;households&#x27;, &#x27;median_income&#x27;]),\n",
       "                                (&#x27;cat&#x27;, OneHotEncoder(handle_unknown=&#x27;ignore&#x27;),\n",
       "                                 [&#x27;ocean_proximity&#x27;])])</pre></div></div></div><div class=\"sk-parallel\"><div class=\"sk-parallel-item\"><div class=\"sk-item\"><div class=\"sk-label-container\"><div class=\"sk-label sk-toggleable\"><input class=\"sk-toggleable__control sk-hidden--visually\" id=\"6302fd0b-954c-4c16-b7d0-58d5f6e4a188\" type=\"checkbox\" ><label for=\"6302fd0b-954c-4c16-b7d0-58d5f6e4a188\" class=\"sk-toggleable__label sk-toggleable__label-arrow\">num</label><div class=\"sk-toggleable__content\"><pre>[&#x27;longitude&#x27;, &#x27;latitude&#x27;, &#x27;housing_median_age&#x27;, &#x27;total_rooms&#x27;, &#x27;total_bedrooms&#x27;, &#x27;population&#x27;, &#x27;households&#x27;, &#x27;median_income&#x27;]</pre></div></div></div><div class=\"sk-serial\"><div class=\"sk-item\"><div class=\"sk-serial\"><div class=\"sk-item\"><div class=\"sk-estimator sk-toggleable\"><input class=\"sk-toggleable__control sk-hidden--visually\" id=\"11c9f12e-4666-4c34-9bf3-8ab8328cf68a\" type=\"checkbox\" ><label for=\"11c9f12e-4666-4c34-9bf3-8ab8328cf68a\" class=\"sk-toggleable__label sk-toggleable__label-arrow\">SimpleImputer</label><div class=\"sk-toggleable__content\"><pre>SimpleImputer(strategy=&#x27;median&#x27;)</pre></div></div></div><div class=\"sk-item\"><div class=\"sk-estimator sk-toggleable\"><input class=\"sk-toggleable__control sk-hidden--visually\" id=\"6c74f58d-9b93-4784-84f9-c8e5bcac3e44\" type=\"checkbox\" ><label for=\"6c74f58d-9b93-4784-84f9-c8e5bcac3e44\" class=\"sk-toggleable__label sk-toggleable__label-arrow\">StandardScaler</label><div class=\"sk-toggleable__content\"><pre>StandardScaler()</pre></div></div></div></div></div></div></div></div><div class=\"sk-parallel-item\"><div class=\"sk-item\"><div class=\"sk-label-container\"><div class=\"sk-label sk-toggleable\"><input class=\"sk-toggleable__control sk-hidden--visually\" id=\"2b4bd484-df14-48d9-a90e-646b701dc89b\" type=\"checkbox\" ><label for=\"2b4bd484-df14-48d9-a90e-646b701dc89b\" class=\"sk-toggleable__label sk-toggleable__label-arrow\">cat</label><div class=\"sk-toggleable__content\"><pre>[&#x27;ocean_proximity&#x27;]</pre></div></div></div><div class=\"sk-serial\"><div class=\"sk-item\"><div class=\"sk-estimator sk-toggleable\"><input class=\"sk-toggleable__control sk-hidden--visually\" id=\"ee94863a-22fa-4ecc-aecf-d48aa0c38e17\" type=\"checkbox\" ><label for=\"ee94863a-22fa-4ecc-aecf-d48aa0c38e17\" class=\"sk-toggleable__label sk-toggleable__label-arrow\">OneHotEncoder</label><div class=\"sk-toggleable__content\"><pre>OneHotEncoder(handle_unknown=&#x27;ignore&#x27;)</pre></div></div></div></div></div></div></div></div><div class=\"sk-item\"><div class=\"sk-estimator sk-toggleable\"><input class=\"sk-toggleable__control sk-hidden--visually\" id=\"cd78ebf1-5aac-49f1-8f01-ccc2baa259c7\" type=\"checkbox\" ><label for=\"cd78ebf1-5aac-49f1-8f01-ccc2baa259c7\" class=\"sk-toggleable__label sk-toggleable__label-arrow\">RandomForestRegressor</label><div class=\"sk-toggleable__content\"><pre>RandomForestRegressor(random_state=42)</pre></div></div></div></div></div></div></div></div></div></div></div></div>"
      ],
      "text/plain": [
       "GridSearchCV(cv=3,\n",
       "             estimator=Pipeline(steps=[('preprocessing',\n",
       "                                        ColumnTransformer(transformers=[('num',\n",
       "                                                                         Pipeline(steps=[('imputer',\n",
       "                                                                                          SimpleImputer(strategy='median')),\n",
       "                                                                                         ('std_scaler',\n",
       "                                                                                          StandardScaler())]),\n",
       "                                                                         ['longitude',\n",
       "                                                                          'latitude',\n",
       "                                                                          'housing_median_age',\n",
       "                                                                          'total_rooms',\n",
       "                                                                          'total_bedrooms',\n",
       "                                                                          'population',\n",
       "                                                                          'households',\n",
       "                                                                          'median_income']),\n",
       "                                                                        ('cat',\n",
       "                                                                         OneHotEncoder(handle_unknown='ignore'),\n",
       "                                                                         ['ocean_proximity'])])),\n",
       "                                       ('regressor',\n",
       "                                        RandomForestRegressor(random_state=42))]),\n",
       "             param_grid=[{'regressor__max_features': [2, 3, 4, 6, 8],\n",
       "                          'regressor__n_estimators': [3, 10, 30]},\n",
       "                         {'regressor__bootstrap': [False],\n",
       "                          'regressor__max_features': [2, 3, 4, 6, 8],\n",
       "                          'regressor__n_estimators': [3, 10, 30]}],\n",
       "             scoring='r2')"
      ]
     },
     "execution_count": 79,
     "metadata": {},
     "output_type": "execute_result"
    }
   ],
   "source": [
    "grid_search.fit(housing_train, target_train)"
   ]
  },
  {
   "cell_type": "code",
   "execution_count": 80,
   "metadata": {
    "colab": {
     "base_uri": "https://localhost:8080/"
    },
    "executionInfo": {
     "elapsed": 339,
     "status": "ok",
     "timestamp": 1681083649642,
     "user": {
      "displayName": "Diana Carolina VERTIZ DEL VALLE",
      "userId": "04236681262725283456"
     },
     "user_tz": 180
    },
    "id": "K6z7V4gYZMEu",
    "outputId": "9360f4f7-b6fe-4440-d022-0781816e7f81"
   },
   "outputs": [
    {
     "data": {
      "text/plain": [
       "{'regressor__bootstrap': False,\n",
       " 'regressor__max_features': 4,\n",
       " 'regressor__n_estimators': 30}"
      ]
     },
     "execution_count": 80,
     "metadata": {},
     "output_type": "execute_result"
    }
   ],
   "source": [
    "grid_search.best_params_"
   ]
  },
  {
   "cell_type": "code",
   "execution_count": 81,
   "metadata": {
    "colab": {
     "base_uri": "https://localhost:8080/",
     "height": 225
    },
    "executionInfo": {
     "elapsed": 287,
     "status": "ok",
     "timestamp": 1681083664306,
     "user": {
      "displayName": "Diana Carolina VERTIZ DEL VALLE",
      "userId": "04236681262725283456"
     },
     "user_tz": 180
    },
    "id": "rBeSLDynZMt5",
    "outputId": "2870186e-e7db-42f0-ee6a-c8a7e9adb589"
   },
   "outputs": [
    {
     "data": {
      "text/html": [
       "<style>#sk-afbb3851-573d-493c-8cbb-bca29e61a4e2 {color: black;background-color: white;}#sk-afbb3851-573d-493c-8cbb-bca29e61a4e2 pre{padding: 0;}#sk-afbb3851-573d-493c-8cbb-bca29e61a4e2 div.sk-toggleable {background-color: white;}#sk-afbb3851-573d-493c-8cbb-bca29e61a4e2 label.sk-toggleable__label {cursor: pointer;display: block;width: 100%;margin-bottom: 0;padding: 0.3em;box-sizing: border-box;text-align: center;}#sk-afbb3851-573d-493c-8cbb-bca29e61a4e2 label.sk-toggleable__label-arrow:before {content: \"▸\";float: left;margin-right: 0.25em;color: #696969;}#sk-afbb3851-573d-493c-8cbb-bca29e61a4e2 label.sk-toggleable__label-arrow:hover:before {color: black;}#sk-afbb3851-573d-493c-8cbb-bca29e61a4e2 div.sk-estimator:hover label.sk-toggleable__label-arrow:before {color: black;}#sk-afbb3851-573d-493c-8cbb-bca29e61a4e2 div.sk-toggleable__content {max-height: 0;max-width: 0;overflow: hidden;text-align: left;background-color: #f0f8ff;}#sk-afbb3851-573d-493c-8cbb-bca29e61a4e2 div.sk-toggleable__content pre {margin: 0.2em;color: black;border-radius: 0.25em;background-color: #f0f8ff;}#sk-afbb3851-573d-493c-8cbb-bca29e61a4e2 input.sk-toggleable__control:checked~div.sk-toggleable__content {max-height: 200px;max-width: 100%;overflow: auto;}#sk-afbb3851-573d-493c-8cbb-bca29e61a4e2 input.sk-toggleable__control:checked~label.sk-toggleable__label-arrow:before {content: \"▾\";}#sk-afbb3851-573d-493c-8cbb-bca29e61a4e2 div.sk-estimator input.sk-toggleable__control:checked~label.sk-toggleable__label {background-color: #d4ebff;}#sk-afbb3851-573d-493c-8cbb-bca29e61a4e2 div.sk-label input.sk-toggleable__control:checked~label.sk-toggleable__label {background-color: #d4ebff;}#sk-afbb3851-573d-493c-8cbb-bca29e61a4e2 input.sk-hidden--visually {border: 0;clip: rect(1px 1px 1px 1px);clip: rect(1px, 1px, 1px, 1px);height: 1px;margin: -1px;overflow: hidden;padding: 0;position: absolute;width: 1px;}#sk-afbb3851-573d-493c-8cbb-bca29e61a4e2 div.sk-estimator {font-family: monospace;background-color: #f0f8ff;border: 1px dotted black;border-radius: 0.25em;box-sizing: border-box;margin-bottom: 0.5em;}#sk-afbb3851-573d-493c-8cbb-bca29e61a4e2 div.sk-estimator:hover {background-color: #d4ebff;}#sk-afbb3851-573d-493c-8cbb-bca29e61a4e2 div.sk-parallel-item::after {content: \"\";width: 100%;border-bottom: 1px solid gray;flex-grow: 1;}#sk-afbb3851-573d-493c-8cbb-bca29e61a4e2 div.sk-label:hover label.sk-toggleable__label {background-color: #d4ebff;}#sk-afbb3851-573d-493c-8cbb-bca29e61a4e2 div.sk-serial::before {content: \"\";position: absolute;border-left: 1px solid gray;box-sizing: border-box;top: 2em;bottom: 0;left: 50%;}#sk-afbb3851-573d-493c-8cbb-bca29e61a4e2 div.sk-serial {display: flex;flex-direction: column;align-items: center;background-color: white;padding-right: 0.2em;padding-left: 0.2em;}#sk-afbb3851-573d-493c-8cbb-bca29e61a4e2 div.sk-item {z-index: 1;}#sk-afbb3851-573d-493c-8cbb-bca29e61a4e2 div.sk-parallel {display: flex;align-items: stretch;justify-content: center;background-color: white;}#sk-afbb3851-573d-493c-8cbb-bca29e61a4e2 div.sk-parallel::before {content: \"\";position: absolute;border-left: 1px solid gray;box-sizing: border-box;top: 2em;bottom: 0;left: 50%;}#sk-afbb3851-573d-493c-8cbb-bca29e61a4e2 div.sk-parallel-item {display: flex;flex-direction: column;position: relative;background-color: white;}#sk-afbb3851-573d-493c-8cbb-bca29e61a4e2 div.sk-parallel-item:first-child::after {align-self: flex-end;width: 50%;}#sk-afbb3851-573d-493c-8cbb-bca29e61a4e2 div.sk-parallel-item:last-child::after {align-self: flex-start;width: 50%;}#sk-afbb3851-573d-493c-8cbb-bca29e61a4e2 div.sk-parallel-item:only-child::after {width: 0;}#sk-afbb3851-573d-493c-8cbb-bca29e61a4e2 div.sk-dashed-wrapped {border: 1px dashed gray;margin: 0 0.4em 0.5em 0.4em;box-sizing: border-box;padding-bottom: 0.4em;background-color: white;position: relative;}#sk-afbb3851-573d-493c-8cbb-bca29e61a4e2 div.sk-label label {font-family: monospace;font-weight: bold;background-color: white;display: inline-block;line-height: 1.2em;}#sk-afbb3851-573d-493c-8cbb-bca29e61a4e2 div.sk-label-container {position: relative;z-index: 2;text-align: center;}#sk-afbb3851-573d-493c-8cbb-bca29e61a4e2 div.sk-container {/* jupyter's `normalize.less` sets `[hidden] { display: none; }` but bootstrap.min.css set `[hidden] { display: none !important; }` so we also need the `!important` here to be able to override the default hidden behavior on the sphinx rendered scikit-learn.org. See: https://github.com/scikit-learn/scikit-learn/issues/21755 */display: inline-block !important;position: relative;}#sk-afbb3851-573d-493c-8cbb-bca29e61a4e2 div.sk-text-repr-fallback {display: none;}</style><div id=\"sk-afbb3851-573d-493c-8cbb-bca29e61a4e2\" class=\"sk-top-container\"><div class=\"sk-text-repr-fallback\"><pre>Pipeline(steps=[(&#x27;preprocessing&#x27;,\n",
       "                 ColumnTransformer(transformers=[(&#x27;num&#x27;,\n",
       "                                                  Pipeline(steps=[(&#x27;imputer&#x27;,\n",
       "                                                                   SimpleImputer(strategy=&#x27;median&#x27;)),\n",
       "                                                                  (&#x27;std_scaler&#x27;,\n",
       "                                                                   StandardScaler())]),\n",
       "                                                  [&#x27;longitude&#x27;, &#x27;latitude&#x27;,\n",
       "                                                   &#x27;housing_median_age&#x27;,\n",
       "                                                   &#x27;total_rooms&#x27;,\n",
       "                                                   &#x27;total_bedrooms&#x27;,\n",
       "                                                   &#x27;population&#x27;, &#x27;households&#x27;,\n",
       "                                                   &#x27;median_income&#x27;]),\n",
       "                                                 (&#x27;cat&#x27;,\n",
       "                                                  OneHotEncoder(handle_unknown=&#x27;ignore&#x27;),\n",
       "                                                  [&#x27;ocean_proximity&#x27;])])),\n",
       "                (&#x27;regressor&#x27;,\n",
       "                 RandomForestRegressor(bootstrap=False, max_features=4,\n",
       "                                       n_estimators=30, random_state=42))])</pre><b>Please rerun this cell to show the HTML repr or trust the notebook.</b></div><div class=\"sk-container\" hidden><div class=\"sk-item sk-dashed-wrapped\"><div class=\"sk-label-container\"><div class=\"sk-label sk-toggleable\"><input class=\"sk-toggleable__control sk-hidden--visually\" id=\"d041b0a9-a8aa-4efb-b572-34bcc59c2478\" type=\"checkbox\" ><label for=\"d041b0a9-a8aa-4efb-b572-34bcc59c2478\" class=\"sk-toggleable__label sk-toggleable__label-arrow\">Pipeline</label><div class=\"sk-toggleable__content\"><pre>Pipeline(steps=[(&#x27;preprocessing&#x27;,\n",
       "                 ColumnTransformer(transformers=[(&#x27;num&#x27;,\n",
       "                                                  Pipeline(steps=[(&#x27;imputer&#x27;,\n",
       "                                                                   SimpleImputer(strategy=&#x27;median&#x27;)),\n",
       "                                                                  (&#x27;std_scaler&#x27;,\n",
       "                                                                   StandardScaler())]),\n",
       "                                                  [&#x27;longitude&#x27;, &#x27;latitude&#x27;,\n",
       "                                                   &#x27;housing_median_age&#x27;,\n",
       "                                                   &#x27;total_rooms&#x27;,\n",
       "                                                   &#x27;total_bedrooms&#x27;,\n",
       "                                                   &#x27;population&#x27;, &#x27;households&#x27;,\n",
       "                                                   &#x27;median_income&#x27;]),\n",
       "                                                 (&#x27;cat&#x27;,\n",
       "                                                  OneHotEncoder(handle_unknown=&#x27;ignore&#x27;),\n",
       "                                                  [&#x27;ocean_proximity&#x27;])])),\n",
       "                (&#x27;regressor&#x27;,\n",
       "                 RandomForestRegressor(bootstrap=False, max_features=4,\n",
       "                                       n_estimators=30, random_state=42))])</pre></div></div></div><div class=\"sk-serial\"><div class=\"sk-item sk-dashed-wrapped\"><div class=\"sk-label-container\"><div class=\"sk-label sk-toggleable\"><input class=\"sk-toggleable__control sk-hidden--visually\" id=\"1b0c79f8-47dd-403b-9fbe-8a2b31693b11\" type=\"checkbox\" ><label for=\"1b0c79f8-47dd-403b-9fbe-8a2b31693b11\" class=\"sk-toggleable__label sk-toggleable__label-arrow\">preprocessing: ColumnTransformer</label><div class=\"sk-toggleable__content\"><pre>ColumnTransformer(transformers=[(&#x27;num&#x27;,\n",
       "                                 Pipeline(steps=[(&#x27;imputer&#x27;,\n",
       "                                                  SimpleImputer(strategy=&#x27;median&#x27;)),\n",
       "                                                 (&#x27;std_scaler&#x27;,\n",
       "                                                  StandardScaler())]),\n",
       "                                 [&#x27;longitude&#x27;, &#x27;latitude&#x27;, &#x27;housing_median_age&#x27;,\n",
       "                                  &#x27;total_rooms&#x27;, &#x27;total_bedrooms&#x27;, &#x27;population&#x27;,\n",
       "                                  &#x27;households&#x27;, &#x27;median_income&#x27;]),\n",
       "                                (&#x27;cat&#x27;, OneHotEncoder(handle_unknown=&#x27;ignore&#x27;),\n",
       "                                 [&#x27;ocean_proximity&#x27;])])</pre></div></div></div><div class=\"sk-parallel\"><div class=\"sk-parallel-item\"><div class=\"sk-item\"><div class=\"sk-label-container\"><div class=\"sk-label sk-toggleable\"><input class=\"sk-toggleable__control sk-hidden--visually\" id=\"9a51b5ff-298e-4144-92e7-b794934320c4\" type=\"checkbox\" ><label for=\"9a51b5ff-298e-4144-92e7-b794934320c4\" class=\"sk-toggleable__label sk-toggleable__label-arrow\">num</label><div class=\"sk-toggleable__content\"><pre>[&#x27;longitude&#x27;, &#x27;latitude&#x27;, &#x27;housing_median_age&#x27;, &#x27;total_rooms&#x27;, &#x27;total_bedrooms&#x27;, &#x27;population&#x27;, &#x27;households&#x27;, &#x27;median_income&#x27;]</pre></div></div></div><div class=\"sk-serial\"><div class=\"sk-item\"><div class=\"sk-serial\"><div class=\"sk-item\"><div class=\"sk-estimator sk-toggleable\"><input class=\"sk-toggleable__control sk-hidden--visually\" id=\"b67ac304-c360-425c-9b2d-83ecde5b448f\" type=\"checkbox\" ><label for=\"b67ac304-c360-425c-9b2d-83ecde5b448f\" class=\"sk-toggleable__label sk-toggleable__label-arrow\">SimpleImputer</label><div class=\"sk-toggleable__content\"><pre>SimpleImputer(strategy=&#x27;median&#x27;)</pre></div></div></div><div class=\"sk-item\"><div class=\"sk-estimator sk-toggleable\"><input class=\"sk-toggleable__control sk-hidden--visually\" id=\"4868adbb-bec8-46e3-84ac-c76378cdc1d0\" type=\"checkbox\" ><label for=\"4868adbb-bec8-46e3-84ac-c76378cdc1d0\" class=\"sk-toggleable__label sk-toggleable__label-arrow\">StandardScaler</label><div class=\"sk-toggleable__content\"><pre>StandardScaler()</pre></div></div></div></div></div></div></div></div><div class=\"sk-parallel-item\"><div class=\"sk-item\"><div class=\"sk-label-container\"><div class=\"sk-label sk-toggleable\"><input class=\"sk-toggleable__control sk-hidden--visually\" id=\"8895f620-5c34-4d59-b359-031f0e950c22\" type=\"checkbox\" ><label for=\"8895f620-5c34-4d59-b359-031f0e950c22\" class=\"sk-toggleable__label sk-toggleable__label-arrow\">cat</label><div class=\"sk-toggleable__content\"><pre>[&#x27;ocean_proximity&#x27;]</pre></div></div></div><div class=\"sk-serial\"><div class=\"sk-item\"><div class=\"sk-estimator sk-toggleable\"><input class=\"sk-toggleable__control sk-hidden--visually\" id=\"41e96278-7ae2-427c-9294-8cbe601a0538\" type=\"checkbox\" ><label for=\"41e96278-7ae2-427c-9294-8cbe601a0538\" class=\"sk-toggleable__label sk-toggleable__label-arrow\">OneHotEncoder</label><div class=\"sk-toggleable__content\"><pre>OneHotEncoder(handle_unknown=&#x27;ignore&#x27;)</pre></div></div></div></div></div></div></div></div><div class=\"sk-item\"><div class=\"sk-estimator sk-toggleable\"><input class=\"sk-toggleable__control sk-hidden--visually\" id=\"45e0afb6-b493-4572-8096-ae3642748439\" type=\"checkbox\" ><label for=\"45e0afb6-b493-4572-8096-ae3642748439\" class=\"sk-toggleable__label sk-toggleable__label-arrow\">RandomForestRegressor</label><div class=\"sk-toggleable__content\"><pre>RandomForestRegressor(bootstrap=False, max_features=4, n_estimators=30,\n",
       "                      random_state=42)</pre></div></div></div></div></div></div></div>"
      ],
      "text/plain": [
       "Pipeline(steps=[('preprocessing',\n",
       "                 ColumnTransformer(transformers=[('num',\n",
       "                                                  Pipeline(steps=[('imputer',\n",
       "                                                                   SimpleImputer(strategy='median')),\n",
       "                                                                  ('std_scaler',\n",
       "                                                                   StandardScaler())]),\n",
       "                                                  ['longitude', 'latitude',\n",
       "                                                   'housing_median_age',\n",
       "                                                   'total_rooms',\n",
       "                                                   'total_bedrooms',\n",
       "                                                   'population', 'households',\n",
       "                                                   'median_income']),\n",
       "                                                 ('cat',\n",
       "                                                  OneHotEncoder(handle_unknown='ignore'),\n",
       "                                                  ['ocean_proximity'])])),\n",
       "                ('regressor',\n",
       "                 RandomForestRegressor(bootstrap=False, max_features=4,\n",
       "                                       n_estimators=30, random_state=42))])"
      ]
     },
     "execution_count": 81,
     "metadata": {},
     "output_type": "execute_result"
    }
   ],
   "source": [
    "grid_search.best_estimator_"
   ]
  },
  {
   "cell_type": "code",
   "execution_count": 82,
   "metadata": {
    "colab": {
     "base_uri": "https://localhost:8080/",
     "height": 1000
    },
    "executionInfo": {
     "elapsed": 288,
     "status": "ok",
     "timestamp": 1681083783384,
     "user": {
      "displayName": "Diana Carolina VERTIZ DEL VALLE",
      "userId": "04236681262725283456"
     },
     "user_tz": 180
    },
    "id": "q7UYS0hoZQUH",
    "outputId": "54655e09-6029-4d28-8ba1-8bf914bc0c21"
   },
   "outputs": [
    {
     "data": {
      "text/html": [
       "<div>\n",
       "<style scoped>\n",
       "    .dataframe tbody tr th:only-of-type {\n",
       "        vertical-align: middle;\n",
       "    }\n",
       "\n",
       "    .dataframe tbody tr th {\n",
       "        vertical-align: top;\n",
       "    }\n",
       "\n",
       "    .dataframe thead th {\n",
       "        text-align: right;\n",
       "    }\n",
       "</style>\n",
       "<table border=\"1\" class=\"dataframe\">\n",
       "  <thead>\n",
       "    <tr style=\"text-align: right;\">\n",
       "      <th></th>\n",
       "      <th>mean_fit_time</th>\n",
       "      <th>std_fit_time</th>\n",
       "      <th>mean_score_time</th>\n",
       "      <th>std_score_time</th>\n",
       "      <th>param_regressor__max_features</th>\n",
       "      <th>param_regressor__n_estimators</th>\n",
       "      <th>param_regressor__bootstrap</th>\n",
       "      <th>params</th>\n",
       "      <th>split0_test_score</th>\n",
       "      <th>split1_test_score</th>\n",
       "      <th>split2_test_score</th>\n",
       "      <th>mean_test_score</th>\n",
       "      <th>std_test_score</th>\n",
       "      <th>rank_test_score</th>\n",
       "    </tr>\n",
       "  </thead>\n",
       "  <tbody>\n",
       "    <tr>\n",
       "      <th>23</th>\n",
       "      <td>0.828840</td>\n",
       "      <td>0.008857</td>\n",
       "      <td>0.034474</td>\n",
       "      <td>0.000227</td>\n",
       "      <td>4</td>\n",
       "      <td>30</td>\n",
       "      <td>False</td>\n",
       "      <td>{'regressor__bootstrap': False, 'regressor__ma...</td>\n",
       "      <td>0.818666</td>\n",
       "      <td>0.810144</td>\n",
       "      <td>0.809104</td>\n",
       "      <td>0.812638</td>\n",
       "      <td>0.004284</td>\n",
       "      <td>1</td>\n",
       "    </tr>\n",
       "    <tr>\n",
       "      <th>26</th>\n",
       "      <td>1.163365</td>\n",
       "      <td>0.028450</td>\n",
       "      <td>0.035693</td>\n",
       "      <td>0.001254</td>\n",
       "      <td>6</td>\n",
       "      <td>30</td>\n",
       "      <td>False</td>\n",
       "      <td>{'regressor__bootstrap': False, 'regressor__ma...</td>\n",
       "      <td>0.813115</td>\n",
       "      <td>0.812669</td>\n",
       "      <td>0.810701</td>\n",
       "      <td>0.812162</td>\n",
       "      <td>0.001049</td>\n",
       "      <td>2</td>\n",
       "    </tr>\n",
       "    <tr>\n",
       "      <th>11</th>\n",
       "      <td>0.687877</td>\n",
       "      <td>0.034404</td>\n",
       "      <td>0.029145</td>\n",
       "      <td>0.000305</td>\n",
       "      <td>6</td>\n",
       "      <td>30</td>\n",
       "      <td>NaN</td>\n",
       "      <td>{'regressor__max_features': 6, 'regressor__n_e...</td>\n",
       "      <td>0.811376</td>\n",
       "      <td>0.811295</td>\n",
       "      <td>0.806186</td>\n",
       "      <td>0.809619</td>\n",
       "      <td>0.002428</td>\n",
       "      <td>3</td>\n",
       "    </tr>\n",
       "    <tr>\n",
       "      <th>14</th>\n",
       "      <td>0.863470</td>\n",
       "      <td>0.025347</td>\n",
       "      <td>0.028981</td>\n",
       "      <td>0.000485</td>\n",
       "      <td>8</td>\n",
       "      <td>30</td>\n",
       "      <td>NaN</td>\n",
       "      <td>{'regressor__max_features': 8, 'regressor__n_e...</td>\n",
       "      <td>0.813042</td>\n",
       "      <td>0.808582</td>\n",
       "      <td>0.805115</td>\n",
       "      <td>0.808913</td>\n",
       "      <td>0.003245</td>\n",
       "      <td>4</td>\n",
       "    </tr>\n",
       "    <tr>\n",
       "      <th>20</th>\n",
       "      <td>0.620815</td>\n",
       "      <td>0.016161</td>\n",
       "      <td>0.033082</td>\n",
       "      <td>0.000952</td>\n",
       "      <td>3</td>\n",
       "      <td>30</td>\n",
       "      <td>False</td>\n",
       "      <td>{'regressor__bootstrap': False, 'regressor__ma...</td>\n",
       "      <td>0.817923</td>\n",
       "      <td>0.806610</td>\n",
       "      <td>0.800576</td>\n",
       "      <td>0.808370</td>\n",
       "      <td>0.007190</td>\n",
       "      <td>5</td>\n",
       "    </tr>\n",
       "    <tr>\n",
       "      <th>8</th>\n",
       "      <td>0.537676</td>\n",
       "      <td>0.027602</td>\n",
       "      <td>0.031749</td>\n",
       "      <td>0.001546</td>\n",
       "      <td>4</td>\n",
       "      <td>30</td>\n",
       "      <td>NaN</td>\n",
       "      <td>{'regressor__max_features': 4, 'regressor__n_e...</td>\n",
       "      <td>0.813128</td>\n",
       "      <td>0.800960</td>\n",
       "      <td>0.804266</td>\n",
       "      <td>0.806118</td>\n",
       "      <td>0.005137</td>\n",
       "      <td>6</td>\n",
       "    </tr>\n",
       "    <tr>\n",
       "      <th>29</th>\n",
       "      <td>1.447649</td>\n",
       "      <td>0.033099</td>\n",
       "      <td>0.033512</td>\n",
       "      <td>0.002025</td>\n",
       "      <td>8</td>\n",
       "      <td>30</td>\n",
       "      <td>False</td>\n",
       "      <td>{'regressor__bootstrap': False, 'regressor__ma...</td>\n",
       "      <td>0.804882</td>\n",
       "      <td>0.805816</td>\n",
       "      <td>0.803559</td>\n",
       "      <td>0.804752</td>\n",
       "      <td>0.000926</td>\n",
       "      <td>7</td>\n",
       "    </tr>\n",
       "    <tr>\n",
       "      <th>5</th>\n",
       "      <td>0.442630</td>\n",
       "      <td>0.016616</td>\n",
       "      <td>0.032111</td>\n",
       "      <td>0.001866</td>\n",
       "      <td>3</td>\n",
       "      <td>30</td>\n",
       "      <td>NaN</td>\n",
       "      <td>{'regressor__max_features': 3, 'regressor__n_e...</td>\n",
       "      <td>0.806827</td>\n",
       "      <td>0.800270</td>\n",
       "      <td>0.793716</td>\n",
       "      <td>0.800271</td>\n",
       "      <td>0.005352</td>\n",
       "      <td>8</td>\n",
       "    </tr>\n",
       "    <tr>\n",
       "      <th>17</th>\n",
       "      <td>0.469144</td>\n",
       "      <td>0.008868</td>\n",
       "      <td>0.032782</td>\n",
       "      <td>0.000242</td>\n",
       "      <td>2</td>\n",
       "      <td>30</td>\n",
       "      <td>False</td>\n",
       "      <td>{'regressor__bootstrap': False, 'regressor__ma...</td>\n",
       "      <td>0.806261</td>\n",
       "      <td>0.796375</td>\n",
       "      <td>0.793902</td>\n",
       "      <td>0.798846</td>\n",
       "      <td>0.005339</td>\n",
       "      <td>9</td>\n",
       "    </tr>\n",
       "    <tr>\n",
       "      <th>25</th>\n",
       "      <td>0.397251</td>\n",
       "      <td>0.004593</td>\n",
       "      <td>0.014701</td>\n",
       "      <td>0.000094</td>\n",
       "      <td>6</td>\n",
       "      <td>10</td>\n",
       "      <td>False</td>\n",
       "      <td>{'regressor__bootstrap': False, 'regressor__ma...</td>\n",
       "      <td>0.802837</td>\n",
       "      <td>0.792742</td>\n",
       "      <td>0.795911</td>\n",
       "      <td>0.797163</td>\n",
       "      <td>0.004215</td>\n",
       "      <td>10</td>\n",
       "    </tr>\n",
       "    <tr>\n",
       "      <th>22</th>\n",
       "      <td>0.268764</td>\n",
       "      <td>0.005645</td>\n",
       "      <td>0.013431</td>\n",
       "      <td>0.000423</td>\n",
       "      <td>4</td>\n",
       "      <td>10</td>\n",
       "      <td>False</td>\n",
       "      <td>{'regressor__bootstrap': False, 'regressor__ma...</td>\n",
       "      <td>0.801053</td>\n",
       "      <td>0.794641</td>\n",
       "      <td>0.793737</td>\n",
       "      <td>0.796477</td>\n",
       "      <td>0.003257</td>\n",
       "      <td>11</td>\n",
       "    </tr>\n",
       "    <tr>\n",
       "      <th>10</th>\n",
       "      <td>0.255210</td>\n",
       "      <td>0.007998</td>\n",
       "      <td>0.013309</td>\n",
       "      <td>0.000552</td>\n",
       "      <td>6</td>\n",
       "      <td>10</td>\n",
       "      <td>NaN</td>\n",
       "      <td>{'regressor__max_features': 6, 'regressor__n_e...</td>\n",
       "      <td>0.800279</td>\n",
       "      <td>0.787129</td>\n",
       "      <td>0.797202</td>\n",
       "      <td>0.794870</td>\n",
       "      <td>0.005616</td>\n",
       "      <td>12</td>\n",
       "    </tr>\n",
       "    <tr>\n",
       "      <th>13</th>\n",
       "      <td>0.296923</td>\n",
       "      <td>0.008345</td>\n",
       "      <td>0.012161</td>\n",
       "      <td>0.000229</td>\n",
       "      <td>8</td>\n",
       "      <td>10</td>\n",
       "      <td>NaN</td>\n",
       "      <td>{'regressor__max_features': 8, 'regressor__n_e...</td>\n",
       "      <td>0.797026</td>\n",
       "      <td>0.793063</td>\n",
       "      <td>0.786978</td>\n",
       "      <td>0.792356</td>\n",
       "      <td>0.004132</td>\n",
       "      <td>13</td>\n",
       "    </tr>\n",
       "    <tr>\n",
       "      <th>28</th>\n",
       "      <td>0.494237</td>\n",
       "      <td>0.022542</td>\n",
       "      <td>0.013791</td>\n",
       "      <td>0.000251</td>\n",
       "      <td>8</td>\n",
       "      <td>10</td>\n",
       "      <td>False</td>\n",
       "      <td>{'regressor__bootstrap': False, 'regressor__ma...</td>\n",
       "      <td>0.794362</td>\n",
       "      <td>0.790742</td>\n",
       "      <td>0.791224</td>\n",
       "      <td>0.792109</td>\n",
       "      <td>0.001605</td>\n",
       "      <td>14</td>\n",
       "    </tr>\n",
       "    <tr>\n",
       "      <th>2</th>\n",
       "      <td>0.344228</td>\n",
       "      <td>0.010760</td>\n",
       "      <td>0.032041</td>\n",
       "      <td>0.001607</td>\n",
       "      <td>2</td>\n",
       "      <td>30</td>\n",
       "      <td>NaN</td>\n",
       "      <td>{'regressor__max_features': 2, 'regressor__n_e...</td>\n",
       "      <td>0.796270</td>\n",
       "      <td>0.782700</td>\n",
       "      <td>0.787245</td>\n",
       "      <td>0.788738</td>\n",
       "      <td>0.005640</td>\n",
       "      <td>15</td>\n",
       "    </tr>\n",
       "    <tr>\n",
       "      <th>7</th>\n",
       "      <td>0.192311</td>\n",
       "      <td>0.004185</td>\n",
       "      <td>0.014054</td>\n",
       "      <td>0.000460</td>\n",
       "      <td>4</td>\n",
       "      <td>10</td>\n",
       "      <td>NaN</td>\n",
       "      <td>{'regressor__max_features': 4, 'regressor__n_e...</td>\n",
       "      <td>0.798014</td>\n",
       "      <td>0.780914</td>\n",
       "      <td>0.783715</td>\n",
       "      <td>0.787548</td>\n",
       "      <td>0.007489</td>\n",
       "      <td>16</td>\n",
       "    </tr>\n",
       "    <tr>\n",
       "      <th>19</th>\n",
       "      <td>0.216758</td>\n",
       "      <td>0.004324</td>\n",
       "      <td>0.013541</td>\n",
       "      <td>0.000258</td>\n",
       "      <td>3</td>\n",
       "      <td>10</td>\n",
       "      <td>False</td>\n",
       "      <td>{'regressor__bootstrap': False, 'regressor__ma...</td>\n",
       "      <td>0.799217</td>\n",
       "      <td>0.779543</td>\n",
       "      <td>0.777197</td>\n",
       "      <td>0.785319</td>\n",
       "      <td>0.009874</td>\n",
       "      <td>17</td>\n",
       "    </tr>\n",
       "    <tr>\n",
       "      <th>16</th>\n",
       "      <td>0.165141</td>\n",
       "      <td>0.002144</td>\n",
       "      <td>0.013679</td>\n",
       "      <td>0.000192</td>\n",
       "      <td>2</td>\n",
       "      <td>10</td>\n",
       "      <td>False</td>\n",
       "      <td>{'regressor__bootstrap': False, 'regressor__ma...</td>\n",
       "      <td>0.784180</td>\n",
       "      <td>0.773804</td>\n",
       "      <td>0.774595</td>\n",
       "      <td>0.777526</td>\n",
       "      <td>0.004716</td>\n",
       "      <td>18</td>\n",
       "    </tr>\n",
       "    <tr>\n",
       "      <th>4</th>\n",
       "      <td>0.163763</td>\n",
       "      <td>0.000679</td>\n",
       "      <td>0.015151</td>\n",
       "      <td>0.001231</td>\n",
       "      <td>3</td>\n",
       "      <td>10</td>\n",
       "      <td>NaN</td>\n",
       "      <td>{'regressor__max_features': 3, 'regressor__n_e...</td>\n",
       "      <td>0.787175</td>\n",
       "      <td>0.772878</td>\n",
       "      <td>0.762818</td>\n",
       "      <td>0.774290</td>\n",
       "      <td>0.009994</td>\n",
       "      <td>19</td>\n",
       "    </tr>\n",
       "    <tr>\n",
       "      <th>1</th>\n",
       "      <td>0.127134</td>\n",
       "      <td>0.006957</td>\n",
       "      <td>0.013761</td>\n",
       "      <td>0.000983</td>\n",
       "      <td>2</td>\n",
       "      <td>10</td>\n",
       "      <td>NaN</td>\n",
       "      <td>{'regressor__max_features': 2, 'regressor__n_e...</td>\n",
       "      <td>0.771244</td>\n",
       "      <td>0.756450</td>\n",
       "      <td>0.768768</td>\n",
       "      <td>0.765487</td>\n",
       "      <td>0.006470</td>\n",
       "      <td>20</td>\n",
       "    </tr>\n",
       "    <tr>\n",
       "      <th>24</th>\n",
       "      <td>0.125221</td>\n",
       "      <td>0.003331</td>\n",
       "      <td>0.007188</td>\n",
       "      <td>0.000411</td>\n",
       "      <td>6</td>\n",
       "      <td>3</td>\n",
       "      <td>False</td>\n",
       "      <td>{'regressor__bootstrap': False, 'regressor__ma...</td>\n",
       "      <td>0.747456</td>\n",
       "      <td>0.734244</td>\n",
       "      <td>0.755264</td>\n",
       "      <td>0.745655</td>\n",
       "      <td>0.008675</td>\n",
       "      <td>21</td>\n",
       "    </tr>\n",
       "    <tr>\n",
       "      <th>27</th>\n",
       "      <td>0.159782</td>\n",
       "      <td>0.004106</td>\n",
       "      <td>0.007276</td>\n",
       "      <td>0.000316</td>\n",
       "      <td>8</td>\n",
       "      <td>3</td>\n",
       "      <td>False</td>\n",
       "      <td>{'regressor__bootstrap': False, 'regressor__ma...</td>\n",
       "      <td>0.756243</td>\n",
       "      <td>0.735288</td>\n",
       "      <td>0.743846</td>\n",
       "      <td>0.745126</td>\n",
       "      <td>0.008603</td>\n",
       "      <td>22</td>\n",
       "    </tr>\n",
       "    <tr>\n",
       "      <th>9</th>\n",
       "      <td>0.080547</td>\n",
       "      <td>0.002545</td>\n",
       "      <td>0.006337</td>\n",
       "      <td>0.000257</td>\n",
       "      <td>6</td>\n",
       "      <td>3</td>\n",
       "      <td>NaN</td>\n",
       "      <td>{'regressor__max_features': 6, 'regressor__n_e...</td>\n",
       "      <td>0.747856</td>\n",
       "      <td>0.729591</td>\n",
       "      <td>0.750250</td>\n",
       "      <td>0.742566</td>\n",
       "      <td>0.009227</td>\n",
       "      <td>23</td>\n",
       "    </tr>\n",
       "    <tr>\n",
       "      <th>21</th>\n",
       "      <td>0.088995</td>\n",
       "      <td>0.002071</td>\n",
       "      <td>0.006803</td>\n",
       "      <td>0.000221</td>\n",
       "      <td>4</td>\n",
       "      <td>3</td>\n",
       "      <td>False</td>\n",
       "      <td>{'regressor__bootstrap': False, 'regressor__ma...</td>\n",
       "      <td>0.741320</td>\n",
       "      <td>0.742509</td>\n",
       "      <td>0.731811</td>\n",
       "      <td>0.738547</td>\n",
       "      <td>0.004788</td>\n",
       "      <td>24</td>\n",
       "    </tr>\n",
       "    <tr>\n",
       "      <th>12</th>\n",
       "      <td>0.097992</td>\n",
       "      <td>0.002806</td>\n",
       "      <td>0.006329</td>\n",
       "      <td>0.000222</td>\n",
       "      <td>8</td>\n",
       "      <td>3</td>\n",
       "      <td>NaN</td>\n",
       "      <td>{'regressor__max_features': 8, 'regressor__n_e...</td>\n",
       "      <td>0.749440</td>\n",
       "      <td>0.723994</td>\n",
       "      <td>0.736641</td>\n",
       "      <td>0.736692</td>\n",
       "      <td>0.010388</td>\n",
       "      <td>25</td>\n",
       "    </tr>\n",
       "    <tr>\n",
       "      <th>18</th>\n",
       "      <td>0.073916</td>\n",
       "      <td>0.001185</td>\n",
       "      <td>0.006878</td>\n",
       "      <td>0.000329</td>\n",
       "      <td>3</td>\n",
       "      <td>3</td>\n",
       "      <td>False</td>\n",
       "      <td>{'regressor__bootstrap': False, 'regressor__ma...</td>\n",
       "      <td>0.743057</td>\n",
       "      <td>0.720719</td>\n",
       "      <td>0.716085</td>\n",
       "      <td>0.726621</td>\n",
       "      <td>0.011776</td>\n",
       "      <td>26</td>\n",
       "    </tr>\n",
       "    <tr>\n",
       "      <th>6</th>\n",
       "      <td>0.067125</td>\n",
       "      <td>0.001832</td>\n",
       "      <td>0.007036</td>\n",
       "      <td>0.000250</td>\n",
       "      <td>4</td>\n",
       "      <td>3</td>\n",
       "      <td>NaN</td>\n",
       "      <td>{'regressor__max_features': 4, 'regressor__n_e...</td>\n",
       "      <td>0.728374</td>\n",
       "      <td>0.708320</td>\n",
       "      <td>0.718832</td>\n",
       "      <td>0.718509</td>\n",
       "      <td>0.008190</td>\n",
       "      <td>27</td>\n",
       "    </tr>\n",
       "    <tr>\n",
       "      <th>15</th>\n",
       "      <td>0.057306</td>\n",
       "      <td>0.001341</td>\n",
       "      <td>0.006725</td>\n",
       "      <td>0.000306</td>\n",
       "      <td>2</td>\n",
       "      <td>3</td>\n",
       "      <td>False</td>\n",
       "      <td>{'regressor__bootstrap': False, 'regressor__ma...</td>\n",
       "      <td>0.712412</td>\n",
       "      <td>0.694398</td>\n",
       "      <td>0.705046</td>\n",
       "      <td>0.703952</td>\n",
       "      <td>0.007395</td>\n",
       "      <td>28</td>\n",
       "    </tr>\n",
       "    <tr>\n",
       "      <th>3</th>\n",
       "      <td>0.054384</td>\n",
       "      <td>0.001158</td>\n",
       "      <td>0.006871</td>\n",
       "      <td>0.000338</td>\n",
       "      <td>3</td>\n",
       "      <td>3</td>\n",
       "      <td>NaN</td>\n",
       "      <td>{'regressor__max_features': 3, 'regressor__n_e...</td>\n",
       "      <td>0.707966</td>\n",
       "      <td>0.701277</td>\n",
       "      <td>0.692688</td>\n",
       "      <td>0.700644</td>\n",
       "      <td>0.006253</td>\n",
       "      <td>29</td>\n",
       "    </tr>\n",
       "    <tr>\n",
       "      <th>0</th>\n",
       "      <td>0.055088</td>\n",
       "      <td>0.002684</td>\n",
       "      <td>0.008999</td>\n",
       "      <td>0.000809</td>\n",
       "      <td>2</td>\n",
       "      <td>3</td>\n",
       "      <td>NaN</td>\n",
       "      <td>{'regressor__max_features': 2, 'regressor__n_e...</td>\n",
       "      <td>0.683706</td>\n",
       "      <td>0.672101</td>\n",
       "      <td>0.688449</td>\n",
       "      <td>0.681419</td>\n",
       "      <td>0.006867</td>\n",
       "      <td>30</td>\n",
       "    </tr>\n",
       "  </tbody>\n",
       "</table>\n",
       "</div>"
      ],
      "text/plain": [
       "    mean_fit_time  std_fit_time  mean_score_time  std_score_time  \\\n",
       "23       0.828840      0.008857         0.034474        0.000227   \n",
       "26       1.163365      0.028450         0.035693        0.001254   \n",
       "11       0.687877      0.034404         0.029145        0.000305   \n",
       "14       0.863470      0.025347         0.028981        0.000485   \n",
       "20       0.620815      0.016161         0.033082        0.000952   \n",
       "8        0.537676      0.027602         0.031749        0.001546   \n",
       "29       1.447649      0.033099         0.033512        0.002025   \n",
       "5        0.442630      0.016616         0.032111        0.001866   \n",
       "17       0.469144      0.008868         0.032782        0.000242   \n",
       "25       0.397251      0.004593         0.014701        0.000094   \n",
       "22       0.268764      0.005645         0.013431        0.000423   \n",
       "10       0.255210      0.007998         0.013309        0.000552   \n",
       "13       0.296923      0.008345         0.012161        0.000229   \n",
       "28       0.494237      0.022542         0.013791        0.000251   \n",
       "2        0.344228      0.010760         0.032041        0.001607   \n",
       "7        0.192311      0.004185         0.014054        0.000460   \n",
       "19       0.216758      0.004324         0.013541        0.000258   \n",
       "16       0.165141      0.002144         0.013679        0.000192   \n",
       "4        0.163763      0.000679         0.015151        0.001231   \n",
       "1        0.127134      0.006957         0.013761        0.000983   \n",
       "24       0.125221      0.003331         0.007188        0.000411   \n",
       "27       0.159782      0.004106         0.007276        0.000316   \n",
       "9        0.080547      0.002545         0.006337        0.000257   \n",
       "21       0.088995      0.002071         0.006803        0.000221   \n",
       "12       0.097992      0.002806         0.006329        0.000222   \n",
       "18       0.073916      0.001185         0.006878        0.000329   \n",
       "6        0.067125      0.001832         0.007036        0.000250   \n",
       "15       0.057306      0.001341         0.006725        0.000306   \n",
       "3        0.054384      0.001158         0.006871        0.000338   \n",
       "0        0.055088      0.002684         0.008999        0.000809   \n",
       "\n",
       "   param_regressor__max_features param_regressor__n_estimators  \\\n",
       "23                             4                            30   \n",
       "26                             6                            30   \n",
       "11                             6                            30   \n",
       "14                             8                            30   \n",
       "20                             3                            30   \n",
       "8                              4                            30   \n",
       "29                             8                            30   \n",
       "5                              3                            30   \n",
       "17                             2                            30   \n",
       "25                             6                            10   \n",
       "22                             4                            10   \n",
       "10                             6                            10   \n",
       "13                             8                            10   \n",
       "28                             8                            10   \n",
       "2                              2                            30   \n",
       "7                              4                            10   \n",
       "19                             3                            10   \n",
       "16                             2                            10   \n",
       "4                              3                            10   \n",
       "1                              2                            10   \n",
       "24                             6                             3   \n",
       "27                             8                             3   \n",
       "9                              6                             3   \n",
       "21                             4                             3   \n",
       "12                             8                             3   \n",
       "18                             3                             3   \n",
       "6                              4                             3   \n",
       "15                             2                             3   \n",
       "3                              3                             3   \n",
       "0                              2                             3   \n",
       "\n",
       "   param_regressor__bootstrap  \\\n",
       "23                      False   \n",
       "26                      False   \n",
       "11                        NaN   \n",
       "14                        NaN   \n",
       "20                      False   \n",
       "8                         NaN   \n",
       "29                      False   \n",
       "5                         NaN   \n",
       "17                      False   \n",
       "25                      False   \n",
       "22                      False   \n",
       "10                        NaN   \n",
       "13                        NaN   \n",
       "28                      False   \n",
       "2                         NaN   \n",
       "7                         NaN   \n",
       "19                      False   \n",
       "16                      False   \n",
       "4                         NaN   \n",
       "1                         NaN   \n",
       "24                      False   \n",
       "27                      False   \n",
       "9                         NaN   \n",
       "21                      False   \n",
       "12                        NaN   \n",
       "18                      False   \n",
       "6                         NaN   \n",
       "15                      False   \n",
       "3                         NaN   \n",
       "0                         NaN   \n",
       "\n",
       "                                               params  split0_test_score  \\\n",
       "23  {'regressor__bootstrap': False, 'regressor__ma...           0.818666   \n",
       "26  {'regressor__bootstrap': False, 'regressor__ma...           0.813115   \n",
       "11  {'regressor__max_features': 6, 'regressor__n_e...           0.811376   \n",
       "14  {'regressor__max_features': 8, 'regressor__n_e...           0.813042   \n",
       "20  {'regressor__bootstrap': False, 'regressor__ma...           0.817923   \n",
       "8   {'regressor__max_features': 4, 'regressor__n_e...           0.813128   \n",
       "29  {'regressor__bootstrap': False, 'regressor__ma...           0.804882   \n",
       "5   {'regressor__max_features': 3, 'regressor__n_e...           0.806827   \n",
       "17  {'regressor__bootstrap': False, 'regressor__ma...           0.806261   \n",
       "25  {'regressor__bootstrap': False, 'regressor__ma...           0.802837   \n",
       "22  {'regressor__bootstrap': False, 'regressor__ma...           0.801053   \n",
       "10  {'regressor__max_features': 6, 'regressor__n_e...           0.800279   \n",
       "13  {'regressor__max_features': 8, 'regressor__n_e...           0.797026   \n",
       "28  {'regressor__bootstrap': False, 'regressor__ma...           0.794362   \n",
       "2   {'regressor__max_features': 2, 'regressor__n_e...           0.796270   \n",
       "7   {'regressor__max_features': 4, 'regressor__n_e...           0.798014   \n",
       "19  {'regressor__bootstrap': False, 'regressor__ma...           0.799217   \n",
       "16  {'regressor__bootstrap': False, 'regressor__ma...           0.784180   \n",
       "4   {'regressor__max_features': 3, 'regressor__n_e...           0.787175   \n",
       "1   {'regressor__max_features': 2, 'regressor__n_e...           0.771244   \n",
       "24  {'regressor__bootstrap': False, 'regressor__ma...           0.747456   \n",
       "27  {'regressor__bootstrap': False, 'regressor__ma...           0.756243   \n",
       "9   {'regressor__max_features': 6, 'regressor__n_e...           0.747856   \n",
       "21  {'regressor__bootstrap': False, 'regressor__ma...           0.741320   \n",
       "12  {'regressor__max_features': 8, 'regressor__n_e...           0.749440   \n",
       "18  {'regressor__bootstrap': False, 'regressor__ma...           0.743057   \n",
       "6   {'regressor__max_features': 4, 'regressor__n_e...           0.728374   \n",
       "15  {'regressor__bootstrap': False, 'regressor__ma...           0.712412   \n",
       "3   {'regressor__max_features': 3, 'regressor__n_e...           0.707966   \n",
       "0   {'regressor__max_features': 2, 'regressor__n_e...           0.683706   \n",
       "\n",
       "    split1_test_score  split2_test_score  mean_test_score  std_test_score  \\\n",
       "23           0.810144           0.809104         0.812638        0.004284   \n",
       "26           0.812669           0.810701         0.812162        0.001049   \n",
       "11           0.811295           0.806186         0.809619        0.002428   \n",
       "14           0.808582           0.805115         0.808913        0.003245   \n",
       "20           0.806610           0.800576         0.808370        0.007190   \n",
       "8            0.800960           0.804266         0.806118        0.005137   \n",
       "29           0.805816           0.803559         0.804752        0.000926   \n",
       "5            0.800270           0.793716         0.800271        0.005352   \n",
       "17           0.796375           0.793902         0.798846        0.005339   \n",
       "25           0.792742           0.795911         0.797163        0.004215   \n",
       "22           0.794641           0.793737         0.796477        0.003257   \n",
       "10           0.787129           0.797202         0.794870        0.005616   \n",
       "13           0.793063           0.786978         0.792356        0.004132   \n",
       "28           0.790742           0.791224         0.792109        0.001605   \n",
       "2            0.782700           0.787245         0.788738        0.005640   \n",
       "7            0.780914           0.783715         0.787548        0.007489   \n",
       "19           0.779543           0.777197         0.785319        0.009874   \n",
       "16           0.773804           0.774595         0.777526        0.004716   \n",
       "4            0.772878           0.762818         0.774290        0.009994   \n",
       "1            0.756450           0.768768         0.765487        0.006470   \n",
       "24           0.734244           0.755264         0.745655        0.008675   \n",
       "27           0.735288           0.743846         0.745126        0.008603   \n",
       "9            0.729591           0.750250         0.742566        0.009227   \n",
       "21           0.742509           0.731811         0.738547        0.004788   \n",
       "12           0.723994           0.736641         0.736692        0.010388   \n",
       "18           0.720719           0.716085         0.726621        0.011776   \n",
       "6            0.708320           0.718832         0.718509        0.008190   \n",
       "15           0.694398           0.705046         0.703952        0.007395   \n",
       "3            0.701277           0.692688         0.700644        0.006253   \n",
       "0            0.672101           0.688449         0.681419        0.006867   \n",
       "\n",
       "    rank_test_score  \n",
       "23                1  \n",
       "26                2  \n",
       "11                3  \n",
       "14                4  \n",
       "20                5  \n",
       "8                 6  \n",
       "29                7  \n",
       "5                 8  \n",
       "17                9  \n",
       "25               10  \n",
       "22               11  \n",
       "10               12  \n",
       "13               13  \n",
       "28               14  \n",
       "2                15  \n",
       "7                16  \n",
       "19               17  \n",
       "16               18  \n",
       "4                19  \n",
       "1                20  \n",
       "24               21  \n",
       "27               22  \n",
       "9                23  \n",
       "21               24  \n",
       "12               25  \n",
       "18               26  \n",
       "6                27  \n",
       "15               28  \n",
       "3                29  \n",
       "0                30  "
      ]
     },
     "execution_count": 82,
     "metadata": {},
     "output_type": "execute_result"
    }
   ],
   "source": [
    "cv_res = pd.DataFrame(grid_search.cv_results_)\n",
    "cv_res.sort_values(by=\"mean_test_score\", ascending=False, inplace=True)\n",
    "cv_res"
   ]
  },
  {
   "cell_type": "code",
   "execution_count": null,
   "metadata": {},
   "outputs": [],
   "source": []
  }
 ],
 "metadata": {
  "colab": {
   "authorship_tag": "ABX9TyP5SRxclRgxSSGewiJSOVLs",
   "collapsed_sections": [
    "ss6-HjCxifzG"
   ],
   "mount_file_id": "1HOiftFxxnyNVn5vZhQ3UWpvdjNlTx3Qu",
   "provenance": []
  },
  "kernelspec": {
   "display_name": "Python 3 (ipykernel)",
   "language": "python",
   "name": "python3"
  },
  "language_info": {
   "codemirror_mode": {
    "name": "ipython",
    "version": 3
   },
   "file_extension": ".py",
   "mimetype": "text/x-python",
   "name": "python",
   "nbconvert_exporter": "python",
   "pygments_lexer": "ipython3",
   "version": "3.9.13"
  }
 },
 "nbformat": 4,
 "nbformat_minor": 4
}
